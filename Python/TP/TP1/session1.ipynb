{
 "cells": [
  {
   "cell_type": "markdown",
   "id": "bdeffb86-7f4a-4bab-88fb-9bec50a23919",
   "metadata": {},
   "source": [
    "# Session 1"
   ]
  },
  {
   "cell_type": "markdown",
   "id": "5fff5ddc-a575-409c-b521-0d27f56d50d2",
   "metadata": {},
   "source": [
    "Résoudre chacun des exercices listés ci-dessous.  \n",
    "Ne pas hésiter à parcourir le notebook `pratique.ipynb` ou la documentation python sur internet pour trouver des solutions !"
   ]
  },
  {
   "cell_type": "markdown",
   "id": "68bde04b-ab48-4aee-99ff-9c20067ccdb6",
   "metadata": {},
   "source": [
    "## Exercices"
   ]
  },
  {
   "cell_type": "markdown",
   "id": "8c139a52-6b4f-47ab-b45a-092974cc095c",
   "metadata": {},
   "source": [
    "### Chaîne de caractères"
   ]
  },
  {
   "cell_type": "markdown",
   "id": "f3f1bcdb-5061-4e65-8627-4f016fdb8c3d",
   "metadata": {},
   "source": [
    "**Exercice 1 : boucle ``for``**\n",
    "\n",
    "Implémenter une fonction ``to_list`` qui renvoie la liste des caractères d'une chaîne de caractères, sans utiliser la fonction ``list``.\n",
    "\n",
    "Par exemple,\n",
    "* pour `s = \"python\"`, la fonction renverra la liste `[\"p\", \"y\", \"t\", \"h\", \"o\", \"n\"]`\n",
    "* pour `s = \"\"`, la fonction renverra la liste `[]`"
   ]
  },
  {
   "cell_type": "markdown",
   "id": "a79403af-85a2-46ee-bcd1-54308c3b792a",
   "metadata": {},
   "source": [
    "**Exercice 2 : Décomposer une phrase**\n",
    "\n",
    "Implémenter une fonction qui prend en entrée une phrase et qui renvoie un par un les mots en minuscule de cette phrase.\n",
    "Exemple :  \n",
    "`Mon chien est marron, et court très vite.` renverra:\n",
    "```\n",
    "mon\n",
    "chien\n",
    "est\n",
    "marron\n",
    "et\n",
    "court\n",
    "très\n",
    "vite\n",
    "```"
   ]
  },
  {
   "cell_type": "markdown",
   "id": "ae2e4377-2970-44ff-9eb6-2a88c41ceb2b",
   "metadata": {},
   "source": [
    "**Exercice 3 : trouver l'extension d'un fichier**\n",
    "\n",
    "Implémenter une fonction qui permettra de trouver quelle est l'extension d'un fichier parmi celles listées ci-dessous:\n",
    "- `.gif` -> `image`\n",
    "- `.jpg` -> `image`\n",
    "- `.jpeg` -> `image`\n",
    "- `.png` -> `image`\n",
    "- `.pdf` -> `text`\n",
    "- `.txt` -> `text`\n",
    "\n",
    "Et renverra en plus quel est le type du fichier.  \n",
    "Exemple : `my_cat.png` renverra `image/.png`"
   ]
  },
  {
   "cell_type": "markdown",
   "id": "0a406061-b31e-469d-92fd-708addbab693",
   "metadata": {},
   "source": [
    "### Listes"
   ]
  },
  {
   "cell_type": "markdown",
   "id": "e40bcb69-0d37-4bbb-85e1-8043bd792cb6",
   "metadata": {},
   "source": [
    "**Exercice 1 : Calcul du carré des entiers**  \n",
    "\n",
    "\n",
    "Implémenter une fonction `square` prenant comme argument `n` et renvoyant la liste du carré des nombres pairs jusqu'à n.  \n",
    "Exemple:\n",
    "\n",
    "```\n",
    ">>> square(10)\n",
    "[0, 4, 16, 36, 64, 100]\n",
    "```"
   ]
  },
  {
   "cell_type": "markdown",
   "id": "b393b9bf-4f77-4b05-848b-4e5209f5289d",
   "metadata": {},
   "source": [
    "**Exercice 2 : Test d'égalité entre deux liste**\n",
    "\n",
    "Implémenter une fonction ``equal`` qui renvoie qui renvoie ``True`` si deux listes passées en argument sont égales élément par élément, sans utiliser l'opérateur ``==``\n",
    "\n",
    "Par exemple,\n",
    "* pour `l1 = []` et `l2 = []`, la fonction renverra `True`\n",
    "* pour `l1 = [1, 2, 3]` et `l2 = [1, 2, 3]`, la fonction renverra `True`\n",
    "* pour `l1 = [1, 2, 3]` et `l2 = [1, 3, 2]`, la fonction renverra `False`\n",
    "* pour `l1 = [1, 2, 3]` et `l2 = [1, 2]`, la fonction renverra `False`"
   ]
  },
  {
   "cell_type": "markdown",
   "id": "5506c68f-cfad-4856-99af-bcb41ef05958",
   "metadata": {},
   "source": [
    "**Exercice 3 : Fibonacci**\n",
    "\n",
    "Implémenter une fonction `fibo` qui renvoie la suite de Fibonacci dont les élements sont inférieurs à `n`. \n",
    "\n",
    "Par exemple, pour `n=6`, la fonction renverra `[0, 1, 1, 2, 3, 5]`"
   ]
  },
  {
   "cell_type": "markdown",
   "id": "839bacd2-c33a-4c42-9c89-5e448ade5b87",
   "metadata": {},
   "source": [
    "## Conditions"
   ]
  },
  {
   "cell_type": "markdown",
   "id": "de9abf62-4dc6-40aa-8e55-ea5bc8e1d199",
   "metadata": {},
   "source": [
    "**Exercice 1 : Egalité des chiffres**\n",
    "\n",
    "Implémenter une fonction `equal` permettant de dire si deux chiffres `a` et `b` sont égaux, et sinon de dire si a est plus ou moins grand que b.\n",
    "\n",
    "Exemple : \n",
    "\n",
    "`equal(2, 3)` renvoie `plus petit`"
   ]
  },
  {
   "cell_type": "markdown",
   "id": "4f88d5c1-5a07-454c-a103-c341ffb91f22",
   "metadata": {},
   "source": [
    "**Exercice 2 : Trouver le type**\n",
    "\n",
    "Implémenter une fonction `varType` qui prends en entrée un argument et renvoie :\n",
    "- `chaîne de caractères` si c'est un string\n",
    "- `nombre` si c'est un `int` ou un `float`\n",
    "- `liste` si c'est une `list`\n",
    "- `...` si c'est un autre argument"
   ]
  },
  {
   "cell_type": "markdown",
   "id": "bfc753a6-a304-4f88-bbfb-35a6c72d9c5c",
   "metadata": {},
   "source": [
    "**Exercice 3 : L'heure du repas**\n",
    "\n",
    "Implémenter une fonction `meal_time` qui prend en entrée un `str` indiquant une heure (`8:30`, `16:45` ...) et qui renvoie quel repas il est temps de prendre.  \n",
    "Les plages horaires sont:\n",
    "- petit-déjeuner entre 7h et 10h\n",
    "- déjeuner entre 12h et 15h\n",
    "- dîner entre 18h et 22h\n",
    "\n",
    "Exemple :  \n",
    "`meal_time(\"8:23\")` renvoie `petit-déjeuner`  \n",
    "`meal_time(\"11:30\")` ne renvoie rien"
   ]
  }
 ],
 "metadata": {
  "kernelspec": {
   "display_name": "Python 3 (ipykernel)",
   "language": "python",
   "name": "python3"
  },
  "language_info": {
   "codemirror_mode": {
    "name": "ipython",
    "version": 3
   },
   "file_extension": ".py",
   "mimetype": "text/x-python",
   "name": "python",
   "nbconvert_exporter": "python",
   "pygments_lexer": "ipython3",
   "version": "3.12.2"
  }
 },
 "nbformat": 4,
 "nbformat_minor": 5
}
