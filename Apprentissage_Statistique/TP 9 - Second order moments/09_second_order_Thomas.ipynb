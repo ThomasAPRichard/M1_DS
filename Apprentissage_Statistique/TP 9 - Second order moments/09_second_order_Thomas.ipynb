{
 "cells": [
  {
   "cell_type": "markdown",
   "metadata": {
    "id": "CF7Q8jEeEPM1",
    "slideshow": {
     "slide_type": "slide"
    }
   },
   "source": [
    "## <font color=darkblue> Optimization using second order gradient descent </font>\n"
   ]
  },
  {
   "cell_type": "markdown",
   "metadata": {
    "id": "NG6cr03iSYt6",
    "slideshow": {
     "slide_type": "skip"
    }
   },
   "source": [
    "In this notebook, we provide an **overview of second order gradient-based optimization algorithms**. Supervised learning applications are usually based on the minimization of an objective function on $\\mathbb{R}^d$ (kernel based SVM models, penalized regression, maximum likelihood estimation of neural networks) and accelerated gradient methods are the go-to solutions to solve these optimization problems.\n",
    "\n",
    "The results provided in this notebook are valid with assumptions on the target functions such as convexity or strong convexity (some of them may be relaxed). Although these algorithms are widely used, keep in mind that these assumptions do not hold in practice and that  non-convexity stems from the arbitrary form of the loss functions used in machine learning.\n",
    "\n",
    "This also motivate **alternative methods such as evolutionary approaches for difficult non-linear non-convex optimisation problems** in continuous and discrete domains (for instance the CMA-ES algorithm)."
   ]
  },
  {
   "cell_type": "markdown",
   "metadata": {
    "id": "gv1tTxcDjLW6",
    "slideshow": {
     "slide_type": "skip"
    }
   },
   "source": [
    "### <font color=darkred> Bibliography & additional ressources </font>"
   ]
  },
  {
   "cell_type": "markdown",
   "metadata": {
    "id": "SLsK5IHEjPWb",
    "slideshow": {
     "slide_type": "skip"
    }
   },
   "source": [
    "- [1] Convex Optimization, S. Boyd & L. Vandenberghe, 2009, https://web.stanford.edu/~boyd/cvxbook/bv_cvxbook.pdf\n",
    "``Very complete book on convex optimization and gradient descent algorithms (full gradient, Newton's method, constrained problems)``\n",
    ", etc.\n",
    "- [2] Convex Optimization: Algorithms and\n",
    "Complexity, S. Bubeck, 2015, https://arxiv.org/pdf/1405.4980.pdf\n",
    "\n",
    "-  [3] Probabilistic machine learning: an introduction, Kevin P. Murphy, 2022, https://probml.github.io/pml-book/book1.html\n",
    "``Full book online with all basics on machine learning. Not state-of-the-art but very good introduction``\n",
    "\n",
    "- [4] Learning theory from first principles, F. Bach, 2023, https://www.di.ens.fr/~fbach/ltfp_book.pdf\n",
    "``Much more advanced reference, Chapter 5 on optimization``\n",
    "\n",
    "- [5] Algorithms for optimization, M. J. Kochenderfer and T. A. Wheeler, 2019.\n"
   ]
  },
  {
   "cell_type": "markdown",
   "metadata": {
    "id": "B61KWCTMHjsy",
    "slideshow": {
     "slide_type": "slide"
    }
   },
   "source": [
    "### <font color=darkred>Introduction : general framework & motivations</font>\n",
    "\n",
    "In machine learning applications, parameter inference often boils down to solving $\\mathrm{argmin}_{\\theta \\in \\mathbb{R}^d} \\,\\{f(\\theta)=\\frac 1n \\sum_{i=1}^n \\ell(\\theta, y_i, x_i) + \\lambda \\mathrm{pen}(\\theta)\\}$, with $\\lambda>0$, $\\mathrm{pen}(\\cdot)$ some penalization function and $(x_i,y_i)_{1\\leq i\\leq n}$ are ``training examples of inputs and outputs`` (in a supervised setting), and $\\theta$ is an ``unknown parameter to be estimated.``"
   ]
  },
  {
   "cell_type": "markdown",
   "metadata": {
    "slideshow": {
     "slide_type": "slide"
    }
   },
   "source": [
    "In this notebook, we do not focus on machine learning applications and **consider a generic target function $f: \\mathbb{R}^d\\to \\mathbb{R}$**."
   ]
  },
  {
   "cell_type": "code",
   "execution_count": null,
   "metadata": {},
   "outputs": [],
   "source": [
    "!pip install autograd-minimize"
   ]
  },
  {
   "cell_type": "code",
   "execution_count": 2,
   "metadata": {
    "executionInfo": {
     "elapsed": 8502,
     "status": "ok",
     "timestamp": 1685965004542,
     "user": {
      "displayName": "Max Cohen",
      "userId": "07045204525464189350"
     },
     "user_tz": -120
    },
    "id": "SQHBC-8OJxKK",
    "slideshow": {
     "slide_type": "skip"
    },
    "tags": []
   },
   "outputs": [],
   "source": [
    "import numpy as np\n",
    "import autograd\n",
    "import matplotlib.pyplot as plt\n",
    "import matplotlib.cm as cm\n",
    "import torch\n",
    "\n",
    "np.set_printoptions(precision=2)\n",
    "plt.rcParams.update(\n",
    "    {\n",
    "        \"font.size\": 25,\n",
    "        \"figure.figsize\": (14, 7),\n",
    "        \"axes.grid\": True,\n",
    "        \"grid.color\": \"#93a1a1\",\n",
    "        \"grid.alpha\": 0.3,\n",
    "        \"axes.spines.top\": False,\n",
    "        \"axes.spines.right\": False,\n",
    "    }\n",
    ")"
   ]
  },
  {
   "cell_type": "markdown",
   "metadata": {
    "id": "WJ0d_yRIRIDw",
    "slideshow": {
     "slide_type": "skip"
    }
   },
   "source": [
    "#### Simple cost function to test the algorithms"
   ]
  },
  {
   "cell_type": "markdown",
   "metadata": {
    "id": "_EOokWxB4IRB",
    "slideshow": {
     "slide_type": "skip"
    }
   },
   "source": [
    "We may consider the Booth and Rozenbrock functions, see fo instance [5], to test the optimization procedures presented in this session:\n",
    "$$\n",
    "f_{\\mathrm{booth}} : (x_1,x_2) \\mapsto (x_1+2x_2-7)^2 + (2x_1+x_2-5)^2\n",
    "$$\n",
    "and\n",
    "$$\n",
    "f_{\\mathrm{roz}} : (x_1,x_2) \\mapsto (1-x_1)^2 + 100(x_2-x_1^2)^2\\,.\n",
    "$$\n"
   ]
  },
  {
   "cell_type": "markdown",
   "metadata": {},
   "source": [
    "<font color=darkred>Write the Booth and Rozenbrock functions</font>"
   ]
  },
  {
   "cell_type": "code",
   "execution_count": 17,
   "metadata": {
    "executionInfo": {
     "elapsed": 6,
     "status": "ok",
     "timestamp": 1685965133283,
     "user": {
      "displayName": "Max Cohen",
      "userId": "07045204525464189350"
     },
     "user_tz": -120
    },
    "id": "inBtkl2WGp56",
    "slideshow": {
     "slide_type": "skip"
    },
    "tags": []
   },
   "outputs": [],
   "source": [
    "def rozenbrock(x):\n",
    "    x1 = x[0]\n",
    "    x2 = x[1]\n",
    "    return (1 - x1) ** 2 + 100 * (x2 - x1 ** 2) ** 2\n",
    "\n",
    "def booth(x, y):\n",
    "    return (x + 2 * y - 7) ** 2 + (2 * x + y - 5) ** 2"
   ]
  },
  {
   "cell_type": "markdown",
   "metadata": {
    "id": "GxDZ_IL_GF4v",
    "slideshow": {
     "slide_type": "slide"
    }
   },
   "source": [
    "### <font color=darkred> Newton's method </font>"
   ]
  },
  {
   "cell_type": "markdown",
   "metadata": {
    "id": "J0oEotU_NHkP",
    "slideshow": {
     "slide_type": "slide"
    }
   },
   "source": [
    "Let $\\theta_k$ be the current parameter estimate. We consider the second order Taylor expansion of the target $f$. \n",
    "\n",
    "More precisely, this approach proposes to locally **approximate the function $f$ around $\\theta_k$ by a second-order Taylor expansion**.\n"
   ]
  },
  {
   "cell_type": "markdown",
   "metadata": {
    "slideshow": {
     "slide_type": "slide"
    }
   },
   "source": [
    "In the case where $\\nabla^2 f(\\theta_k)$ is definite positive, the function\n",
    "$$\n",
    "\\theta\\mapsto f(\\theta_k) + \\theta^\\top\\nabla f(\\theta_k) + \\frac{1}{2}\\theta^\\top\\nabla^2  f(\\theta_k)\\theta\n",
    "$$\n",
    "admits a unique minimum at \n",
    "$$\n",
    "\\theta_* = -(\\nabla^2 f(\\theta_k))^{-1}\\nabla f(\\theta_k)\\,.\n",
    "$$\n",
    "This motivates the following iterative algorithm:\n",
    "$$\n",
    "\\theta_{k+1} = \\theta_k - (\\nabla^2 f(\\theta_k))^{-1}\\nabla f(\\theta_k)\\,.\n",
    "$$"
   ]
  },
  {
   "cell_type": "markdown",
   "metadata": {
    "id": "juGqbmMcP52f",
    "slideshow": {
     "slide_type": "skip"
    }
   },
   "source": [
    "###### **Implementation from scratch**"
   ]
  },
  {
   "cell_type": "code",
   "execution_count": 4,
   "metadata": {
    "executionInfo": {
     "elapsed": 392,
     "status": "ok",
     "timestamp": 1685965510806,
     "user": {
      "displayName": "Max Cohen",
      "userId": "07045204525464189350"
     },
     "user_tz": -120
    },
    "id": "0nvHgIkiDTuc",
    "slideshow": {
     "slide_type": "skip"
    },
    "tags": []
   },
   "outputs": [],
   "source": [
    "import autograd.numpy as np\n",
    "import autograd"
   ]
  },
  {
   "cell_type": "markdown",
   "metadata": {},
   "source": [
    "<font color=darkred>Write a function ``NR_update`` which performs one update of the parameter using Newton-Raphson approach</font>\n",
    "\n",
    "<font color=darkred>Write a complete loop performing the optimization with Newton-Raphson approach</font>"
   ]
  },
  {
   "cell_type": "code",
   "execution_count": 23,
   "metadata": {
    "executionInfo": {
     "elapsed": 4,
     "status": "ok",
     "timestamp": 1685965511526,
     "user": {
      "displayName": "Max Cohen",
      "userId": "07045204525464189350"
     },
     "user_tz": -120
    },
    "id": "H7RttK4rF1jK",
    "slideshow": {
     "slide_type": "skip"
    },
    "tags": []
   },
   "outputs": [],
   "source": [
    "def NR_update(f, x):\n",
    "    # Compute Jacobian and Hession matrices\n",
    "    J = autograd.jacobian(f)(x)\n",
    "    H = autograd.hessian(f)(x)\n",
    "    # Compute the update\n",
    "    x_new = x - np.linalg.inv(H) @ J\n",
    "    return x_new   \n"
   ]
  },
  {
   "cell_type": "code",
   "execution_count": 27,
   "metadata": {
    "executionInfo": {
     "elapsed": 3,
     "status": "ok",
     "timestamp": 1685965511528,
     "user": {
      "displayName": "Max Cohen",
      "userId": "07045204525464189350"
     },
     "user_tz": -120
    },
    "id": "JDHIpBjkGZ35",
    "slideshow": {
     "slide_type": "skip"
    },
    "tags": []
   },
   "outputs": [],
   "source": [
    "def NR_loop(f , x0, iterations = 50):\n",
    "    \"\"\"Compute iterative Newton updates.\n",
    "    \n",
    "    Parameters\n",
    "    ----------\n",
    "    f:\n",
    "        Function to be optimized.\n",
    "    x0: \n",
    "        Initial parameter estimate.\n",
    "    iterations:\n",
    "        Number of updates.\n",
    "    \n",
    "    Returns\n",
    "    -------\n",
    "    params:\n",
    "        Estimators\n",
    "    loglik:\n",
    "        History of likelihood along iterations.\n",
    "    \"\"\"\n",
    "    # Initialize the parameter estimates\n",
    "    params = x0.astype(float)\n",
    "    # Initialize the loglikelihood history\n",
    "    loglik = []\n",
    "    \n",
    "    # Iterate\n",
    "    for _ in range(iterations):\n",
    "        params = NR_update(f, params)\n",
    "        loglik.append(f(params))\n",
    "    return params, loglik"
   ]
  },
  {
   "cell_type": "code",
   "execution_count": 30,
   "metadata": {},
   "outputs": [
    {
     "name": "stdout",
     "output_type": "stream",
     "text": [
      "Final parameters: [1. 1.]\n",
      "Final loglikelihood: [120.98625117180146, 1463310.0112622394, 7.380973287587683e-07, 5.4478766663523007e-11, 0.0, 0.0, 0.0, 0.0, 0.0, 0.0, 0.0, 0.0, 0.0, 0.0, 0.0, 0.0, 0.0, 0.0, 0.0, 0.0, 0.0, 0.0, 0.0, 0.0, 0.0, 0.0, 0.0, 0.0, 0.0, 0.0, 0.0, 0.0, 0.0, 0.0, 0.0, 0.0, 0.0, 0.0, 0.0, 0.0, 0.0, 0.0, 0.0, 0.0, 0.0, 0.0, 0.0, 0.0, 0.0, 0.0]\n"
     ]
    }
   ],
   "source": [
    "# Test the function\n",
    "x0 = np.array([-10, 12])\n",
    "params, loglik = NR_loop(rozenbrock, x0, iterations=50)\n",
    "print(\"Final parameters:\", params)\n",
    "print(\"Final loglikelihood:\", loglik)\n"
   ]
  },
  {
   "cell_type": "markdown",
   "metadata": {
    "id": "radpjQWr6G6G",
    "slideshow": {
     "slide_type": "slide"
    }
   },
   "source": [
    "<font color=darkred>- Compute the gradient and the Hessian of the Rozenbrock function. </font>\n",
    "\n",
    "<font color=darkred>- Write an iteration of the Newton update for this function\n",
    "$$\n",
    "f_{\\mathrm{roz}} : (x_1,x_2) \\mapsto (1-x_1)^2 + 100(x_2-x_1^2)^2\\,.\n",
    "$$</font>"
   ]
  },
  {
   "cell_type": "markdown",
   "metadata": {
    "id": "nz_BD9jy91dF",
    "slideshow": {
     "slide_type": "slide"
    }
   },
   "source": [
    "The gradient is given by\n",
    "$$\n",
    "\\nabla f_{\\mathrm{roz}} (x_1,x_2) = \\begin{pmatrix} -2(1-x_1) - 400x_1(x_2-x_1^2) \\\\ 200(x_2-x_1^2)\\end{pmatrix}\n",
    "$$\n",
    "and the Hessian matrix by\n",
    "$$\n",
    "\\nabla^2 f_{\\mathrm{roz}} (x_1,x_2) = \\begin{pmatrix} 2 - 400x_2 + 1200x^2_1 & -400x_1 \\\\ -400 x_1 & 200\\end{pmatrix}\n",
    "$$"
   ]
  },
  {
   "cell_type": "markdown",
   "metadata": {
    "slideshow": {
     "slide_type": "skip"
    }
   },
   "source": [
    "This provides the following iterative algorithm:\n",
    "$$\n",
    "\\theta_{k+1} = \\theta_k - \\begin{pmatrix} 2 - 400\\theta_k(2) + 1200\\theta^2_k(1) & -400\\theta_k(1) \\\\ -400 \\theta_k(1) & 200\\end{pmatrix}^{-1}\\begin{pmatrix} -2(1-\\theta_k(1)) - 400\\theta_k(1)(\\theta_k(2)-\\theta^2_k(1)) \\\\ 200(\\theta_k(2)-\\theta^2_k(1))\\end{pmatrix}\\,.\n",
    "$$"
   ]
  },
  {
   "cell_type": "markdown",
   "metadata": {
    "id": "qhz2ybCpQcCm",
    "slideshow": {
     "slide_type": "slide"
    }
   },
   "source": [
    "###### **Convergence**"
   ]
  },
  {
   "cell_type": "markdown",
   "metadata": {
    "id": "5uUq9t2INi1D",
    "slideshow": {
     "slide_type": "slide"
    }
   },
   "source": [
    "Assume that the target function $f$ is convex and twice differentiable. Assume also that:\n",
    "- $\\nabla f$ is $L$-Lipschitz and $\\nabla^2 f$ is $M$-Lipschitz ;\n",
    "- $f$ is strongly convex with parameter $m$.\n",
    "\n",
    "Then, there exists a constant $c$, for all $k>0$,\n",
    "$$\n",
    "f(x_{k+k_0}) - f(x_*) \\leq c \\left(1/2\\right)^{2^k}\\,,\n",
    "$$\n",
    "where $k_0$ is the number of steps until $\\|\\nabla f(x_{k_0+1})\\|$ is below a fixed threshold."
   ]
  },
  {
   "cell_type": "markdown",
   "metadata": {
    "id": "L6Fa_9FBKZls",
    "slideshow": {
     "slide_type": "slide"
    }
   },
   "source": [
    "**Locally, the method is quadratically convergent**, that is, there exists $c>0$, such that if $\\|x_k –x_*\\|\\leq c$, then $\\|x_{k+1} –x_*\\|/c\\leq (\\|x_k –x_*\\|/c)^2$. Thies yields\n",
    "$$\n",
    "\\|x_k –x_*\\|⩽c(\\|x_{k_0} –x_*\\|/c)^{2^{k-k_0}},\n",
    "$$\n",
    "where $k_0$ is such that $\\|x_k –x_*\\|\\leq c$."
   ]
  },
  {
   "cell_type": "markdown",
   "metadata": {
    "id": "47rtfTg21XPJ",
    "slideshow": {
     "slide_type": "subslide"
    }
   },
   "source": [
    "Newton's method is **sensitive to initial conditions**, in particular for non-convex objective functions. "
   ]
  },
  {
   "cell_type": "markdown",
   "metadata": {
    "id": "-Giv6s2a134l",
    "slideshow": {
     "slide_type": "subslide"
    }
   },
   "source": [
    "Newton’s method is **very computationally intensive**. The computation of the inverse Hessian scales as **$O(d^3)$** which is prohibitive in high dimensional settings."
   ]
  },
  {
   "cell_type": "markdown",
   "metadata": {
    "id": "eH-_7I7GT7Wd",
    "slideshow": {
     "slide_type": "skip"
    }
   },
   "source": [
    "###### **Built-in optimization**"
   ]
  },
  {
   "cell_type": "markdown",
   "metadata": {},
   "source": [
    "<font color=darkred> Use ``minimize`` from ``autograd_minimize`` to optimize the target function </font> "
   ]
  },
  {
   "cell_type": "code",
   "execution_count": null,
   "metadata": {},
   "outputs": [],
   "source": [
    "\n"
   ]
  },
  {
   "cell_type": "markdown",
   "metadata": {
    "id": "_Kr6kYipGenw",
    "slideshow": {
     "slide_type": "slide"
    }
   },
   "source": [
    "### <font color=darkred> Quasi Newton - Broyden-Fletcher-Goldfarb-Shanno (BFGS) method</font>"
   ]
  },
  {
   "cell_type": "markdown",
   "metadata": {
    "slideshow": {
     "slide_type": "skip"
    }
   },
   "source": [
    "Newton's method has a fast rate of local convergence (quadratic). Started in a neighborhood of the solution, convergence occurs in just a few iterations."
   ]
  },
  {
   "cell_type": "markdown",
   "metadata": {
    "id": "h4FpBRuVQx5f",
    "slideshow": {
     "slide_type": "slide"
    }
   },
   "source": [
    "Computation of the Hessian matrix is sometimes **intractable or computationally very sensitive**. Quasi-Newton approaches propose to use an update similar to the Newton Raphson algorithm with an approximation of the Hessian, i.e.\n",
    "$$\n",
    "\\theta_{k+1} = \\theta_k - \\gamma_k A_k^{-1}\\nabla f(\\theta_k)\\,.\n",
    "$$"
   ]
  },
  {
   "cell_type": "markdown",
   "metadata": {
    "id": "VUMSGdNb2oiM",
    "slideshow": {
     "slide_type": "slide"
    }
   },
   "source": [
    "In this framework, $A_k$ aims at approximating $\\nabla^2 f(\\theta_k)$. This approximation satisfies in general the quasi-Newton condition:\n",
    "$$\n",
    "A_{k+1}(\\theta_{k+1} - \\theta_k) = \\nabla f(\\theta_{k+1}) - \\nabla f(\\theta_{k})\\,.\n",
    "$$"
   ]
  },
  {
   "cell_type": "markdown",
   "metadata": {
    "slideshow": {
     "slide_type": "slide"
    }
   },
   "source": [
    "This constraint is motivated by:\n",
    "$$\n",
    "\\nabla f (x + p) =  \\nabla f (x) + \\nabla^2 f (x)p + \\int_0^1 \\left\\{\\nabla^2f (x + t p) − \\nabla^2 f (x)\\right\\}p dt\\,.\n",
    "$$\n",
    "Applying this formula with $x = \\theta_k$ and $p = \\theta_{k+1}-\\theta_k$ yields\n",
    "$$\n",
    "\\nabla f (\\theta_{k+1}) =  \\nabla f (\\theta_{k}) + \\nabla^2 f (\\theta_{k})\\left\\{\\theta_{k+1}-\\theta_k\\right\\} +o\\left(\\|\\theta_{k+1}-\\theta_k\\|\\right)\\,.\n",
    "$$"
   ]
  },
  {
   "cell_type": "markdown",
   "metadata": {
    "slideshow": {
     "slide_type": "slide"
    }
   },
   "source": [
    "The quasi-Newton condition  **is underdetermined**. To determine a tractable scheme  weneed to impose additional constraints.\n",
    "A solution to build $A_{k+1}$ is to solve:\n",
    "$$\n",
    "A\\in\\mathrm{Argmin}_{A^\\top =A; A(\\theta_{k+1} - \\theta_k) = \\nabla f(\\theta_{k+1}) - \\nabla f(\\theta_{k})}\\|A-A_k\\|\\,.\n",
    "$$\n",
    "Solving this constrained optimization problem (for the inverse $A^{-1}$) yields the following scheme."
   ]
  },
  {
   "cell_type": "markdown",
   "metadata": {
    "id": "ND-cEwafRPCK",
    "slideshow": {
     "slide_type": "slide"
    }
   },
   "source": [
    "In the BFGS setting, the approximation of the Hessian matrix is computed recursively as follows.\n",
    "- $\\delta_k = \\theta_{k+1}-\\theta_k$.\n",
    "- $d_k = \\nabla f(\\theta_{k+1}) -\\nabla f(\\theta_k)$. \n",
    "- $A_{k+1} = A_k + \\left(d_k^\\top \\delta_k\\right)^{-1}d_kd_k^\\top - \\left(\\delta_k^\\top A_k\\delta_k\\right)^{-1}A_k\\delta_k(A_k\\delta_k)^\\top$. "
   ]
  },
  {
   "cell_type": "markdown",
   "metadata": {
    "id": "Hk3htXX-TwL1",
    "slideshow": {
     "slide_type": "slide"
    }
   },
   "source": [
    "Using **Woodbury formula**, we can directly compute $A_{k+1}^{-1}$ as follows.\n",
    "\\begin{align*}\n",
    "\\alpha_k &= (d_k^\\top \\delta_k)^{-1}\\,,\\\\\n",
    "A_{k+1}^{-1} &= \\left(I - \\alpha_k \\delta_k d_k^\\top\\right)A_{k}^{-1}\\left(I - \\alpha_k d_k\\delta_k^\\top\\right) + \\alpha_k \\delta_k \\delta_k^\\top\n",
    "\\end{align*}"
   ]
  },
  {
   "cell_type": "markdown",
   "metadata": {},
   "source": [
    "<font color=darkred> Implement a complete loop of the proposed BFGS method </font>\n"
   ]
  },
  {
   "cell_type": "code",
   "execution_count": 34,
   "metadata": {
    "slideshow": {
     "slide_type": "skip"
    }
   },
   "outputs": [],
   "source": [
    "import numpy as np\n",
    "import autograd.numpy as anp\n",
    "from autograd import jacobian\n",
    "\n",
    "# Naive BFGS algorithm with constant stepsize\n",
    "# See https://github.com/trsav/bfgs\n",
    "def BFGS_naive(func, x0, iterations = 50, stepsize = 0.01):\n",
    "    \"\"\"\n",
    "    Parameters\n",
    "    ----------\n",
    "    func:\n",
    "        Function to be optimised. \n",
    "    x0:\n",
    "        Starting point.\n",
    "    iterations: \n",
    "        Number of iterations.\n",
    "\n",
    "    Returns\n",
    "    ------- \n",
    "    Parameter estimate. \n",
    "    \"\"\"\n",
    "    # Initialize the parameter estimates\n",
    "    x_new = x0.astype(float)\n",
    "    Ak = np.eye(len(x0))  # Initial Hessian approximation (identity matrix)\n",
    "    history = [x_new.copy()]  # To store the parameter estimates at each iteration\n",
    "\n",
    "    for _ in range(iterations):\n",
    "        # Compute the gradient at the current point\n",
    "        grad = jacobian(func)(x_new)\n",
    "        \n",
    "        # Compute the search direction\n",
    "        pk = -np.linalg.inv(Ak).dot(grad)\n",
    "        \n",
    "        # Update the parameters\n",
    "        x_old = x_new\n",
    "        x_new = x_new + stepsize * pk\n",
    "        \n",
    "        # Compute the differences\n",
    "        deltak = x_new - x_old\n",
    "        dk = jacobian(func)(x_new) - jacobian(func)(x_old)\n",
    "        \n",
    "    # Update the Hessian approximation\n",
    "        if deltak.T @ dk != 0:  # Avoid division by zero\n",
    "            Ak = Ak + (np.outer(dk, dk) / (dk.T @ deltak)) - \\\n",
    "                 (Ak @ np.outer(deltak, deltak) @ Ak) / (deltak.T @ Ak @ deltak)\n",
    "        \n",
    "    # Store the current parameter estimate\n",
    "    history.append(x_new.copy())\n",
    "\n",
    "    return x_new, history"
   ]
  },
  {
   "cell_type": "markdown",
   "metadata": {
    "id": "feH5WLEcYRvC",
    "slideshow": {
     "slide_type": "slide"
    }
   },
   "source": [
    "###### **Line search**"
   ]
  },
  {
   "cell_type": "markdown",
   "metadata": {
    "slideshow": {
     "slide_type": "slide"
    }
   },
   "source": [
    "Each iteration of a line search method decides the step-size $\\gamma_k$ i.e. the **amplitude of the update**. The iteration is given by\n",
    "$$\n",
    "\\theta_{k+1} = \\theta_{k} + \\gamma_k p_k\\,,\n",
    "$$\n",
    "where $p_k = - A_k^{-1}\\nabla f(\\theta_k)$."
   ]
  },
  {
   "cell_type": "markdown",
   "metadata": {
    "slideshow": {
     "slide_type": "slide"
    }
   },
   "source": [
    "Most line search algorithms require $p_k$ to be a descent direction:\n",
    "$$\n",
    "p_k^\\top \\nabla f(\\theta_k) <0\\,.\n",
    "$$"
   ]
  },
  {
   "cell_type": "markdown",
   "metadata": {
    "slideshow": {
     "slide_type": "slide"
    }
   },
   "source": [
    "Choosing $A_k$ as the identity matrix yields first order optimization algorithms, while in Newton’s method, $A_k$ is the exact Hessian matrix."
   ]
  },
  {
   "cell_type": "markdown",
   "metadata": {
    "slideshow": {
     "slide_type": "slide"
    }
   },
   "source": [
    "The ideal choice of the step-size is the global minimizer of $\\alpha \\mapsto f(\\theta_k + \\alpha p_k)$ which is computationally intractable."
   ]
  },
  {
   "cell_type": "markdown",
   "metadata": {
    "id": "vk62oPCoYSCt",
    "slideshow": {
     "slide_type": "slide"
    }
   },
   "source": [
    "Computing the step length $\\gamma_k$ amounts to solving a tradeoff between decreasing the value of $f$ and not spending too much time at each iteration.\n",
    "\n",
    "A popular line search condition targets to choose $\\gamma_k$ such that:\n",
    "$$\n",
    "f(\\theta_k + \\gamma_kp_k ) \\leq f (\\theta_k ) + c_1 \\gamma_k \\nabla f(\\theta_k)^\\top p_k\\,,\n",
    "$$\n",
    "for $p_k = -A_k^{-1}\\nabla f(\\theta_k)$ some constant $0<c_1<1$."
   ]
  },
  {
   "cell_type": "markdown",
   "metadata": {
    "slideshow": {
     "slide_type": "slide"
    }
   },
   "source": [
    "A second requirement to avoid too short steps requires that\n",
    "$$\n",
    "\\nabla f(\\theta_k + \\gamma_k p_k )^\\top\n",
    "p_k \\geq c_2 \\nabla f(\\theta_k)^\\top p_k\n",
    "$$\n",
    "where $c_1<c_2<1$."
   ]
  },
  {
   "cell_type": "markdown",
   "metadata": {
    "id": "S62gptpbRdMQ",
    "slideshow": {
     "slide_type": "skip"
    }
   },
   "source": [
    "###### **Implementation from scratch**"
   ]
  },
  {
   "cell_type": "markdown",
   "metadata": {},
   "source": [
    "<font color=darkred>Write a ``line_search`` function which computes the best step-size iteratively </font>\n"
   ]
  },
  {
   "cell_type": "code",
   "execution_count": 47,
   "metadata": {
    "id": "nfva2s5Tg1xS",
    "slideshow": {
     "slide_type": "skip"
    }
   },
   "outputs": [],
   "source": [
    "def line_search(func,x,p,nabla, alpha: float = 0.3, beta: float = 0.8):\n",
    "    \"\"\"\n",
    "    Parameters\n",
    "    ----------\n",
    "    f:\n",
    "        Function to be optimized.\n",
    "    x:\n",
    "        Current parameter estimate.\n",
    "    p:\n",
    "        Current value of `p`.\n",
    "    nabla:\n",
    "        Current value of the gradient. \n",
    "    \n",
    "    Returns\n",
    "    -------\n",
    "    The step-size gamma.\n",
    "    \"\"\"\n",
    "    gamma = 1.0  # Initial step size\n",
    "\n",
    "    # Armijo condition: f(x + gamma * p) <= f(x) + alpha * gamma * nabla.T @ p\n",
    "    while func(x + gamma * p) > func(x) + alpha * gamma * np.dot(nabla, p):\n",
    "        gamma *= beta  # Reduce step size\n",
    "\n",
    "    return gamma"
   ]
  },
  {
   "cell_type": "markdown",
   "metadata": {},
   "source": [
    "<font color=darkred>Write a complete BFGS method using line search to select the step-size at each iteration </font>\n"
   ]
  },
  {
   "cell_type": "code",
   "execution_count": 37,
   "metadata": {
    "colab": {
     "base_uri": "https://localhost:8080/"
    },
    "executionInfo": {
     "elapsed": 233,
     "status": "ok",
     "timestamp": 1685783515602,
     "user": {
      "displayName": "Sylvain Le Corff",
      "userId": "05825960430574299559"
     },
     "user_tz": -120
    },
    "id": "qb1xANmrGifT",
    "outputId": "01c36aa1-377f-4112-b912-c0d2d84b1be0",
    "slideshow": {
     "slide_type": "skip"
    }
   },
   "outputs": [],
   "source": [
    "def BFGS_loop(func: callable, x0: np.ndarray, iterations: int) -> np.ndarray:\n",
    "    \"\"\"\n",
    "    Parameters\n",
    "    ----------\n",
    "    func:\n",
    "        Function to be optimised. \n",
    "    x0:\n",
    "        Starting point.\n",
    "    iterations: \n",
    "        Number of iterations.\n",
    "\n",
    "    Returns\n",
    "    ------- \n",
    "    Parameter estimate. \n",
    "    \"\"\"\n",
    "    # Initialize variables\n",
    "    x_new = x0.astype(float)  # Ensure x0 is float\n",
    "    Ak = np.eye(len(x0))  # Initial Hessian approximation (identity matrix)\n",
    "    history = [x_new.copy()]  # To store parameter estimates at each iteration\n",
    "\n",
    "    for _ in range(iterations):\n",
    "        # Compute the gradient at the current point\n",
    "        grad = jacobian(func)(x_new)\n",
    "        \n",
    "        # Compute the search direction\n",
    "        p = -np.linalg.inv(Ak).dot(grad)\n",
    "        \n",
    "        # Perform line search to find the step-size\n",
    "        gamma = line_search(func, x_new, p, grad)\n",
    "        \n",
    "        # Update the parameters\n",
    "        x_old = x_new\n",
    "        x_new = x_new + gamma * p\n",
    "        \n",
    "        # Compute the differences\n",
    "        deltak = x_new - x_old\n",
    "        dk = jacobian(func)(x_new) - jacobian(func)(x_old)\n",
    "        \n",
    "        # Update the Hessian approximation\n",
    "        if deltak.T @ dk != 0:  # Avoid division by zero\n",
    "            Ak = Ak + (np.outer(dk, dk) / (dk.T @ deltak)) - \\\n",
    "                 (Ak @ np.outer(deltak, deltak) @ Ak) / (deltak.T @ Ak @ deltak)\n",
    "        \n",
    "        # Store the current parameter estimate\n",
    "        history.append(x_new.copy())\n",
    "\n",
    "    return x_new, history"
   ]
  },
  {
   "cell_type": "markdown",
   "metadata": {
    "id": "z6qWvldWYZd-",
    "slideshow": {
     "slide_type": "skip"
    }
   },
   "source": [
    "###### **Built-in optimization**"
   ]
  },
  {
   "cell_type": "markdown",
   "metadata": {
    "slideshow": {
     "slide_type": "skip"
    }
   },
   "source": [
    "###### **Comparison with first order methods**"
   ]
  },
  {
   "cell_type": "markdown",
   "metadata": {
    "slideshow": {
     "slide_type": "skip"
    }
   },
   "source": [
    "In this section we compare second order approaches with first order optimization methods such as the **full gradient descent** and **Nesterov accelerated algorithm**."
   ]
  },
  {
   "cell_type": "markdown",
   "metadata": {},
   "source": [
    "<font color=darkred>Compare these second order approaches to full gradient and Nesterov accelerated optimizers </font>\n"
   ]
  },
  {
   "cell_type": "code",
   "execution_count": 44,
   "metadata": {
    "slideshow": {
     "slide_type": "skip"
    }
   },
   "outputs": [],
   "source": [
    "def gradient_descent(f, nabla, w0, iterations, step_size):\n",
    "    loss_history = []\n",
    "    w = w0.copy()\n",
    "    for k in range(iterations):\n",
    "        w = w - step_size * nabla(w)\n",
    "        loss_history.append(f(w))\n",
    "    return w, loss_history"
   ]
  },
  {
   "cell_type": "code",
   "execution_count": 45,
   "metadata": {
    "slideshow": {
     "slide_type": "skip"
    }
   },
   "outputs": [],
   "source": [
    "def nesterov_gd(f, nabla, w, iterations, step_size, beta):\n",
    "    loss_history = []\n",
    "    v = w.copy()\n",
    "    for k in range(iterations):\n",
    "        v_new = w - step_size * nabla(w)\n",
    "        w = v + beta * (v_new - v)\n",
    "        v = v_new\n",
    "        loss_history.append(f(w))\n",
    "    return w, loss_history"
   ]
  },
  {
   "cell_type": "code",
   "execution_count": 42,
   "metadata": {},
   "outputs": [],
   "source": [
    "import numpy as np\n",
    "import autograd.numpy as anp\n",
    "from autograd import grad, jacobian\n",
    "\n",
    "def rosenbrock(x):\n",
    "    x1 = x[0]\n",
    "    x2 = x[1]\n",
    "    return (1 - x1) ** 2 + 100 * (x2 - x1 ** 2) ** 2\n",
    "\n",
    "rosenbrock_grad = grad(rosenbrock)\n",
    "\n",
    "def compare_methods():\n",
    "    x0 = np.array([-1.2, 1.0])  # Point de départ\n",
    "    iterations = 50\n",
    "    step_size = 0.001\n",
    "    beta = 0.9\n",
    "\n",
    "    # Descente de gradient classique\n",
    "    gd_params, gd_loss = gradient_descent(rosenbrock, rosenbrock_grad, x0, iterations, step_size)\n",
    "\n",
    "    # Descente de gradient accélérée de Nesterov\n",
    "    nesterov_params, nesterov_loss = nesterov_gd(rosenbrock, rosenbrock_grad, x0, iterations, step_size, beta)\n",
    "\n",
    "    # BFGS\n",
    "    bfgs_params, bfgs_loss = BFGS_loop(rosenbrock, x0, iterations)\n",
    "\n",
    "    # Affichage des résultats\n",
    "    print(\"Gradient Descent Final Parameters:\", gd_params)\n",
    "    print(\"Nesterov Final Parameters:\", nesterov_params)\n",
    "    print(\"BFGS Final Parameters:\", bfgs_params)\n",
    "\n",
    "    # Tracé des courbes de convergence\n",
    "    import matplotlib.pyplot as plt\n",
    "    plt.plot(gd_loss, label=\"Gradient Descent\")\n",
    "    plt.plot(nesterov_loss, label=\"Nesterov\")\n",
    "    plt.plot([rosenbrock(x) for x in bfgs_loss], label=\"BFGS\")\n",
    "    plt.xlabel(\"Iterations\")\n",
    "    plt.ylabel(\"Loss\")\n",
    "    plt.legend()\n",
    "    plt.title(\"Comparison of Optimization Methods\")\n",
    "    plt.show()"
   ]
  },
  {
   "cell_type": "code",
   "execution_count": 48,
   "metadata": {},
   "outputs": [
    {
     "name": "stdout",
     "output_type": "stream",
     "text": [
      "Gradient Descent Final Parameters: [-0.99  0.99]\n",
      "Nesterov Final Parameters: [-0.99  1.  ]\n",
      "BFGS Final Parameters: [1. 1.]\n"
     ]
    },
    {
     "data": {
      "image/png": "[encoded data removed]",
      "text/plain": [
       "<Figure size 1400x700 with 1 Axes>"
      ]
     },
     "metadata": {},
     "output_type": "display_data"
    }
   ],
   "source": [
    "compare_methods()"
   ]
  },
  {
   "cell_type": "markdown",
   "metadata": {
    "slideshow": {
     "slide_type": "slide"
    }
   },
   "source": [
    "### **To sum-up**\n",
    "\n",
    "- **Newton**\n",
    "- Appropriate when the target is stricly convex.\n",
    "- Very expensive, $O(d^3)$ to compute inverse of the Hessian matrix.\n",
    "\n",
    "- **Quasi-Newton**\n",
    "- Iteratively builds up approximations of the Hessian matrix.\n",
    "- Popular method to train deep networks.\n",
    "\n"
   ]
  },
  {
   "cell_type": "markdown",
   "metadata": {
    "id": "OGif2JlSQnTr",
    "slideshow": {
     "slide_type": "skip"
    }
   },
   "source": [
    "### <font color=darkred>Appendix: optimization with Scipy</font>"
   ]
  },
  {
   "cell_type": "markdown",
   "metadata": {
    "slideshow": {
     "slide_type": "skip"
    }
   },
   "source": [
    "From https://docs.scipy.org/doc/scipy/tutorial/optimize.html#broyden-fletcher-goldfarb-shanno-algorithm-method-bfgs"
   ]
  },
  {
   "cell_type": "code",
   "execution_count": 49,
   "metadata": {
    "slideshow": {
     "slide_type": "skip"
    }
   },
   "outputs": [],
   "source": [
    "from scipy.optimize import minimize"
   ]
  },
  {
   "cell_type": "code",
   "execution_count": 50,
   "metadata": {
    "slideshow": {
     "slide_type": "skip"
    }
   },
   "outputs": [],
   "source": [
    "def rosen(x):\n",
    "    \"\"\"The Rosenbrock function\"\"\"\n",
    "    return sum(100.0*(x[1:]-x[:-1]**2.0)**2.0 + (1-x[:-1])**2.0)"
   ]
  },
  {
   "cell_type": "code",
   "execution_count": 51,
   "metadata": {
    "slideshow": {
     "slide_type": "skip"
    }
   },
   "outputs": [],
   "source": [
    "def rosen_der(x):\n",
    "    xm = x[1:-1]\n",
    "    xm_m1 = x[:-2]\n",
    "    xm_p1 = x[2:]\n",
    "    der = np.zeros_like(x)\n",
    "    der[1:-1] = 200*(xm-xm_m1**2) - 400*(xm_p1 - xm**2)*xm - 2*(1-xm)\n",
    "    der[0] = -400*x[0]*(x[1]-x[0]**2) - 2*(1-x[0])\n",
    "    der[-1] = 200*(x[-1]-x[-2]**2)\n",
    "    return der"
   ]
  },
  {
   "cell_type": "code",
   "execution_count": 52,
   "metadata": {
    "slideshow": {
     "slide_type": "skip"
    }
   },
   "outputs": [
    {
     "name": "stdout",
     "output_type": "stream",
     "text": [
      "Optimization terminated successfully.\n",
      "         Current function value: 0.000000\n",
      "         Iterations: 36\n",
      "         Function evaluations: 44\n",
      "         Gradient evaluations: 44\n"
     ]
    },
    {
     "data": {
      "text/plain": [
       "  message: Optimization terminated successfully.\n",
       "  success: True\n",
       "   status: 0\n",
       "      fun: 1.287659622579665e-14\n",
       "        x: [ 1.000e+00  1.000e+00  1.000e+00  1.000e+00  1.000e+00]\n",
       "      nit: 36\n",
       "      jac: [ 1.461e-07 -4.486e-06  1.150e-06  2.925e-07  1.113e-07]\n",
       " hess_inv: [[ 7.500e-03  1.242e-02 ...  4.667e-02  9.312e-02]\n",
       "            [ 1.242e-02  2.471e-02 ...  9.275e-02  1.851e-01]\n",
       "            ...\n",
       "            [ 4.667e-02  9.275e-02 ...  3.745e-01  7.470e-01]\n",
       "            [ 9.312e-02  1.851e-01 ...  7.470e-01  1.495e+00]]\n",
       "     nfev: 44\n",
       "     njev: 44"
      ]
     },
     "execution_count": 52,
     "metadata": {},
     "output_type": "execute_result"
    }
   ],
   "source": [
    "x0 = np.random.rand(5)\n",
    "\n",
    "res = minimize(rosen, x0, method='BFGS', jac=rosen_der,\n",
    "               options={'disp': True})\n",
    "res"
   ]
  }
 ],
 "metadata": {
  "celltoolbar": "Diaporama",
  "colab": {
   "provenance": [],
   "toc_visible": true
  },
  "kernelspec": {
   "display_name": "Python 3",
   "language": "python",
   "name": "python3"
  },
  "language_info": {
   "codemirror_mode": {
    "name": "ipython",
    "version": 3
   },
   "file_extension": ".py",
   "mimetype": "text/x-python",
   "name": "python",
   "nbconvert_exporter": "python",
   "pygments_lexer": "ipython3",
   "version": "3.9.13"
  }
 },
 "nbformat": 4,
 "nbformat_minor": 4
}
