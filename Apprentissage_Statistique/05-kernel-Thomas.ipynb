{
 "cells": [
  {
   "cell_type": "markdown",
   "metadata": {},
   "source": [
    "# <font color=darkcyan> Multivariate linear regression - Kernel regression </font>"
   ]
  },
  {
   "cell_type": "code",
   "execution_count": 1,
   "metadata": {},
   "outputs": [],
   "source": [
    "import numpy as np\n",
    "import matplotlib.pyplot as plt \n",
    "import matplotlib as mpl\n",
    "from matplotlib import colors \n",
    "from sklearn.metrics import mean_squared_error"
   ]
  },
  {
   "cell_type": "markdown",
   "metadata": {},
   "source": [
    "A function $k:\\mathbb{R}^d\\times\\mathbb{R}^d:\\to \\mathbb{R}$ is said to be a positive semi-definite kernel if and only if it is symmetric and if for all $n\\geqslant 1$, $(x_1,\\ldots,x_n)\\in(\\mathbb{R}^d)^n$ and all $(a_1,\\ldots,a_n)\\in\\mathbb{R}^n$,\n",
    "$$\n",
    "\\sum_{1\\leqslant i,j\\leqslant n}a_ia_jk(x_i,x_j) \\geqslant 0\\,.\n",
    "$$\n",
    "\n",
    "The following functions, defined on $\\mathbb{R}^d\\times\\mathbb{R}^d$, are positive semi-definite kernels:\n",
    "\n",
    "$$\n",
    "k:(x,y)\\mapsto x^Ty \\quad\\mathrm{and}\\quad k:(x,y)\\mapsto \\mathrm{exp}\\left(-\\|x-y\\|^2/(2\\sigma^2\\right)\\,,\\; \\sigma>0\\,.\n",
    "$$\n",
    "\n",
    "\n",
    "Let $\\mathcal{F}$ be a Hilbert space of functions $f:\\mathbb{R}^d\\to\\mathbb{R}$. A symmetric function $k:\\mathbb{R}^d\\times\\mathbb{R}^d:\\to \\mathbb{R}$ is said to be a reproducing kernel of $\\mathcal{F}$ if and only if:\n",
    "\n",
    "1. for all $x\\in\\mathbb{R}^d$, $k(x,\\cdot)\\in\\mathcal{F}$ ; \n",
    "\n",
    "2. for all $x\\in\\mathbb{R}^d$ and all $f\\in\\mathcal{F}$, $\\langle f; k(x,\\cdot)\\rangle_\\mathcal{F} = f(x)$ . \n",
    "\n",
    "The space $\\mathcal{F}$ is said to be a reproducing kernel Hilbert space with kernel $k$.\n",
    "\n",
    "\n",
    "\n",
    "Let $k:\\mathbb{R}^d\\times\\mathbb{R}^d:\\to \\mathbb{R}$ be a positive definite kernel and $\\mathcal{F}$ the RKHS with kernel $k$. Then, \n",
    "\n",
    "$$\n",
    "\\widehat f^n_{\\mathcal{F}} \\in \\underset{f\\in\\mathcal{F}}{\\mathrm{min}}\\;\\frac{1}{n}\\sum_{i=1}^n (Y_i - f(X_i))^2 + \\lambda\\|f\\|_\\mathcal{F}^2\\,,\n",
    "$$\n",
    "\n",
    "where $\\|f\\|^2_\\mathcal{F} = \\langle f\\,;\\, f\\rangle_\\mathcal{F}$, is given by $\\widehat f^n_{\\mathcal{F}} : x \\mapsto \\sum_{i=1}^n \\widehat \\alpha_i k(X_i,x)$, where\n",
    "\n",
    "$$\n",
    "\\widehat\\alpha \\in \\underset{\\alpha \\in (\\mathbb{R}^d)^n}{\\mathrm{argmin}}\\;\\left\\{\\frac{1}{n}\\|Y - K\\alpha\\|^2_2 + \\lambda \\sum_{1\\leqslant i,j \\leqslant n}\\alpha_i \\alpha_j k(X_i,X_j) = \\frac{1}{n}\\|Y - K\\alpha\\|^2_2 + \\lambda \\alpha^TK\\alpha\\right\\}\\,,\n",
    "$$\n",
    "\n",
    "where for all $1\\leqslant i,j\\leqslant n$, $K_{i,j} = k(X_i,X_j)$.\n",
    "\n",
    "In practice, once the matrix $K$ is built, kernel ridge regression boils down to solving this optimization problem to obtain $\\widehat \\alpha$. Then, the estimated function $\\widehat f^n_{\\mathcal{F}}$ is a mixture of kernels evaluated at each data points with weights given by $\\alpha$."
   ]
  },
  {
   "cell_type": "markdown",
   "metadata": {},
   "source": [
    "<font color=darkred> Provide the value of $\\widehat \\alpha$ as a function of $n$, $\\lambda$, $K$ and  $Y$.</font>"
   ]
  },
  {
   "cell_type": "markdown",
   "metadata": {},
   "source": [
    "#### Import data"
   ]
  },
  {
   "cell_type": "code",
   "execution_count": 2,
   "metadata": {},
   "outputs": [],
   "source": [
    "import pandas as pd"
   ]
  },
  {
   "cell_type": "markdown",
   "metadata": {},
   "source": [
    "Data frames can be imported using pandas. This provides two-dimensional and heterogeneous tabular data.\n",
    "https://pandas.pydata.org/docs/reference/api/pandas.DataFrame.html"
   ]
  },
  {
   "cell_type": "markdown",
   "metadata": {},
   "source": [
    "<font color=darkred>\n",
    "    \n",
    "Import data in the file BRinf using ``read_csv``, display the first rows with ``head`` and the shape of the dataframe using ``shape``.\n",
    "</font>"
   ]
  },
  {
   "cell_type": "code",
   "execution_count": 90,
   "metadata": {},
   "outputs": [
    {
     "data": {
      "text/html": [
       "<div>\n",
       "<style scoped>\n",
       "    .dataframe tbody tr th:only-of-type {\n",
       "        vertical-align: middle;\n",
       "    }\n",
       "\n",
       "    .dataframe tbody tr th {\n",
       "        vertical-align: top;\n",
       "    }\n",
       "\n",
       "    .dataframe thead th {\n",
       "        text-align: right;\n",
       "    }\n",
       "</style>\n",
       "<table border=\"1\" class=\"dataframe\">\n",
       "  <thead>\n",
       "    <tr style=\"text-align: right;\">\n",
       "      <th></th>\n",
       "      <th>Unnamed: 0</th>\n",
       "      <th>Brazil CPI IPCA MoM</th>\n",
       "      <th>FGV Brazil General Prices IGP-</th>\n",
       "      <th>FGV Brazil General Prices IGP-.1</th>\n",
       "      <th>FGV Brazil General Prices IGP-.2</th>\n",
       "      <th>FGV Brazil General Prices IGP-.3</th>\n",
       "      <th>Brazil CPI IPCA Median Market</th>\n",
       "      <th>Brazil Total Electricity Consu</th>\n",
       "      <th>Brazil Industrial Electricity</th>\n",
       "      <th>BofA Merrill Lynch Economic Co</th>\n",
       "      <th>...</th>\n",
       "      <th>X5t.12</th>\n",
       "      <th>X5t.13</th>\n",
       "      <th>fmed2</th>\n",
       "      <th>fmean</th>\n",
       "      <th>fmean2</th>\n",
       "      <th>fdp</th>\n",
       "      <th>lfmed2</th>\n",
       "      <th>lfmean</th>\n",
       "      <th>lfmean2</th>\n",
       "      <th>lfdp</th>\n",
       "    </tr>\n",
       "  </thead>\n",
       "  <tbody>\n",
       "    <tr>\n",
       "      <th>0</th>\n",
       "      <td>2003-01-31</td>\n",
       "      <td>2.25</td>\n",
       "      <td>2.33</td>\n",
       "      <td>2.17</td>\n",
       "      <td>5.816</td>\n",
       "      <td>2.29</td>\n",
       "      <td>11.56</td>\n",
       "      <td>25422.0</td>\n",
       "      <td>-359</td>\n",
       "      <td>-1.47</td>\n",
       "      <td>...</td>\n",
       "      <td>0.80</td>\n",
       "      <td>0.68</td>\n",
       "      <td>4.0000</td>\n",
       "      <td>1.96</td>\n",
       "      <td>3.8416</td>\n",
       "      <td>0.18</td>\n",
       "      <td>1.3225</td>\n",
       "      <td>1.15</td>\n",
       "      <td>1.3225</td>\n",
       "      <td>0.24</td>\n",
       "    </tr>\n",
       "    <tr>\n",
       "      <th>1</th>\n",
       "      <td>2003-02-28</td>\n",
       "      <td>1.57</td>\n",
       "      <td>2.28</td>\n",
       "      <td>1.59</td>\n",
       "      <td>4.351</td>\n",
       "      <td>2.42</td>\n",
       "      <td>10.95</td>\n",
       "      <td>25163.0</td>\n",
       "      <td>-303</td>\n",
       "      <td>-1.21</td>\n",
       "      <td>...</td>\n",
       "      <td>0.68</td>\n",
       "      <td>0.48</td>\n",
       "      <td>2.5600</td>\n",
       "      <td>1.60</td>\n",
       "      <td>2.5600</td>\n",
       "      <td>0.26</td>\n",
       "      <td>0.7569</td>\n",
       "      <td>0.91</td>\n",
       "      <td>0.8281</td>\n",
       "      <td>0.27</td>\n",
       "    </tr>\n",
       "    <tr>\n",
       "      <th>2</th>\n",
       "      <td>2003-03-31</td>\n",
       "      <td>1.23</td>\n",
       "      <td>1.53</td>\n",
       "      <td>1.66</td>\n",
       "      <td>4.593</td>\n",
       "      <td>1.58</td>\n",
       "      <td>9.58</td>\n",
       "      <td>24960.0</td>\n",
       "      <td>115</td>\n",
       "      <td>-0.35</td>\n",
       "      <td>...</td>\n",
       "      <td>0.55</td>\n",
       "      <td>0.50</td>\n",
       "      <td>0.8836</td>\n",
       "      <td>0.93</td>\n",
       "      <td>0.8649</td>\n",
       "      <td>0.13</td>\n",
       "      <td>0.4900</td>\n",
       "      <td>0.73</td>\n",
       "      <td>0.5329</td>\n",
       "      <td>0.17</td>\n",
       "    </tr>\n",
       "    <tr>\n",
       "      <th>3</th>\n",
       "      <td>2003-04-30</td>\n",
       "      <td>0.97</td>\n",
       "      <td>0.92</td>\n",
       "      <td>0.41</td>\n",
       "      <td>1.173</td>\n",
       "      <td>1.24</td>\n",
       "      <td>8.88</td>\n",
       "      <td>25284.0</td>\n",
       "      <td>93</td>\n",
       "      <td>-0.15</td>\n",
       "      <td>...</td>\n",
       "      <td>0.45</td>\n",
       "      <td>0.78</td>\n",
       "      <td>1.0000</td>\n",
       "      <td>0.97</td>\n",
       "      <td>0.9409</td>\n",
       "      <td>0.14</td>\n",
       "      <td>0.2500</td>\n",
       "      <td>0.52</td>\n",
       "      <td>0.2704</td>\n",
       "      <td>0.18</td>\n",
       "    </tr>\n",
       "    <tr>\n",
       "      <th>4</th>\n",
       "      <td>2003-05-31</td>\n",
       "      <td>0.61</td>\n",
       "      <td>-0.26</td>\n",
       "      <td>-0.67</td>\n",
       "      <td>-1.860</td>\n",
       "      <td>0.02</td>\n",
       "      <td>8.22</td>\n",
       "      <td>24785.0</td>\n",
       "      <td>285</td>\n",
       "      <td>-0.47</td>\n",
       "      <td>...</td>\n",
       "      <td>0.60</td>\n",
       "      <td>0.43</td>\n",
       "      <td>0.2500</td>\n",
       "      <td>0.50</td>\n",
       "      <td>0.2500</td>\n",
       "      <td>0.10</td>\n",
       "      <td>0.3025</td>\n",
       "      <td>0.55</td>\n",
       "      <td>0.3025</td>\n",
       "      <td>0.15</td>\n",
       "    </tr>\n",
       "  </tbody>\n",
       "</table>\n",
       "<p>5 rows × 93 columns</p>\n",
       "</div>"
      ],
      "text/plain": [
       "   Unnamed: 0  Brazil CPI IPCA MoM  FGV Brazil General Prices IGP-  \\\n",
       "0  2003-01-31                 2.25                            2.33   \n",
       "1  2003-02-28                 1.57                            2.28   \n",
       "2  2003-03-31                 1.23                            1.53   \n",
       "3  2003-04-30                 0.97                            0.92   \n",
       "4  2003-05-31                 0.61                           -0.26   \n",
       "\n",
       "   FGV Brazil General Prices IGP-.1  FGV Brazil General Prices IGP-.2  \\\n",
       "0                              2.17                             5.816   \n",
       "1                              1.59                             4.351   \n",
       "2                              1.66                             4.593   \n",
       "3                              0.41                             1.173   \n",
       "4                             -0.67                            -1.860   \n",
       "\n",
       "   FGV Brazil General Prices IGP-.3  Brazil CPI IPCA Median Market  \\\n",
       "0                              2.29                          11.56   \n",
       "1                              2.42                          10.95   \n",
       "2                              1.58                           9.58   \n",
       "3                              1.24                           8.88   \n",
       "4                              0.02                           8.22   \n",
       "\n",
       "   Brazil Total Electricity Consu  Brazil Industrial Electricity  \\\n",
       "0                         25422.0                           -359   \n",
       "1                         25163.0                           -303   \n",
       "2                         24960.0                            115   \n",
       "3                         25284.0                             93   \n",
       "4                         24785.0                            285   \n",
       "\n",
       "   BofA Merrill Lynch Economic Co  ...  X5t.12  X5t.13   fmed2  fmean  fmean2  \\\n",
       "0                           -1.47  ...    0.80    0.68  4.0000   1.96  3.8416   \n",
       "1                           -1.21  ...    0.68    0.48  2.5600   1.60  2.5600   \n",
       "2                           -0.35  ...    0.55    0.50  0.8836   0.93  0.8649   \n",
       "3                           -0.15  ...    0.45    0.78  1.0000   0.97  0.9409   \n",
       "4                           -0.47  ...    0.60    0.43  0.2500   0.50  0.2500   \n",
       "\n",
       "    fdp  lfmed2  lfmean  lfmean2  lfdp  \n",
       "0  0.18  1.3225    1.15   1.3225  0.24  \n",
       "1  0.26  0.7569    0.91   0.8281  0.27  \n",
       "2  0.13  0.4900    0.73   0.5329  0.17  \n",
       "3  0.14  0.2500    0.52   0.2704  0.18  \n",
       "4  0.10  0.3025    0.55   0.3025  0.15  \n",
       "\n",
       "[5 rows x 93 columns]"
      ]
     },
     "execution_count": 90,
     "metadata": {},
     "output_type": "execute_result"
    }
   ],
   "source": [
    "# In this section, multivariate linear regression is used to predic the Brazilian inflation based on\n",
    "# many observed variables, see https://github.com/gabrielrvsc/HDeconometrics/\n",
    "df = pd.read_csv('BRinf.csv')\n",
    "df.head()"
   ]
  },
  {
   "cell_type": "code",
   "execution_count": 67,
   "metadata": {},
   "outputs": [
    {
     "data": {
      "text/plain": [
       "(156, 93)"
      ]
     },
     "execution_count": 67,
     "metadata": {},
     "output_type": "execute_result"
    }
   ],
   "source": [
    "# number of observations, number of variables\n",
    "df.shape"
   ]
  },
  {
   "cell_type": "code",
   "execution_count": 91,
   "metadata": {},
   "outputs": [],
   "source": [
    "# first coordinate is the number of samples\n",
    "# second coordinate is the number of input features (+ 1 for the observations)\n",
    "X = df.iloc[:,2:]\n",
    "Y = df.iloc[:,1] "
   ]
  },
  {
   "cell_type": "markdown",
   "metadata": {},
   "source": [
    "<font color=darkred>\n",
    "    \n",
    "Divide the input data ``X`` and observations ``Y`` into training and test sets using the ``train_test_split`` method. This method randomly splits arrays or matrices into training and test subsets. It allows to train several times a model with different training set and analyze the variability of the performance on the test set.\n",
    "</font>"
   ]
  },
  {
   "cell_type": "code",
   "execution_count": 92,
   "metadata": {},
   "outputs": [],
   "source": [
    "from sklearn.model_selection import train_test_split"
   ]
  },
  {
   "cell_type": "code",
   "execution_count": 94,
   "metadata": {},
   "outputs": [
    {
     "name": "stdout",
     "output_type": "stream",
     "text": [
      "<class 'pandas.core.frame.DataFrame'>\n"
     ]
    }
   ],
   "source": [
    "X_train, X_test, Y_train, Y_test = train_test_split(X, Y, test_size=0.1)\n",
    "np.shape(Y_train)\n",
    "print(type(X_train))"
   ]
  },
  {
   "cell_type": "markdown",
   "metadata": {},
   "source": [
    "<font color=darkred>\n",
    "    \n",
    "Use the ``StandardScaler`` of sklearn to preprocess the input variables.\n",
    "</font>"
   ]
  },
  {
   "cell_type": "markdown",
   "metadata": {},
   "source": [
    "``StandardScaler`` standardizes the input variables by removing the mean and scaling to unit variance.\n",
    "We will not analyze closely standardization in this course. However, it is often very useful (even mandatory in some cases) for the stability of learning procedures.\n",
    "https://scikit-learn.org/stable/modules/generated/sklearn.preprocessing.StandardScaler.html"
   ]
  },
  {
   "cell_type": "code",
   "execution_count": null,
   "metadata": {},
   "outputs": [
    {
     "name": "stdout",
     "output_type": "stream",
     "text": [
      "<class 'numpy.ndarray'>\n"
     ]
    }
   ],
   "source": [
    "from sklearn.preprocessing import StandardScaler\n",
    "sc = StandardScaler()\n",
    "X_train = sc.fit_transform(X_train)\n",
    "X_test = sc.transform(X_test)\n"
   ]
  },
  {
   "cell_type": "code",
   "execution_count": 65,
   "metadata": {},
   "outputs": [
    {
     "data": {
      "text/plain": [
       "((140, 91), (16, 91))"
      ]
     },
     "execution_count": 65,
     "metadata": {},
     "output_type": "execute_result"
    }
   ],
   "source": [
    "np.shape(X_train), np.shape(X_test)"
   ]
  },
  {
   "cell_type": "markdown",
   "metadata": {},
   "source": [
    "#### Kernel Regression from scractch"
   ]
  },
  {
   "cell_type": "markdown",
   "metadata": {},
   "source": [
    "<font color=darkred>\n",
    "\n",
    "Write a ``linear_kernel`` function with the arguments two vectors ``x`` and ``y``, which returns the result of the linear kernel function defined as $k:(x,y)\\mapsto x^Ty$.\n",
    "</font>"
   ]
  },
  {
   "cell_type": "code",
   "execution_count": 85,
   "metadata": {},
   "outputs": [],
   "source": [
    "def linear_kernel(x,y):\n",
    "    return x.T @ y"
   ]
  },
  {
   "cell_type": "markdown",
   "metadata": {},
   "source": [
    "<font color=darkred>\n",
    "\n",
    "Write a ``rbf_kernel`` function with the arguments two vectors ``x`` and ``y`` and a scalar ``sigma``, which returns the result of the radial basis function (RBF) kernel defined as $k:(x,y)\\mapsto \\mathrm{exp}\\left(-\\|x-y\\|^2 /\\left(2\\sigma^2\\right)\\right)$.\n",
    "</font>"
   ]
  },
  {
   "cell_type": "code",
   "execution_count": 102,
   "metadata": {},
   "outputs": [],
   "source": [
    "def rbf_kernel (x, y, sigma) :\n",
    "    return np.exp(-np.linalg.norm(x-y)**2/(2*sigma**2))"
   ]
  },
  {
   "cell_type": "markdown",
   "metadata": {},
   "source": [
    "<font color=darkred>\n",
    "\n",
    "Write a ``kernel_ridge_regression`` function with arguments the data ``X`` and ``y``, the kernel matrix ``K`` and a penalty parameter ``lambda``. The function returns the parameter estimate $\\widehat \\alpha$.\n",
    "</font>"
   ]
  },
  {
   "cell_type": "code",
   "execution_count": 59,
   "metadata": {},
   "outputs": [],
   "source": [
    "def kernel_ridge_regression(X, y, K, lambda_para):\n",
    "    n = X.shape[0]\n",
    "    alpha_hat = np.linalg.inv(K + (n* lambda_para * np.eye(n))) @ y\n",
    "    \n",
    "    return alpha_hat"
   ]
  },
  {
   "cell_type": "markdown",
   "metadata": {},
   "source": [
    "<font color=darkred>\n",
    "    Run the algorithm with several values of $\\lambda$ using X_train and Y_train and compute MSE obtained on the test set.\n",
    "    </font>"
   ]
  },
  {
   "cell_type": "code",
   "execution_count": null,
   "metadata": {},
   "outputs": [
    {
     "name": "stdout",
     "output_type": "stream",
     "text": [
      "<class 'pandas.core.frame.DataFrame'>\n"
     ]
    }
   ],
   "source": [
    "lambda_values =  [0.001, 0.002, 0.005, 0.01, 0.02, 0.05, 0.1, 0.2, 0.5, 1.0, 2.0]\n",
    "sigma_values = [0.01, 0.02, 0.05, 0.1, 0.2, 0.5, 1.0, 2.0, 5.0, 10.0, 20.0]"
   ]
  },
  {
   "cell_type": "code",
   "execution_count": 106,
   "metadata": {},
   "outputs": [],
   "source": [
    "#LINEAR KERNEL\n",
    "\n",
    "n_train = X_train.shape[0]\n",
    "n_test = X_test.shape[0]\n",
    "results_lin = []\n",
    "\n",
    "#Calcul de la matrice K\n",
    "K_linear =  np.zeros((n,n))\n",
    "for i in range(n_train):\n",
    "    for j in range(n_train):\n",
    "        K_linear[i,j] = linear_kernel(X_train[i], X_train[j])\n",
    "\n",
    "for lambda_val in lambda_values:\n",
    "    #Calcul de alpha hat\n",
    "    alpha_hat = kernel_ridge_regression (X_train, Y_train, K_linear, lambda_val)\n",
    "\n",
    "    #Prediction sur test\n",
    "    Y_pred = np.zeros(n_test)\n",
    "    for i in range(n_test):\n",
    "        for j in range (n_train):\n",
    "            Y_pred[i] += alpha_hat[j] * linear_kernel(X_train[j], X_test[i])\n",
    "    \n",
    "    #MSE\n",
    "    mse = mean_squared_error(Y_test, Y_pred)\n",
    "    results_lin.append((lambda_val, mse))"
   ]
  },
  {
   "cell_type": "code",
   "execution_count": 127,
   "metadata": {},
   "outputs": [],
   "source": [
    "#RBF KERNEL\n",
    "\n",
    "n_train = X_train.shape[0]\n",
    "n_test = X_test.shape[0]\n",
    "results_rbf = []\n",
    "sigma = 5\n",
    "#Calcul de la matrice K\n",
    "K_rbf =  np.zeros((n,n))\n",
    "for i in range(n_train):\n",
    "    for j in range(n_train):\n",
    "        K_rbf[i,j] = rbf_kernel(X_train[i], X_train[j], sigma)\n",
    "\n",
    "for lambda_val in lambda_values:\n",
    "    #Calcul de alpha hat\n",
    "    alpha_hat = kernel_ridge_regression (X_train, Y_train, K_rbf, lambda_val)\n",
    "\n",
    "    #Prediction sur test\n",
    "    Y_pred = np.zeros(n_test)\n",
    "    for i in range(n_test):\n",
    "        for j in range (n_train):\n",
    "            Y_pred[i] += alpha_hat[j] * rbf_kernel(X_train[j], X_test[i], sigma)\n",
    "\n",
    "    #MSE\n",
    "    mse = mean_squared_error(Y_test, Y_pred)\n",
    "    results_rbf.append((lambda_val, mse))\n"
   ]
  },
  {
   "cell_type": "markdown",
   "metadata": {},
   "source": [
    "#### Kernel Regression with Sklearn"
   ]
  },
  {
   "cell_type": "code",
   "execution_count": 15,
   "metadata": {},
   "outputs": [],
   "source": [
    "from sklearn.kernel_ridge import KernelRidge"
   ]
  },
  {
   "cell_type": "markdown",
   "metadata": {},
   "source": [
    "<font color=darkred>\n",
    "    \n",
    "Fit a ``KernelRidge`` from sklearn to train a kernel regression model, display the parameter estimate $\\widehat \\alpha$ and compute the MSE obtained on the test set.\n",
    "</font>"
   ]
  },
  {
   "cell_type": "code",
   "execution_count": 128,
   "metadata": {},
   "outputs": [
    {
     "name": "stdout",
     "output_type": "stream",
     "text": [
      "Pour lambda = 0.001, le MSE = 0.2623600079385747\n",
      "Pour lambda = 0.002, le MSE = 0.24958313790908676\n",
      "Pour lambda = 0.005, le MSE = 0.22634210689408213\n",
      "Pour lambda = 0.01, le MSE = 0.2086427930368827\n",
      "Pour lambda = 0.02, le MSE = 0.19520156000559163\n",
      "Pour lambda = 0.05, le MSE = 0.18464881385195409\n",
      "Pour lambda = 0.1, le MSE = 0.18007976288801306\n",
      "Pour lambda = 0.2, le MSE = 0.17789469993377324\n",
      "Pour lambda = 0.5, le MSE = 0.18274693263311798\n",
      "Pour lambda = 1.0, le MSE = 0.19370346841298602\n",
      "Pour lambda = 2.0, le MSE = 0.20226165236306207\n"
     ]
    }
   ],
   "source": [
    "kr = KernelRidge()\n",
    "results_kr = []\n",
    "\n",
    "for lambda_val in lambda_values:\n",
    "    kr = KernelRidge(alpha=lambda_val, kernel='linear')\n",
    "    kr.fit(X_train, Y_train)\n",
    "    \n",
    "    #Alpha hat\n",
    "    alpha_hat = kr.dual_coef_\n",
    "\n",
    "    #Prédire les valeurs de Y_test\n",
    "    Y_pred = kr.predict(X_test)\n",
    "    \n",
    "    #MSE\n",
    "    mse = mean_squared_error(Y_test, Y_pred)\n",
    "    \n",
    "    results_kr.append((lambda_val, mse))\n",
    "\n",
    "#Affichage résultats\n",
    "for lambda_val, mse in results_kr:\n",
    "    print(f\"Pour lambda = {lambda_val}, le MSE = {mse}\")"
   ]
  },
  {
   "cell_type": "code",
   "execution_count": 133,
   "metadata": {},
   "outputs": [
    {
     "data": {
      "image/png": "[encoded data removed]",
      "text/plain": [
       "<Figure size 800x500 with 1 Axes>"
      ]
     },
     "metadata": {},
     "output_type": "display_data"
    }
   ],
   "source": [
    "#VISUALISATION\n",
    "\n",
    "plt.figure(figsize=(8, 5))\n",
    "\n",
    "#Linear\n",
    "x = [lambda_val for lambda_val, _ in results_lin]\n",
    "y = [mse for _, mse in results_lin]\n",
    "plt.scatter(x, y, color=\"blue\", marker=\"o\", label=\"K linear\")\n",
    "\n",
    "#Rbf\n",
    "y = [mse for _, mse in results_rbf]\n",
    "plt.scatter(x, y, color=\"red\", marker=\"x\", label=f\"Rbf sigma= {sigma}\")\n",
    "\n",
    "#SK linear\n",
    "y = [mse for _, mse in results_kr]\n",
    "plt.scatter(x, y ,color=\"black\",marker= 'v', label=\"Sklearn\")\n",
    "\n",
    "#Pour la beauté\n",
    "plt.xlabel(\"Valeur de λ\")\n",
    "plt.ylabel(\"Erreur quadratique moyenne (MSE)\")\n",
    "plt.title(\"Évolution de l'erreur en fonction de λ\")\n",
    "plt.xscale('log')\n",
    "plt.legend()\n",
    "plt.grid(True, linestyle=\"--\", alpha=0.7)\n",
    "\n",
    "# Afficher le graphique\n",
    "plt.show()"
   ]
  },
  {
   "cell_type": "markdown",
   "metadata": {},
   "source": [
    "#### Cross Validation"
   ]
  },
  {
   "cell_type": "markdown",
   "metadata": {},
   "source": [
    "<font color=darkred>\n",
    "    \n",
    "Implement a grid search from scratch for the given ``KernelRidge`` model with radial basis function (RBF) kernel and hyperparameter ``alpha``. Create a new training dataset (X_train, Y_train) and a validation dataset (X_val, Y_val) using the actual (X_train, Y_train) datasets. Write a function that performs grid search to find the best value of ``alpha`` and displays the best hyperparameter along with the corresponding validation MSE.\n",
    "</font>"
   ]
  },
  {
   "cell_type": "code",
   "execution_count": 134,
   "metadata": {},
   "outputs": [
    {
     "name": "stdout",
     "output_type": "stream",
     "text": [
      "Meilleur alpha : 0.1\n",
      "Meilleur sigma : 10.0\n",
      "Meilleur MSE de validation : 0.012248373923465892\n"
     ]
    }
   ],
   "source": [
    "model = KernelRidge(kernel='rbf', gamma=0.1)\n",
    "\n",
    "# Validation set\n",
    "X_train, X_val, Y_train, Y_val = train_test_split(X_train, Y_train, test_size=0.1)\n",
    "\n",
    "\n",
    "# Définir les valeurs de alpha et sigma\n",
    "alpha_values = [0.001, 0.002, 0.005, 0.01, 0.02, 0.05, 0.1, 0.2, 0.5, 1.0, 2.0]\n",
    "sigma_values = [0.01, 0.02, 0.05, 0.1, 0.2, 0.5, 1.0, 2.0, 5.0, 10.0, 20.0]\n",
    "\n",
    "def grid_search_kernel_ridge(X_train, Y_train, X_val, Y_val, alpha_values, sigma_values):\n",
    "    best_alpha = None\n",
    "    best_sigma = None\n",
    "    best_mse = float('inf')\n",
    "    \n",
    "    for sigma in sigma_values:\n",
    "        for alpha in alpha_values:\n",
    "            # Créer et ajuster le modèle KernelRidge avec noyau RBF\n",
    "            kr = KernelRidge(alpha=alpha, kernel='rbf', gamma=1/(2*sigma**2))\n",
    "            kr.fit(X_train, Y_train)\n",
    "            \n",
    "            # Prédire les valeurs de Y_val\n",
    "            Y_pred = kr.predict(X_val)\n",
    "            \n",
    "            # Calculer le MSE\n",
    "            mse = mean_squared_error(Y_val, Y_pred)\n",
    "            \n",
    "            # Vérifier si c'est le meilleur MSE\n",
    "            if mse < best_mse:\n",
    "                best_mse = mse\n",
    "                best_alpha = alpha\n",
    "                best_sigma = sigma\n",
    "    \n",
    "    print(f\"Meilleur alpha : {best_alpha}\")\n",
    "    print(f\"Meilleur sigma : {best_sigma}\")\n",
    "    print(f\"Meilleur MSE de validation : {best_mse}\")\n",
    "\n",
    "# Exécuter la recherche en grille\n",
    "grid_search_kernel_ridge(X_train, Y_train, X_val, Y_val, alpha_values, sigma_values)"
   ]
  },
  {
   "cell_type": "markdown",
   "metadata": {},
   "source": [
    "<font color=darkred>\n",
    "    \n",
    "Implement a grid search using either ``GridSearchCV`` or ``RandomizedSearchCV`` for the given ``KernelRidge`` model with a radial basis function (RBF) kernel and hyperparameters ``alpha`` and ``gamma``. Display the optimal hyperparameters along with the corresponding validation MSE.\n",
    "    \n",
    "</font>"
   ]
  },
  {
   "cell_type": "code",
   "execution_count": 135,
   "metadata": {},
   "outputs": [],
   "source": [
    "from sklearn.model_selection import GridSearchCV, RandomizedSearchCV"
   ]
  },
  {
   "cell_type": "code",
   "execution_count": 136,
   "metadata": {},
   "outputs": [
    {
     "name": "stdout",
     "output_type": "stream",
     "text": [
      "Meilleurs hyperparamètres : {'alpha': 0.001, 'gamma': 0.01}\n",
      "Meilleur MSE de validation : 0.056937900126797135\n"
     ]
    }
   ],
   "source": [
    "param_grid = {\n",
    "    'alpha': [0.001, 0.002, 0.005, 0.01, 0.02, 0.05, 0.1, 0.2, 0.5, 1.0, 2.0],\n",
    "    'gamma': np.logspace(-2, 2, 5)\n",
    "}\n",
    "\n",
    "kr = KernelRidge(kernel='rbf')\n",
    "\n",
    "# Utiliser GridSearchCV pour trouver les meilleurs hyperparamètres\n",
    "grid_search = GridSearchCV(kr, param_grid, scoring='neg_mean_squared_error', cv=5)\n",
    "grid_search.fit(X_train, Y_train)\n",
    "\n",
    "# Afficher les meilleurs hyperparamètres et le MSE de validation correspondant\n",
    "best_params = grid_search.best_params_\n",
    "best_mse = -grid_search.best_score_\n",
    "\n",
    "print(f\"Meilleurs hyperparamètres : {best_params}\")\n",
    "print(f\"Meilleur MSE de validation : {best_mse}\")\n"
   ]
  },
  {
   "cell_type": "code",
   "execution_count": null,
   "metadata": {},
   "outputs": [],
   "source": []
  },
  {
   "cell_type": "code",
   "execution_count": null,
   "metadata": {},
   "outputs": [],
   "source": []
  },
  {
   "cell_type": "code",
   "execution_count": null,
   "metadata": {},
   "outputs": [],
   "source": []
  },
  {
   "cell_type": "code",
   "execution_count": null,
   "metadata": {},
   "outputs": [],
   "source": []
  },
  {
   "cell_type": "markdown",
   "metadata": {},
   "source": [
    "#### Ridge vs Lasso"
   ]
  },
  {
   "cell_type": "code",
   "execution_count": 15,
   "metadata": {},
   "outputs": [],
   "source": [
    "from sklearn.linear_model import Lasso, Ridge"
   ]
  },
  {
   "cell_type": "code",
   "execution_count": 16,
   "metadata": {},
   "outputs": [],
   "source": [
    "import warnings\n",
    "from sklearn.exceptions import ConvergenceWarning\n",
    "\n",
    "# Ignore ConvergenceWarning\n",
    "warnings.filterwarnings(\"ignore\", category=ConvergenceWarning)"
   ]
  },
  {
   "cell_type": "markdown",
   "metadata": {},
   "source": [
    "<font color=darkred>\n",
    "Create a np array with several values of the penalty parameter (called $\\alpha$ in Python)\n",
    "</font>"
   ]
  },
  {
   "cell_type": "code",
   "execution_count": 17,
   "metadata": {},
   "outputs": [],
   "source": [
    "n_alphas = 100\n",
    "alphas = np.logspace(-10, 3, n_alphas)"
   ]
  },
  {
   "cell_type": "markdown",
   "metadata": {},
   "source": [
    "<font color=darkred>\n",
    "Use the ``fit`` function of sklearn to fit a Lasso and Ridge model with for each value of $\\alpha$. \n",
    "    \n",
    "Store the estimated parameter, the number of zeros in the estimated parameter and the MSE on the test set after each training.\n",
    "</font>"
   ]
  },
  {
   "cell_type": "code",
   "execution_count": null,
   "metadata": {},
   "outputs": [],
   "source": []
  },
  {
   "cell_type": "markdown",
   "metadata": {},
   "source": [
    "<font color=darkred>\n",
    "Display the estimated parameters as a function of the penalty parameter.\n",
    "</font>"
   ]
  },
  {
   "cell_type": "code",
   "execution_count": null,
   "metadata": {},
   "outputs": [],
   "source": []
  },
  {
   "cell_type": "markdown",
   "metadata": {},
   "source": [
    "<font color=darkred>\n",
    "Display the number of zero coefficients of the estimated parameter as a function of the penalty parameter.\n",
    "</font>"
   ]
  },
  {
   "cell_type": "code",
   "execution_count": null,
   "metadata": {},
   "outputs": [],
   "source": []
  },
  {
   "cell_type": "markdown",
   "metadata": {},
   "source": [
    "<font color=darkred>\n",
    "Display the MSE on the test set as a function of the penalty parameter.\n",
    "</font>"
   ]
  },
  {
   "cell_type": "code",
   "execution_count": null,
   "metadata": {},
   "outputs": [],
   "source": []
  }
 ],
 "metadata": {
  "kernelspec": {
   "display_name": "Python 3",
   "language": "python",
   "name": "python3"
  },
  "language_info": {
   "codemirror_mode": {
    "name": "ipython",
    "version": 3
   },
   "file_extension": ".py",
   "mimetype": "text/x-python",
   "name": "python",
   "nbconvert_exporter": "python",
   "pygments_lexer": "ipython3",
   "version": "3.9.13"
  }
 },
 "nbformat": 4,
 "nbformat_minor": 4
}
