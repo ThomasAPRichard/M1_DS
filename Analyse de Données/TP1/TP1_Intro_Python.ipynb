{
 "cells": [
  {
   "cell_type": "markdown",
   "metadata": {},
   "source": [
    "# MU4MA077, Base d'analyse de donnée, 2024-2025\n",
    "# Analyse descriptive en Python\n",
    "\n",
    "<div style=\"text-align: right\"> \n",
    "Sorbonne Université, Master 1\n",
    "</div>\n",
    "\n",
    "<div style=\"text-align: right\"> \n",
    "Merci à Maxime Sangnier, et aux autres collègues dont j'ai pu m'inspirer pour construire ce TP\n",
    "</div>\n"
   ]
  },
  {
   "cell_type": "markdown",
   "metadata": {},
   "source": [
    "# Table of contents\n",
    "1. [JupyterLab en un éclair](#part1)\n",
    "    - [Raccourcis clavier](#part1sec1)\n",
    "    - [Obtenir de l'aide](#part1sec2)\n",
    "2. [Les bases du langage Python](#part2)\n",
    "    - [Nombres](#part2sec1)\n",
    "    - [Listes](#part2sec2)\n",
    "    - [Chaînes de caractères](#part2sec3)\n",
    "    - [Alternatives](#part2sec4)\n",
    "    - [Itérations](#part2sec5)\n",
    "    - [Boucle](#part2sec6)\n",
    "    - [Fonction](#part2sec7)\n",
    "3. [Calcul scientifique](#part3)\n",
    "    - [Vecteurs et matrices](#part3sec1)\n",
    "    - [Fonctions mathématiques usuelles](#part3sec2)\n",
    "    - [Lois de probabilités](#part3sec3)\n",
    "4. [Visualisation](#part4)\n",
    "    - [Afficher une courbe](#part4sec1)\n",
    "    - [Embellissement](#part4sec2)\n",
    "    - [Autres affichages](#part4sec3)\n",
    "5. [Introduction aux DataFrames avec Pandas](#part5)\n",
    "    - [Création et manipulation d'une DataFrame](#part5sec1)\n",
    "    - [Chargement des données](#part5sec2)\n",
    "6. [Quelques exercices](#part6)\n",
    "    - [Exercice 1](#part6sec1)\n",
    "    - [Exercice 2](#part6sec2)\n",
    "    - [Exercice 3](#part6sec3)\n",
    "    - [Exercice 4](#part6sec4)\n"
   ]
  },
  {
   "cell_type": "code",
   "execution_count": 2,
   "metadata": {},
   "outputs": [],
   "source": [
    "import numpy as np  # Vecteurs and matrices\n",
    "import pandas as pd\n",
    "from scipy import stats  # Distributions de probabilité \n",
    "import matplotlib.pyplot as plt  # Plots\n",
    "\n",
    "# Pour rendre les plots plus jolie\n",
    "import matplotlib as mpl\n",
    "try:\n",
    "    mpl.style.use('seaborn-v0_8')\n",
    "except:\n",
    "    mpl.style.use('seaborn')\n",
    "mpl.rcParams['image.cmap'] = 'plasma'\n",
    "nice_hist = dict(bins='auto', density=True, ec='w')"
   ]
  },
  {
   "cell_type": "markdown",
   "metadata": {},
   "source": [
    "# JupyterLab en un éclair <a id=\"part1\"></a>\n",
    "## Raccourcis clavier <a id=\"part1sec1\"></a>\n",
    "### Sur les cellules\n",
    "\n",
    "- ENTER : passer en mode édition de la cellule.\n",
    "- B : ajouter une cellule sous la cellule actuelle.\n",
    "- A : ajouter une cellule au dessus de la cellule actuelle.\n",
    "\n",
    "### Lors de l'édition d'une cellule\n",
    "\n",
    "- ESC : sortir du mode édition de la cellule.\n",
    "- CTRL+ENTER : exécuter le contenu de la cellule.\n",
    "- SHIFT+ENTER : exécuter le contenu de la cellule et passer à la suivante.\n",
    "- ALT+ENTER : exécuter le contenu de la cellule et ajouter une nouvelle cellule dessous.\n",
    "- TAB : après avoir écrit le début d'une commande (instruction, variable, fonction…), la touche TAB permet de compléter automatiquement la fin."
   ]
  },
  {
   "cell_type": "markdown",
   "metadata": {},
   "source": [
    "## Obtenir de l'aide <a id=\"part1sec2\"></a>\n",
    "Python bénéficie d'une aide extrêmement bien documentée, accessible par exemple grâce à `?`:"
   ]
  },
  {
   "cell_type": "markdown",
   "metadata": {},
   "source": [
    "Cette même documentation est accessible « en ligne »."
   ]
  },
  {
   "cell_type": "markdown",
   "metadata": {},
   "source": [
    "# Les bases du langage Python <a id=\"part2\"></a>\n",
    "## Nombres <a id=\"part2sec1\"></a>\n",
    "### Nombres entiers, à virgule et complexes"
   ]
  },
  {
   "cell_type": "code",
   "execution_count": 2,
   "metadata": {},
   "outputs": [
    {
     "name": "stdout",
     "output_type": "stream",
     "text": [
      "a : 1 <class 'int'>\n",
      "b : 1.0 <class 'float'>\n",
      "c : (1+2j) <class 'complex'>\n"
     ]
    }
   ],
   "source": [
    "a = 1  # Entier\n",
    "b = 1.  # Flottant\n",
    "c = 1.+2.j  # Complexe\n",
    "\n",
    "print('a :', a, type(a))\n",
    "print('b :', b, type(b))\n",
    "print('c :', c, type(c))"
   ]
  },
  {
   "cell_type": "code",
   "execution_count": 3,
   "metadata": {},
   "outputs": [
    {
     "name": "stdout",
     "output_type": "stream",
     "text": [
      "1.0 2.0\n"
     ]
    }
   ],
   "source": [
    "print(c.real, c.imag)"
   ]
  },
  {
   "cell_type": "code",
   "execution_count": 4,
   "metadata": {},
   "outputs": [
    {
     "name": "stdout",
     "output_type": "stream",
     "text": [
      "\u001b[1;31mSignature:\u001b[0m \u001b[0mprint\u001b[0m\u001b[1;33m(\u001b[0m\u001b[1;33m*\u001b[0m\u001b[0margs\u001b[0m\u001b[1;33m,\u001b[0m \u001b[0msep\u001b[0m\u001b[1;33m=\u001b[0m\u001b[1;34m' '\u001b[0m\u001b[1;33m,\u001b[0m \u001b[0mend\u001b[0m\u001b[1;33m=\u001b[0m\u001b[1;34m'\\n'\u001b[0m\u001b[1;33m,\u001b[0m \u001b[0mfile\u001b[0m\u001b[1;33m=\u001b[0m\u001b[1;32mNone\u001b[0m\u001b[1;33m,\u001b[0m \u001b[0mflush\u001b[0m\u001b[1;33m=\u001b[0m\u001b[1;32mFalse\u001b[0m\u001b[1;33m)\u001b[0m\u001b[1;33m\u001b[0m\u001b[1;33m\u001b[0m\u001b[0m\n",
      "\u001b[1;31mDocstring:\u001b[0m\n",
      "Prints the values to a stream, or to sys.stdout by default.\n",
      "\n",
      "sep\n",
      "  string inserted between values, default a space.\n",
      "end\n",
      "  string appended after the last value, default a newline.\n",
      "file\n",
      "  a file-like object (stream); defaults to the current sys.stdout.\n",
      "flush\n",
      "  whether to forcibly flush the stream.\n",
      "\u001b[1;31mType:\u001b[0m      builtin_function_or_method"
     ]
    }
   ],
   "source": [
    "print?"
   ]
  },
  {
   "cell_type": "markdown",
   "metadata": {},
   "source": [
    "### Opérations"
   ]
  },
  {
   "cell_type": "code",
   "execution_count": 5,
   "metadata": {},
   "outputs": [
    {
     "name": "stdout",
     "output_type": "stream",
     "text": [
      "2\n",
      "1\n",
      "0.5\n",
      "0\n"
     ]
    }
   ],
   "source": [
    "print(a * 2)  # Produit\n",
    "print(a**2)  # Puissance\n",
    "print(a / 2)  # Division\n",
    "print(a // 2)  # Division entière"
   ]
  },
  {
   "cell_type": "markdown",
   "metadata": {},
   "source": [
    "### Booléens"
   ]
  },
  {
   "cell_type": "code",
   "execution_count": 6,
   "metadata": {},
   "outputs": [
    {
     "name": "stdout",
     "output_type": "stream",
     "text": [
      "test : True <class 'bool'>\n"
     ]
    }
   ],
   "source": [
    "test = True\n",
    "print('test :', test, type(test))"
   ]
  },
  {
   "cell_type": "code",
   "execution_count": 7,
   "metadata": {},
   "outputs": [
    {
     "name": "stdout",
     "output_type": "stream",
     "text": [
      "True\n",
      "True\n",
      "False\n",
      "False\n"
     ]
    }
   ],
   "source": [
    "print(test and a == 1)\n",
    "print(test or a == 2)\n",
    "print(a != 1)\n",
    "print(test and not a == 1)"
   ]
  },
  {
   "cell_type": "markdown",
   "metadata": {},
   "source": [
    "Un Booléen peut être facilement converti en nombre avec la convention suivante : `True = 1`, `False = 0`."
   ]
  },
  {
   "cell_type": "code",
   "execution_count": 8,
   "metadata": {},
   "outputs": [
    {
     "name": "stdout",
     "output_type": "stream",
     "text": [
      "1\n",
      "2 0 3.2\n"
     ]
    }
   ],
   "source": [
    "print(int(test))  # Cast Boolean to int\n",
    "print(test+1, test-1, test*3.2)"
   ]
  },
  {
   "cell_type": "markdown",
   "metadata": {},
   "source": [
    "## Listes <a id=\"part2sec2\"></a>\n",
    "Une liste peut être vue comme l'équivalent d'une suite : c'est une collection ordonnée d'objets (pouvant parfaitement être de types différents) qui peut être agrandie à souhait."
   ]
  },
  {
   "cell_type": "code",
   "execution_count": 9,
   "metadata": {},
   "outputs": [
    {
     "name": "stdout",
     "output_type": "stream",
     "text": [
      "[1, 3, 5, 7, 'odd numbers']\n"
     ]
    }
   ],
   "source": [
    "l = [1, 3, 5, 7, \"odd numbers\"]\n",
    "print(l)"
   ]
  },
  {
   "cell_type": "code",
   "execution_count": 10,
   "metadata": {},
   "outputs": [
    {
     "name": "stdout",
     "output_type": "stream",
     "text": [
      "Taille de la liste : 5\n"
     ]
    }
   ],
   "source": [
    "print(\"Taille de la liste :\", len(l))"
   ]
  },
  {
   "cell_type": "markdown",
   "metadata": {},
   "source": [
    "#### Indiçage d'une liste\n",
    "<b style=\"color:red\">Attention :</b> L'indiçage d'une liste commence à 0 en Python."
   ]
  },
  {
   "cell_type": "code",
   "execution_count": 11,
   "metadata": {},
   "outputs": [
    {
     "name": "stdout",
     "output_type": "stream",
     "text": [
      "First item:  1\n",
      "Last item:  odd numbers\n"
     ]
    }
   ],
   "source": [
    "print(\"First item: \", l[0])  # Premier item\n",
    "print(\"Last item: \", l[-1])  # Dernier item"
   ]
  },
  {
   "cell_type": "markdown",
   "metadata": {},
   "source": [
    "Afin d'extraire une sous-liste, il est possible d'utiliser la syntaxe : `l[début:fin:pas]`.\n",
    "Si certaines de ces informations sont omises, elles sont alors automatiquement interprétées avec les valeurs par défaut : `début = 0`, `fin = len(l)`, `pas=1`.\n",
    "\n",
    "<b style=\"color:red\">Attention :</b> L'élement indicé par `fin` est toujours exclu.\n",
    "\n",
    "Voici quelques cas particuliers :"
   ]
  },
  {
   "cell_type": "code",
   "execution_count": 12,
   "metadata": {},
   "outputs": [
    {
     "name": "stdout",
     "output_type": "stream",
     "text": [
      "Élements indicés de 1 à 3 : [3, 5, 7]\n",
      "Trois premiers éléments : [1, 3, 5]\n",
      "Élements indicés de 3 jusqu'à la fin : [7, 'odd numbers']\n",
      "Sous-liste constituée d'un élément sur deux : [1, 5, 'odd numbers']\n"
     ]
    }
   ],
   "source": [
    "print(\"Élements indicés de 1 à 3 :\", l[1:4])\n",
    "print(\"Trois premiers éléments :\", l[:3])\n",
    "print(\"Élements indicés de 3 jusqu'à la fin :\", l[3:])\n",
    "print(\"Sous-liste constituée d'un élément sur deux :\", l[::2])"
   ]
  },
  {
   "cell_type": "markdown",
   "metadata": {},
   "source": [
    "#### Concaténation, ajout et suppression d'éléments"
   ]
  },
  {
   "cell_type": "code",
   "execution_count": 13,
   "metadata": {},
   "outputs": [
    {
     "name": "stdout",
     "output_type": "stream",
     "text": [
      "[1, 3, 5, 7, 'odd numbers', 9, 11]\n"
     ]
    }
   ],
   "source": [
    "l.extend([9, 11])  # Concatenation\n",
    "print(l)"
   ]
  },
  {
   "cell_type": "code",
   "execution_count": 14,
   "metadata": {},
   "outputs": [
    {
     "name": "stdout",
     "output_type": "stream",
     "text": [
      "[1, 3, 5, 7, 'odd numbers', 9, 11, 13]\n"
     ]
    }
   ],
   "source": [
    "l.append(13)  # Ajouter un item à la fin de la liste\n",
    "print(l)"
   ]
  },
  {
   "cell_type": "code",
   "execution_count": 15,
   "metadata": {},
   "outputs": [
    {
     "name": "stdout",
     "output_type": "stream",
     "text": [
      "[3, 5, 7, 'odd numbers', 9, 11, 13]\n"
     ]
    }
   ],
   "source": [
    "del l[0]  # Supprimer le premier item\n",
    "print(l)"
   ]
  },
  {
   "cell_type": "markdown",
   "metadata": {},
   "source": [
    "#### Présence d'un élément dans une liste"
   ]
  },
  {
   "cell_type": "code",
   "execution_count": 16,
   "metadata": {},
   "outputs": [
    {
     "name": "stdout",
     "output_type": "stream",
     "text": [
      "2 is in l:  False\n",
      "3 is in l:  True\n"
     ]
    }
   ],
   "source": [
    "print(\"2 is in l: \", 2 in l)\n",
    "print(\"3 is in l: \", 3 in l)"
   ]
  },
  {
   "cell_type": "markdown",
   "metadata": {},
   "source": [
    "## Chaînes de caractères <a id=\"part2sec3\"></a>\n",
    "Les chaînes de caractères se définissent simplement avec des guillemets simples `'` ou doubles `\"`.\n",
    "Le plus intéressant pour nous est la possibilité d'y insérer le contenu de variables au format souhaité."
   ]
  },
  {
   "cell_type": "code",
   "execution_count": 17,
   "metadata": {},
   "outputs": [
    {
     "name": "stdout",
     "output_type": "stream",
     "text": [
      "La p-valeur du test est 0.049\n",
      "La p-valeur du test est 4.90e-02\n"
     ]
    }
   ],
   "source": [
    "p = 0.049\n",
    "print(f\"La p-valeur du test est {p}\")  # Format par defaut\n",
    "print(f\"La p-valeur du test est {p:0.2e}\")  # Format scientifique"
   ]
  },
  {
   "cell_type": "code",
   "execution_count": 18,
   "metadata": {},
   "outputs": [
    {
     "name": "stdout",
     "output_type": "stream",
     "text": [
      "i=1\n"
     ]
    }
   ],
   "source": [
    "t = 1.\n",
    "print(f\"i={int(t)}\")  # Format entier"
   ]
  },
  {
   "cell_type": "markdown",
   "metadata": {},
   "source": [
    "Si une chaîne de caractères contient des formules LaTeX, il convient de doubler les barres obliques inversées `\\` et les accolades `{}` **dans les expressions LaTeX uniquement**. On utilisera donc `\\\\` et `{{}}`, le mécanisme `{}` ne servira que pour insérer la valeur d'une variable. Cela sera principalement utile pour les légendes de graphes (cf. infra), la routine `print` n'interprétant pas les expression LaTeX."
   ]
  },
  {
   "cell_type": "code",
   "execution_count": 19,
   "metadata": {},
   "outputs": [
    {
     "name": "stdout",
     "output_type": "stream",
     "text": [
      "Exemple d'une loi normale centrée mais non-réduite : $\\mathcal{N}(0, 2.5)$, et d'une loi du chi-deux : $\\chi^2_{10}$.\n"
     ]
    },
    {
     "data": {
      "text/plain": [
       "Text(0, 0, \"Exemple d'une loi normale centrée mais non-réduite : $\\\\mathcal{N}(0, 2.5)$, et d'une loi du chi-deux : $\\\\chi^2_{10}$.\")"
      ]
     },
     "execution_count": 19,
     "metadata": {},
     "output_type": "execute_result"
    },
    {
     "data": {
      "image/png": "[encoded data removed]",
      "text/plain": [
       "<Figure size 10x10 with 1 Axes>"
      ]
     },
     "metadata": {},
     "output_type": "display_data"
    }
   ],
   "source": [
    "sigma2 = 2.5\n",
    "ddl = 10\n",
    "print(f\"Exemple d'une loi normale centrée mais non-réduite : $\\\\mathcal{{N}}(0, {sigma2})$, et d'une loi du chi-deux : $\\\\chi^2_{{{ddl}}}$.\")  # LaTeX support\n",
    "\n",
    "# Exemple de résultat\n",
    "plt.figure(figsize=(0.1, 0.1))\n",
    "plt.xticks([])\n",
    "plt.yticks([])\n",
    "plt.text(0, 0, f\"Exemple d'une loi normale centrée mais non-réduite : $\\\\mathcal{{N}}(0, {sigma2})$, et d'une loi du chi-deux : $\\\\chi^2_{{{ddl}}}$.\")"
   ]
  },
  {
   "cell_type": "markdown",
   "metadata": {},
   "source": [
    "## Alternatives <a id=\"part2sec4\"></a>\n",
    "En Python, les blocs de codes sont définis par l'indentation.\n",
    "Ainsi, les instructions à exécuter se trouvent directement sous `if`, `elif` ou `else` (en fonction de l'issue de l'alternative) et **indentées**.\n",
    "\n",
    "Les comparaisons sont effectuées avec les opérateurs `==`, `!=`, `is`, `in`, `not`, `<`, `<=`, …"
   ]
  },
  {
   "cell_type": "code",
   "execution_count": 20,
   "metadata": {},
   "outputs": [
    {
     "name": "stdout",
     "output_type": "stream",
     "text": [
      "La valeur inconnue est plus grande que 3.\n"
     ]
    }
   ],
   "source": [
    "h = 3.14  # Cyble\n",
    "i = 3  # essaie\n",
    "\n",
    "print(\"La valeur inconnue est\", end=\" \")\n",
    "if h < i:\n",
    "    print(\"plus petite que %d.\" % i)\n",
    "elif h > i:\n",
    "    print(\"plus grande que %d.\" % i)\n",
    "else:\n",
    "    print(\"exactly %d.\" % i)"
   ]
  },
  {
   "cell_type": "markdown",
   "metadata": {},
   "source": [
    "## Itérations <a id=\"part2sec5\"></a>\n",
    "Une itération (communément appelée *boucle for*) permet de répéter une suite d'instructions sur plusieurs valeurs d'une variable itérée.\n",
    "\n",
    "L'exemple suivant itère sur l'intervalle $\\{0, 1, \\dots, 9\\}$."
   ]
  },
  {
   "cell_type": "code",
   "execution_count": 21,
   "metadata": {},
   "outputs": [
    {
     "name": "stdout",
     "output_type": "stream",
     "text": [
      "0 1 2 3 4 5 6 7 8 9 "
     ]
    }
   ],
   "source": [
    "for it in range(10):\n",
    "    print(it, end=\" \")"
   ]
  },
  {
   "cell_type": "markdown",
   "metadata": {},
   "source": [
    "L'une des particularités du langage Python est de permettre la construction d'itérations sur plusieurs types d'objets : intervalles, listes, dictionnaires…\n",
    "\n",
    "### Intervalles\n",
    "Un intervalle peut être construit de manière similaire à l'extraction d'une sous-liste : `range(fin)` or `range(début, fin, pas)` (encore une fois avec les valeurs par défaut `début = 0` et `pas = 1` en cas d'omission)."
   ]
  },
  {
   "cell_type": "code",
   "execution_count": 22,
   "metadata": {},
   "outputs": [
    {
     "name": "stdout",
     "output_type": "stream",
     "text": [
      "0 1 2 3 4 "
     ]
    }
   ],
   "source": [
    "for it in range(5):\n",
    "    print(it, end=\" \")"
   ]
  },
  {
   "cell_type": "code",
   "execution_count": 23,
   "metadata": {},
   "outputs": [
    {
     "name": "stdout",
     "output_type": "stream",
     "text": [
      "10 13 16 19 "
     ]
    }
   ],
   "source": [
    "for it in range(10, 20, 3):\n",
    "    print(it, end=\" \")"
   ]
  },
  {
   "cell_type": "markdown",
   "metadata": {},
   "source": [
    "### Listes"
   ]
  },
  {
   "cell_type": "code",
   "execution_count": 24,
   "metadata": {},
   "outputs": [
    {
     "name": "stdout",
     "output_type": "stream",
     "text": [
      "0.2\n",
      "4\n",
      "0.8\n",
      "7\n",
      "end\n"
     ]
    }
   ],
   "source": [
    "l = [0.2, 4, 0.8, 7, \"end\"]\n",
    "for elem in l:\n",
    "    print(elem)"
   ]
  },
  {
   "cell_type": "markdown",
   "metadata": {},
   "source": [
    "### Deux commandes utiles : `enumerate` et `zip`\n",
    "Afin d'enrichir les possibilités d'itération, Python dispose des commandes suivantes :\n",
    "- `enumerate(l)`, qui crée simultanément deux itérateurs `i` et `val`, l'un parcourant les indices, l'autre les valeurs de `l` ;\n",
    "- `zip(l1, l2)`, qui crée simultanément deux itérateurs `x` et `y`, l'un parcourant `l1`, l'autre parcourant `l2`."
   ]
  },
  {
   "cell_type": "code",
   "execution_count": 25,
   "metadata": {},
   "outputs": [
    {
     "name": "stdout",
     "output_type": "stream",
     "text": [
      "0.2 (item 0)\n",
      "4 (item 1)\n",
      "0.8 (item 2)\n",
      "7 (item 3)\n",
      "end (item 4)\n"
     ]
    }
   ],
   "source": [
    "l = [0.2, 4, 0.8, 7, \"end\"]\n",
    "for i, val in enumerate(l):\n",
    "    print(val, \"(item %d)\" % i)"
   ]
  },
  {
   "cell_type": "code",
   "execution_count": 26,
   "metadata": {},
   "outputs": [
    {
     "name": "stdout",
     "output_type": "stream",
     "text": [
      "x = 1 , y = 0\n",
      "x = 0 , y = 1\n",
      "x = -1 , y = 0\n",
      "x = 0 , y = -1\n"
     ]
    }
   ],
   "source": [
    "for x, y in zip([1, 0, -1, 0], [0, 1, 0, -1]):\n",
    "    print(\"x =\", x, \", y =\", y)"
   ]
  },
  {
   "cell_type": "markdown",
   "metadata": {},
   "source": [
    "### Création de listes par filtrage\n",
    "Parfois appelée *compréhension de listes*, la création de listes par filtrage est une manière concise de créer une liste."
   ]
  },
  {
   "cell_type": "code",
   "execution_count": 27,
   "metadata": {},
   "outputs": [
    {
     "name": "stdout",
     "output_type": "stream",
     "text": [
      "[0, 1, 4, 9, 16, 25, 36, 49, 64, 81]\n"
     ]
    }
   ],
   "source": [
    "l = [a**2 for a in range(10)]\n",
    "print(l)"
   ]
  },
  {
   "cell_type": "markdown",
   "metadata": {},
   "source": [
    "Cette compréhension est strictement équivalente à :"
   ]
  },
  {
   "cell_type": "code",
   "execution_count": 28,
   "metadata": {},
   "outputs": [
    {
     "name": "stdout",
     "output_type": "stream",
     "text": [
      "[0, 1, 4, 9, 16, 25, 36, 49, 64, 81]\n"
     ]
    }
   ],
   "source": [
    "l = []\n",
    "for a in range(10):\n",
    "    l.append(a**2)\n",
    "print(l)"
   ]
  },
  {
   "cell_type": "markdown",
   "metadata": {},
   "source": [
    "Un autre exemple :"
   ]
  },
  {
   "cell_type": "code",
   "execution_count": 29,
   "metadata": {},
   "outputs": [
    {
     "name": "stdout",
     "output_type": "stream",
     "text": [
      "[0, 4, 16, 36, 64]\n"
     ]
    }
   ],
   "source": [
    "l = [a**2 for a in range(10) if a%2 == 0]\n",
    "print(l)"
   ]
  },
  {
   "cell_type": "markdown",
   "metadata": {},
   "source": [
    "## Boucle <a id=\"part2sec6\"></a>\n",
    "Une boucle (communément appelée *boucle while*) permet de répéter une suite d'instructions tant qu'une condition est vérifiée.\n",
    "\n",
    "L'exemple suivant permet de déterminer la partie entière `y` d'un nombre `x` positif."
   ]
  },
  {
   "cell_type": "code",
   "execution_count": 30,
   "metadata": {},
   "outputs": [
    {
     "name": "stdout",
     "output_type": "stream",
     "text": [
      "La partie entière de 12.3 est 12\n"
     ]
    }
   ],
   "source": [
    "x = 12.3\n",
    "\n",
    "y = 0\n",
    "while y <= x:\n",
    "    y = y + 1\n",
    "y = y - 1\n",
    "print(\"La partie entière de %.1f est %d\" % (x, y))"
   ]
  },
  {
   "cell_type": "markdown",
   "metadata": {},
   "source": [
    "## Fonction <a id=\"part2sec7\"></a>\n",
    "Une fonction est définie avec le mot clef `def`.\n",
    "Elle peut avoir des arguments ou non (avec ou sans valeurs par défaut) et retourner un résultat ou non.\n",
    "\n",
    "L'exemple suivant retourne la liste des carrés des nombres passés en argument."
   ]
  },
  {
   "cell_type": "code",
   "execution_count": 31,
   "metadata": {},
   "outputs": [
    {
     "name": "stdout",
     "output_type": "stream",
     "text": [
      "[9, 16, 36]\n"
     ]
    }
   ],
   "source": [
    "def square(l):\n",
    "    L = []\n",
    "    for elem in l:\n",
    "        L.append(elem**2)\n",
    "    return L\n",
    "\n",
    "print(square([3, 4, 6]))"
   ]
  },
  {
   "cell_type": "markdown",
   "metadata": {},
   "source": [
    "### Méthodes\n",
    "Python est un langage de programmation orientée objet.\n",
    "Ainsi, tout objet (nombre, liste…) possède un ensemble de fonctions capables de le modifier.\n",
    "Ces fonctions sont appelées méthodes.\n",
    "\n",
    "C'est par exemple le cas d'une liste `l` dont deux méthodes déjà vues sont : `l.append()` et `l.extend()`.\n",
    "Un autre exemple :"
   ]
  },
  {
   "cell_type": "code",
   "execution_count": 32,
   "metadata": {},
   "outputs": [
    {
     "name": "stdout",
     "output_type": "stream",
     "text": [
      "[5, 3, 1]\n"
     ]
    }
   ],
   "source": [
    "l = [1, 3, 5]\n",
    "l.reverse()  # l est inversé (donc modifié)\n",
    "print(l)\n"
   ]
  },
  {
   "cell_type": "markdown",
   "metadata": {},
   "source": [
    "Pour connaître les méthodes associées à un objet `l`, écrire :\n",
    "    \n",
    "    l.\n",
    "    \n",
    "puis taper TAB.\n",
    "Le raccourci SHIFT+TAB permet ensuite d'obtenir la documentation de la méthode."
   ]
  },
  {
   "cell_type": "markdown",
   "metadata": {},
   "source": [
    "# Calcul scientifique <a id=\"part3\"></a>\n",
    "## Vecteurs et matrices <a id=\"part3sec1\"></a>\n",
    "### Création\n",
    "Les vecteurs et matrices sont des tableaux créés avec le module `numpy`, abrégé ici `np`."
   ]
  },
  {
   "cell_type": "code",
   "execution_count": 33,
   "metadata": {},
   "outputs": [
    {
     "name": "stdout",
     "output_type": "stream",
     "text": [
      "[[18. 17. 16.]\n",
      " [14. 19. 18.]]\n",
      "[5. 1. 3.]\n",
      "[155. 143.]\n"
     ]
    }
   ],
   "source": [
    "# A matrice\n",
    "A = np.array([[18., 17., 16.],\n",
    "              [14., 19., 18.]])\n",
    "print(A)\n",
    "\n",
    "# A vecteur\n",
    "b = np.array([5., 1., 3.])\n",
    "print(b)\n",
    "\n",
    "# Produit de A avec b\n",
    "print(A @ b)"
   ]
  },
  {
   "cell_type": "code",
   "execution_count": 34,
   "metadata": {},
   "outputs": [
    {
     "name": "stdout",
     "output_type": "stream",
     "text": [
      "Dimensions de A : (2, 3)\n"
     ]
    }
   ],
   "source": [
    "print(\"Dimensions de A :\", A.shape)  # Le resultat est un tuple "
   ]
  },
  {
   "cell_type": "code",
   "execution_count": 35,
   "metadata": {},
   "outputs": [
    {
     "name": "stdout",
     "output_type": "stream",
     "text": [
      "Nombre total d'éléments dans A : 6\n"
     ]
    }
   ],
   "source": [
    "print(\"Nombre total d'éléments dans A :\", A.size)"
   ]
  },
  {
   "cell_type": "markdown",
   "metadata": {},
   "source": [
    "### Vecteurs et matrices usuels"
   ]
  },
  {
   "cell_type": "code",
   "execution_count": 36,
   "metadata": {},
   "outputs": [
    {
     "data": {
      "text/plain": [
       "array([0. , 0.5, 1. , 1.5, 2. , 2.5, 3. , 3.5, 4. , 4.5])"
      ]
     },
     "execution_count": 36,
     "metadata": {},
     "output_type": "execute_result"
    }
   ],
   "source": [
    "np.arange(5, step=0.5)"
   ]
  },
  {
   "cell_type": "code",
   "execution_count": 37,
   "metadata": {},
   "outputs": [
    {
     "data": {
      "text/plain": [
       "array([[0., 0., 0., 0.],\n",
       "       [0., 0., 0., 0.],\n",
       "       [0., 0., 0., 0.]])"
      ]
     },
     "execution_count": 37,
     "metadata": {},
     "output_type": "execute_result"
    }
   ],
   "source": [
    "np.zeros((3, 4))"
   ]
  },
  {
   "cell_type": "code",
   "execution_count": 38,
   "metadata": {},
   "outputs": [
    {
     "data": {
      "text/plain": [
       "array([[1., 1., 1., 1., 1., 1., 1., 1., 1., 1.],\n",
       "       [1., 1., 1., 1., 1., 1., 1., 1., 1., 1.]])"
      ]
     },
     "execution_count": 38,
     "metadata": {},
     "output_type": "execute_result"
    }
   ],
   "source": [
    "np.ones((2, 10))"
   ]
  },
  {
   "cell_type": "code",
   "execution_count": 39,
   "metadata": {},
   "outputs": [
    {
     "data": {
      "text/plain": [
       "array([[1., 0., 0.],\n",
       "       [0., 1., 0.],\n",
       "       [0., 0., 1.]])"
      ]
     },
     "execution_count": 39,
     "metadata": {},
     "output_type": "execute_result"
    }
   ],
   "source": [
    "np.eye(3)"
   ]
  },
  {
   "cell_type": "code",
   "execution_count": 40,
   "metadata": {},
   "outputs": [
    {
     "data": {
      "text/plain": [
       "array([[1, 0, 0],\n",
       "       [0, 2, 0],\n",
       "       [0, 0, 3]])"
      ]
     },
     "execution_count": 40,
     "metadata": {},
     "output_type": "execute_result"
    }
   ],
   "source": [
    "np.diag([1, 2, 3])"
   ]
  },
  {
   "cell_type": "code",
   "execution_count": 41,
   "metadata": {},
   "outputs": [
    {
     "data": {
      "text/plain": [
       "array([0. , 0.2, 0.4, 0.6, 0.8, 1. ])"
      ]
     },
     "execution_count": 41,
     "metadata": {},
     "output_type": "execute_result"
    }
   ],
   "source": [
    "np.linspace(0, 1, num=6)"
   ]
  },
  {
   "cell_type": "markdown",
   "metadata": {},
   "source": [
    "### Indiçage et itération\n",
    "Les vecteurs et matrices sont une généralisation des listes simples et des listes de listes.\n",
    "À ce titre, ils peuvent être indicés ou utilisés pour construire une itération au même titre que les listes.\n",
    "\n",
    "<b style=\"color:red\">Attention :</b> L'indiçage d'un vecteur ou d'une matrice permet d'extraire les lignes de haut en bas."
   ]
  },
  {
   "cell_type": "code",
   "execution_count": 42,
   "metadata": {},
   "outputs": [
    {
     "name": "stdout",
     "output_type": "stream",
     "text": [
      "[0 1 2 3]\n",
      "[1 2]\n"
     ]
    }
   ],
   "source": [
    "a = np.arange(4)\n",
    "print(a)\n",
    "print(a[1:3])"
   ]
  },
  {
   "cell_type": "code",
   "execution_count": 43,
   "metadata": {},
   "outputs": [
    {
     "name": "stdout",
     "output_type": "stream",
     "text": [
      "[[1 0 0]\n",
      " [0 2 0]\n",
      " [0 0 3]]\n",
      "[1 0 0]\n"
     ]
    }
   ],
   "source": [
    "m = np.diag([1, 2, 3])\n",
    "print(m)\n",
    "print(m[0])"
   ]
  },
  {
   "cell_type": "markdown",
   "metadata": {},
   "source": [
    "Il est aussi possible d'extraire un unique élément :"
   ]
  },
  {
   "cell_type": "code",
   "execution_count": 44,
   "metadata": {},
   "outputs": [
    {
     "name": "stdout",
     "output_type": "stream",
     "text": [
      "2\n"
     ]
    }
   ],
   "source": [
    "print(m[1, 1])"
   ]
  },
  {
   "cell_type": "markdown",
   "metadata": {},
   "source": [
    "<b style=\"color:red\">Attention :</b> Pour copier un vecteur ou une matrice, il faut utiliser (au même titre que pour une liste) la méthode `copy`."
   ]
  },
  {
   "cell_type": "code",
   "execution_count": 45,
   "metadata": {},
   "outputs": [
    {
     "name": "stdout",
     "output_type": "stream",
     "text": [
      "[[1 1 0]\n",
      " [0 2 0]\n",
      " [0 0 3]]\n",
      "[[1 0 0]\n",
      " [0 2 0]\n",
      " [0 0 3]]\n"
     ]
    }
   ],
   "source": [
    "p = m.copy()\n",
    "m[0, 1] = 1\n",
    "\n",
    "print(m)\n",
    "print(p)"
   ]
  },
  {
   "cell_type": "code",
   "execution_count": 46,
   "metadata": {},
   "outputs": [
    {
     "name": "stdout",
     "output_type": "stream",
     "text": [
      "0.0\n",
      "0.1111111111111111\n",
      "0.2222222222222222\n",
      "0.3333333333333333\n",
      "0.4444444444444444\n",
      "0.5555555555555556\n",
      "0.6666666666666666\n",
      "0.7777777777777777\n",
      "0.8888888888888888\n",
      "1.0\n"
     ]
    }
   ],
   "source": [
    "for x in np.linspace(0, 1, num=10):\n",
    "    print(x)"
   ]
  },
  {
   "cell_type": "code",
   "execution_count": 47,
   "metadata": {},
   "outputs": [
    {
     "name": "stdout",
     "output_type": "stream",
     "text": [
      "[1 1 0]\n",
      "----------\n",
      "[0 2 0]\n",
      "----------\n",
      "[0 0 3]\n",
      "----------\n"
     ]
    }
   ],
   "source": [
    "for row in m:\n",
    "    print(row, end=\"\\n----------\\n\")"
   ]
  },
  {
   "cell_type": "markdown",
   "metadata": {},
   "source": [
    "### Méthodes mathématiques\n",
    "Les vecteurs et matrices disposent de méthodes permettant des traitements mathématiques usuels."
   ]
  },
  {
   "cell_type": "code",
   "execution_count": 48,
   "metadata": {},
   "outputs": [
    {
     "name": "stdout",
     "output_type": "stream",
     "text": [
      "[0 1 2 3]\n",
      "Somme des éléments : 6\n",
      "Produit des éléments : 0\n"
     ]
    }
   ],
   "source": [
    "print(a)\n",
    "print(\"Somme des éléments :\", a.sum())\n",
    "print(\"Produit des éléments :\", a.prod())"
   ]
  },
  {
   "cell_type": "code",
   "execution_count": 49,
   "metadata": {},
   "outputs": [
    {
     "data": {
      "text/plain": [
       "array([0, 1, 3, 6])"
      ]
     },
     "execution_count": 49,
     "metadata": {},
     "output_type": "execute_result"
    }
   ],
   "source": [
    "a.cumsum()"
   ]
  },
  {
   "cell_type": "code",
   "execution_count": 50,
   "metadata": {},
   "outputs": [
    {
     "data": {
      "text/plain": [
       "(1.5, 1.118033988749895)"
      ]
     },
     "execution_count": 50,
     "metadata": {},
     "output_type": "execute_result"
    }
   ],
   "source": [
    "a.mean(), a.std()"
   ]
  },
  {
   "cell_type": "code",
   "execution_count": 51,
   "metadata": {},
   "outputs": [
    {
     "data": {
      "text/plain": [
       "(0, 3)"
      ]
     },
     "execution_count": 51,
     "metadata": {},
     "output_type": "execute_result"
    }
   ],
   "source": [
    "a.min(), a.max()"
   ]
  },
  {
   "cell_type": "code",
   "execution_count": 52,
   "metadata": {},
   "outputs": [
    {
     "data": {
      "text/plain": [
       "(0, 3)"
      ]
     },
     "execution_count": 52,
     "metadata": {},
     "output_type": "execute_result"
    }
   ],
   "source": [
    "a.argmin(), a.argmax()"
   ]
  },
  {
   "cell_type": "code",
   "execution_count": 53,
   "metadata": {},
   "outputs": [
    {
     "name": "stdout",
     "output_type": "stream",
     "text": [
      "[3 4 5 6 9]\n"
     ]
    }
   ],
   "source": [
    "c = np.array([4, 3, 6, 5, 9])\n",
    "c.sort()  # Réarrangement \n",
    "print(c)"
   ]
  },
  {
   "cell_type": "markdown",
   "metadata": {},
   "source": [
    "Pour les matrices, il est possible de spécifier l'axe suivant lequel l'opération doit être effectuée : par exemple, `sum(axis=0)` somme les lignes   et `sum(axis=1)` somme les colonnes."
   ]
  },
  {
   "cell_type": "code",
   "execution_count": 54,
   "metadata": {},
   "outputs": [
    {
     "name": "stdout",
     "output_type": "stream",
     "text": [
      "[[1 1 0]\n",
      " [0 2 0]\n",
      " [0 0 3]]\n",
      "[2 2 3]\n"
     ]
    }
   ],
   "source": [
    "print(m)\n",
    "print(m.sum(axis=0))  # Somme de colonne"
   ]
  },
  {
   "cell_type": "markdown",
   "metadata": {},
   "source": [
    "## Fonctions mathématiques usuelles <a id=\"part3sec2\"></a>\n",
    "Toutes les fonctions mathématiques usuelles existent dans le module `np` et peuvent s'appliquer à un vecteur ou à une matrice élément par élément."
   ]
  },
  {
   "cell_type": "code",
   "execution_count": 55,
   "metadata": {},
   "outputs": [
    {
     "name": "stdout",
     "output_type": "stream",
     "text": [
      "Racine de 10 : 3.1622776601683795\n"
     ]
    }
   ],
   "source": [
    "print(\"Racine de 10 :\", np.sqrt(10))"
   ]
  },
  {
   "cell_type": "code",
   "execution_count": 56,
   "metadata": {},
   "outputs": [
    {
     "name": "stdout",
     "output_type": "stream",
     "text": [
      "[ 0.00000000e+00  6.42787610e-01  9.84807753e-01  8.66025404e-01\n",
      "  3.42020143e-01 -3.42020143e-01 -8.66025404e-01 -9.84807753e-01\n",
      " -6.42787610e-01 -2.44929360e-16]\n"
     ]
    }
   ],
   "source": [
    "x = np.linspace(0, 2*np.pi, num=10)\n",
    "print(np.sin(x))"
   ]
  },
  {
   "cell_type": "markdown",
   "metadata": {},
   "source": [
    "Les fonctions mathématiques spécifiques à l'algèbre linéaire existent dans le sous-module `np.linalg`."
   ]
  },
  {
   "cell_type": "code",
   "execution_count": 57,
   "metadata": {},
   "outputs": [
    {
     "name": "stdout",
     "output_type": "stream",
     "text": [
      "Vecteur : [ 0.70710678 -0.70710678]\n",
      "Norme : 0.9999999999999999\n"
     ]
    }
   ],
   "source": [
    "a = np.array([1/np.sqrt(2), -1/np.sqrt(2)])\n",
    "print(\"Vecteur :\", a)\n",
    "print(\"Norme :\", np.linalg.norm(a))"
   ]
  },
  {
   "cell_type": "code",
   "execution_count": 58,
   "metadata": {},
   "outputs": [
    {
     "name": "stdout",
     "output_type": "stream",
     "text": [
      "Matrice :\n",
      "[[1 1 0]\n",
      " [0 2 0]\n",
      " [0 0 3]]\n",
      "Inverse :\n",
      "[[ 1.         -0.5         0.        ]\n",
      " [ 0.          0.5         0.        ]\n",
      " [ 0.          0.          0.33333333]]\n"
     ]
    }
   ],
   "source": [
    "print(\"Matrice :\")\n",
    "print(m)\n",
    "print(\"Inverse :\")\n",
    "print(np.linalg.inv(m))"
   ]
  },
  {
   "cell_type": "markdown",
   "metadata": {},
   "source": [
    "Comme dans beaucoup de langages de calcul scientifique, les quantiles empiriques d'un échantillon ne sont pas nécessairement une statistique d'ordre :"
   ]
  },
  {
   "cell_type": "code",
   "execution_count": 59,
   "metadata": {},
   "outputs": [
    {
     "name": "stdout",
     "output_type": "stream",
     "text": [
      "Échantillon : [0 1 2 3]\n",
      "Médiane de Numpy : 1.5\n"
     ]
    }
   ],
   "source": [
    "a = np.arange(4)\n",
    "print(\"Échantillon :\", a)\n",
    "print(\"Médiane de Numpy :\", np.median(a))"
   ]
  },
  {
   "cell_type": "markdown",
   "metadata": {},
   "source": [
    "Pour faire en sorte que, pour tout $p \\in ]0, 1]$, le $p$-quantile empirique de l'échantillon $(X_1, \\dots, X_n)$ soit $X_{(\\lceil np \\rceil)}$, il nous faut utiliser l'expression `np.quantile(x, p, interpolation='lower')` ou `np.percentile(x, 100*p, interpolation='lower')` :"
   ]
  },
  {
   "cell_type": "code",
   "execution_count": 60,
   "metadata": {},
   "outputs": [
    {
     "name": "stdout",
     "output_type": "stream",
     "text": [
      "Échantillon : [0 1 2 3]\n",
      "Médiane : 1\n"
     ]
    }
   ],
   "source": [
    "print(\"Échantillon :\", a)\n",
    "print(\"Médiane :\", np.percentile(a, 50, interpolation='lower'))"
   ]
  },
  {
   "cell_type": "markdown",
   "metadata": {},
   "source": [
    "## Lois de probabilités <a id=\"part3sec3\"></a>\n",
    "Le module `stats` permet de créer des objets représentant les lois de probabilité usuelles et d'en calculer divers attributs (espérance, variance, quantiles…).\n",
    "Attention toutefois, les lois sont paramétrées « à l'anglaise ».\n",
    "Autrement dit, elles possèdent au moins un paramètre `loc`, dit de translation, et un paramètre `scale`, dit de dilatation ou d'échelle (les autres paramètres sont appelés *paramètres de forme*). Cela signifie que si $X$ suit la loi avec les paramètres par défaut, alors la variable $Y=$ `scale` $X$+`loc`suit la loi dilatée translatée.\n",
    "Les paramètres « à la française » peuveut se cacher dedans.\n",
    "L'exemple de la loi normale en témoigne."
   ]
  },
  {
   "cell_type": "code",
   "execution_count": 61,
   "metadata": {},
   "outputs": [
    {
     "name": "stdout",
     "output_type": "stream",
     "text": [
      "Espérance : 3.0\n",
      "Variance : 2.0000000000000004\n"
     ]
    }
   ],
   "source": [
    "norm = stats.norm(loc=3, scale=np.sqrt(2))  # Distribution Normale avec moyenne 3 et variance 2\n",
    "print(\"Espérance :\", norm.mean())\n",
    "print(\"Variance :\", norm.var())"
   ]
  },
  {
   "cell_type": "markdown",
   "metadata": {},
   "source": [
    "Ainsi que celui de la loi exponentielle $\\mathcal E(\\lambda)$, pour laquelle le paramètre de dilatation est $1/\\lambda$ :"
   ]
  },
  {
   "cell_type": "code",
   "execution_count": 62,
   "metadata": {},
   "outputs": [
    {
     "name": "stdout",
     "output_type": "stream",
     "text": [
      "Espérance : 0.5\n",
      "Variance : 0.25\n"
     ]
    }
   ],
   "source": [
    "exp = stats.expon(scale=1/2)  # Distribution exponentielle avec le paramètre lambda=\n",
    "\n",
    "print(\"Espérance :\", exp.mean())\n",
    "print(\"Variance :\", exp.var())"
   ]
  },
  {
   "cell_type": "markdown",
   "metadata": {},
   "source": [
    "Voici quelques exemples d'attributs calculables pour la loi $\\mathcal N(3, 2)$ :"
   ]
  },
  {
   "cell_type": "code",
   "execution_count": 63,
   "metadata": {},
   "outputs": [
    {
     "name": "stdout",
     "output_type": "stream",
     "text": [
      "Support : (-inf, inf)\n",
      "Médiane : 3.0\n",
      "0,975-quantile : 5.771807648699356\n",
      "Densité en x=0 : 0.02973257230590736\n"
     ]
    }
   ],
   "source": [
    "print(\"Support :\", norm.support())\n",
    "print(\"Médiane :\", norm.median())\n",
    "print(\"0,975-quantile :\", norm.ppf(0.975))\n",
    "print(\"Densité en x=0 :\", norm.pdf(0))"
   ]
  },
  {
   "cell_type": "markdown",
   "metadata": {},
   "source": [
    "Un dernier point important en statistique et pour les méthodes Monte-Carlo est la possibilité d'échantillonner suivant la loi :"
   ]
  },
  {
   "cell_type": "code",
   "execution_count": 64,
   "metadata": {},
   "outputs": [
    {
     "name": "stdout",
     "output_type": "stream",
     "text": [
      "Échantillon : [0.04112378 0.39571802 0.33439212 0.07008909 0.12941689 0.34837845\n",
      " 0.44341342 0.08067269 0.0027717  0.10351293 0.24096967 0.01699759\n",
      " 0.23634098 1.43903796 0.59760508 0.43065199 0.7588688  0.30196961\n",
      " 0.70399186 1.40552879]\n",
      "Moyenne : 0.40407257091799603\n",
      "Espérance : 0.5\n"
     ]
    }
   ],
   "source": [
    "x = exp.rvs(size=20)  # Echantillon aléatoire de la distribution exponentielle\n",
    "print(\"Échantillon :\", x)\n",
    "print(\"Moyenne :\", x.mean())\n",
    "print(\"Espérance :\", exp.mean())"
   ]
  },
  {
   "cell_type": "markdown",
   "metadata": {},
   "source": [
    "# Visualisation <a id=\"part4\"></a>\n",
    "## Afficher une courbe <a id=\"part4sec1\"></a>\n"
   ]
  },
  {
   "cell_type": "code",
   "execution_count": 65,
   "metadata": {},
   "outputs": [
    {
     "data": {
      "image/png": "[encoded data removed]",
      "text/plain": [
       "<Figure size 800x550 with 1 Axes>"
      ]
     },
     "metadata": {},
     "output_type": "display_data"
    }
   ],
   "source": [
    "x = np.arange(0, 2*np.pi, step=1e-1)\n",
    "y1 = np.sin(x)\n",
    "\n",
    "plt.plot(x, y1);"
   ]
  },
  {
   "cell_type": "markdown",
   "metadata": {},
   "source": [
    "## Embellissement <a id=\"part4sec2\"></a>\n",
    "### Étiquettes des axes et titre"
   ]
  },
  {
   "cell_type": "code",
   "execution_count": 66,
   "metadata": {},
   "outputs": [
    {
     "data": {
      "image/png": "[encoded data removed]",
      "text/plain": [
       "<Figure size 800x550 with 1 Axes>"
      ]
     },
     "metadata": {},
     "output_type": "display_data"
    }
   ],
   "source": [
    "plt.plot(x, y1)\n",
    "plt.xlabel(\"x\")\n",
    "plt.ylabel(\"y\")\n",
    "plt.title(\"Sine curve\");"
   ]
  },
  {
   "cell_type": "markdown",
   "metadata": {},
   "source": [
    "### Légende"
   ]
  },
  {
   "cell_type": "code",
   "execution_count": 67,
   "metadata": {},
   "outputs": [
    {
     "data": {
      "image/png": "[encoded data removed]",
      "text/plain": [
       "<Figure size 800x550 with 1 Axes>"
      ]
     },
     "metadata": {},
     "output_type": "display_data"
    }
   ],
   "source": [
    "y2 = np.cos(x)\n",
    "\n",
    "plt.plot(x, y1, label=\"sin\")\n",
    "plt.plot(x, y2, label=\"cos\")\n",
    "plt.xlabel(\"x\")\n",
    "plt.ylabel(\"y\")\n",
    "plt.title(\"Sine and cosine curves\")\n",
    "plt.legend();"
   ]
  },
  {
   "cell_type": "markdown",
   "metadata": {},
   "source": [
    "### Couleur et format des courbes"
   ]
  },
  {
   "cell_type": "code",
   "execution_count": 68,
   "metadata": {},
   "outputs": [
    {
     "data": {
      "image/png": "[encoded data removed]",
      "text/plain": [
       "<Figure size 800x550 with 1 Axes>"
      ]
     },
     "metadata": {},
     "output_type": "display_data"
    }
   ],
   "source": [
    "plt.plot(x, y1, 'r--', linewidth=2)\n",
    "plt.plot(x, y2, 'g-.', linewidth=2);"
   ]
  },
  {
   "cell_type": "markdown",
   "metadata": {},
   "source": [
    "### Sous-figures"
   ]
  },
  {
   "cell_type": "code",
   "execution_count": 69,
   "metadata": {},
   "outputs": [
    {
     "data": {
      "image/png": "[encoded data removed]",
      "text/plain": [
       "<Figure size 1000x500 with 2 Axes>"
      ]
     },
     "metadata": {},
     "output_type": "display_data"
    }
   ],
   "source": [
    "plt.figure(figsize=(10, 5))\n",
    "\n",
    "plt.subplot(1, 2, 1)  # 1 row, 2 columns, Item 1\n",
    "plt.plot(x, y1, linewidth=2, color='red')\n",
    "plt.xlabel(\"x\")\n",
    "plt.ylabel(\"y\")\n",
    "plt.title(\"Sine curve\")\n",
    "\n",
    "plt.subplot(1, 2, 2)  # 1 row, 2 columns, Item 2\n",
    "plt.plot(x, y2*np.exp(-x/2), linewidth=2, color='green')\n",
    "plt.xlabel(\"x\")\n",
    "plt.ylabel(\"y\")\n",
    "plt.title(\"Cos * exp curve\");"
   ]
  },
  {
   "cell_type": "markdown",
   "metadata": {},
   "source": [
    "### Échelle logarithmique"
   ]
  },
  {
   "cell_type": "code",
   "execution_count": 70,
   "metadata": {},
   "outputs": [
    {
     "data": {
      "image/png": "[encoded data removed]",
      "text/plain": [
       "<Figure size 1000x1000 with 4 Axes>"
      ]
     },
     "metadata": {},
     "output_type": "display_data"
    }
   ],
   "source": [
    "plt.figure(figsize=(10, 10))\n",
    "\n",
    "for it, (xscale, yscale) in enumerate([(\"linear\", \"linear\"),\n",
    "                                      (\"log\", \"linear\"),\n",
    "                                      (\"linear\", \"log\"),\n",
    "                                      (\"log\", \"log\")]):\n",
    "    plt.subplot(2, 2, it+1)\n",
    "    plt.plot(x, np.exp(-x), label=\"exp\")\n",
    "    plt.plot(x, x, label=\"linear\")\n",
    "    plt.grid(True, which=\"both\")\n",
    "    plt.xscale(xscale)\n",
    "    plt.yscale(yscale)\n",
    "    plt.legend()\n",
    "    plt.title(xscale + ' / ' + yscale)"
   ]
  },
  {
   "cell_type": "markdown",
   "metadata": {},
   "source": [
    "# Introduction aux DataFrames avec Pandas <a id=\"part5\"></a>\n",
    "\n",
    "Pandas est une bibliothèque Python très utilisée pour la manipulation de données, en particulier les données tabulaires sous forme de ``DataFrame``. Une ``DataFrame`` est une structure de données bidimensionnelle similaire à une table de base de données ou une feuille Excel où les données sont organisées en lignes et en colonnes. Chaque colonne peut contenir des types de données différents : entiers, flottants, chaînes de caractères, dates, etc. Voici un aperçu des opérations de base pour créer, manipuler et analyser une DataFrame dans Pandas.\n",
    "\n",
    "### Création et manipulation d'une DataFrame <a id=\"part5sec1\"></a>\n",
    "\n",
    "Pour commencer, vous pouvez créer une ``DataFrame`` de différentes façons. Par exemple, à partir d'un dictionnaire, d'une liste par exemple."
   ]
  },
  {
   "cell_type": "code",
   "execution_count": 71,
   "metadata": {},
   "outputs": [
    {
     "data": {
      "text/html": [
       "<div>\n",
       "<style scoped>\n",
       "    .dataframe tbody tr th:only-of-type {\n",
       "        vertical-align: middle;\n",
       "    }\n",
       "\n",
       "    .dataframe tbody tr th {\n",
       "        vertical-align: top;\n",
       "    }\n",
       "\n",
       "    .dataframe thead th {\n",
       "        text-align: right;\n",
       "    }\n",
       "</style>\n",
       "<table border=\"1\" class=\"dataframe\">\n",
       "  <thead>\n",
       "    <tr style=\"text-align: right;\">\n",
       "      <th></th>\n",
       "      <th>Nom</th>\n",
       "      <th>Age</th>\n",
       "      <th>Salaire</th>\n",
       "      <th>Sexe</th>\n",
       "    </tr>\n",
       "  </thead>\n",
       "  <tbody>\n",
       "    <tr>\n",
       "      <th>0</th>\n",
       "      <td>Alice</td>\n",
       "      <td>25</td>\n",
       "      <td>50000</td>\n",
       "      <td>F</td>\n",
       "    </tr>\n",
       "    <tr>\n",
       "      <th>1</th>\n",
       "      <td>Bob</td>\n",
       "      <td>30</td>\n",
       "      <td>55000</td>\n",
       "      <td>M</td>\n",
       "    </tr>\n",
       "    <tr>\n",
       "      <th>2</th>\n",
       "      <td>Charlie</td>\n",
       "      <td>35</td>\n",
       "      <td>60000</td>\n",
       "      <td>M</td>\n",
       "    </tr>\n",
       "    <tr>\n",
       "      <th>3</th>\n",
       "      <td>David</td>\n",
       "      <td>40</td>\n",
       "      <td>45000</td>\n",
       "      <td>M</td>\n",
       "    </tr>\n",
       "    <tr>\n",
       "      <th>4</th>\n",
       "      <td>Eve</td>\n",
       "      <td>28</td>\n",
       "      <td>52000</td>\n",
       "      <td>F</td>\n",
       "    </tr>\n",
       "  </tbody>\n",
       "</table>\n",
       "</div>"
      ],
      "text/plain": [
       "       Nom  Age  Salaire Sexe\n",
       "0    Alice   25    50000    F\n",
       "1      Bob   30    55000    M\n",
       "2  Charlie   35    60000    M\n",
       "3    David   40    45000    M\n",
       "4      Eve   28    52000    F"
      ]
     },
     "execution_count": 71,
     "metadata": {},
     "output_type": "execute_result"
    }
   ],
   "source": [
    "data = {\n",
    "    'Nom': ['Alice', 'Bob', 'Charlie', 'David', 'Eve'],\n",
    "    'Age': [25, 30, 35, 40, 28],\n",
    "    'Salaire': [50000, 55000, 60000, 45000, 52000],\n",
    "    'Sexe': ['F', 'M', 'M', 'M', 'F']\n",
    "}\n",
    "\n",
    "df = pd.DataFrame(data)\n",
    "df.head()"
   ]
  },
  {
   "cell_type": "markdown",
   "metadata": {},
   "source": [
    "Une fois la DataFrame créée, vous pouvez accéder à différentes parties des données. Par exemple on peut acceder à une colonne en utilisant son nom. "
   ]
  },
  {
   "cell_type": "code",
   "execution_count": 72,
   "metadata": {},
   "outputs": [
    {
     "name": "stdout",
     "output_type": "stream",
     "text": [
      "0    25\n",
      "1    30\n",
      "2    35\n",
      "3    40\n",
      "4    28\n",
      "Name: Age, dtype: int64\n"
     ]
    }
   ],
   "source": [
    "print(df['Age'])"
   ]
  },
  {
   "cell_type": "markdown",
   "metadata": {},
   "source": [
    "On peut églement utilisez ``loc[]`` ou ``iloc[]`` pour accéder par étiquette ou par index. "
   ]
  },
  {
   "cell_type": "code",
   "execution_count": 73,
   "metadata": {},
   "outputs": [
    {
     "name": "stdout",
     "output_type": "stream",
     "text": [
      "Nom        Alice\n",
      "Age           25\n",
      "Salaire    50000\n",
      "Sexe           F\n",
      "Name: 0, dtype: object\n",
      "Nom        Alice\n",
      "Age           25\n",
      "Salaire    50000\n",
      "Sexe           F\n",
      "Name: 0, dtype: object\n"
     ]
    }
   ],
   "source": [
    "# Accéder à la première ligne (par étiquette)\n",
    "print(df.loc[0])\n",
    "\n",
    "# Accéder à la première ligne (par index numérique)\n",
    "print(df.iloc[0])"
   ]
  },
  {
   "cell_type": "markdown",
   "metadata": {},
   "source": [
    "Enfin, on peut uiliser ``iloc[]`` pour accéder à un élément spécifique, ici par exemple, la 2eme ligne et 3eme colonne."
   ]
  },
  {
   "cell_type": "code",
   "execution_count": 74,
   "metadata": {},
   "outputs": [
    {
     "name": "stdout",
     "output_type": "stream",
     "text": [
      "55000\n"
     ]
    }
   ],
   "source": [
    "print(df.iloc[1, 2])"
   ]
  },
  {
   "cell_type": "markdown",
   "metadata": {},
   "source": [
    "Pandas permet également de filtrer les données facilement, par exemple avec des conditions logiques. "
   ]
  },
  {
   "cell_type": "code",
   "execution_count": 75,
   "metadata": {},
   "outputs": [
    {
     "data": {
      "text/html": [
       "<div>\n",
       "<style scoped>\n",
       "    .dataframe tbody tr th:only-of-type {\n",
       "        vertical-align: middle;\n",
       "    }\n",
       "\n",
       "    .dataframe tbody tr th {\n",
       "        vertical-align: top;\n",
       "    }\n",
       "\n",
       "    .dataframe thead th {\n",
       "        text-align: right;\n",
       "    }\n",
       "</style>\n",
       "<table border=\"1\" class=\"dataframe\">\n",
       "  <thead>\n",
       "    <tr style=\"text-align: right;\">\n",
       "      <th></th>\n",
       "      <th>Nom</th>\n",
       "      <th>Age</th>\n",
       "      <th>Salaire</th>\n",
       "      <th>Sexe</th>\n",
       "    </tr>\n",
       "  </thead>\n",
       "  <tbody>\n",
       "    <tr>\n",
       "      <th>2</th>\n",
       "      <td>Charlie</td>\n",
       "      <td>35</td>\n",
       "      <td>60000</td>\n",
       "      <td>M</td>\n",
       "    </tr>\n",
       "    <tr>\n",
       "      <th>3</th>\n",
       "      <td>David</td>\n",
       "      <td>40</td>\n",
       "      <td>45000</td>\n",
       "      <td>M</td>\n",
       "    </tr>\n",
       "  </tbody>\n",
       "</table>\n",
       "</div>"
      ],
      "text/plain": [
       "       Nom  Age  Salaire Sexe\n",
       "2  Charlie   35    60000    M\n",
       "3    David   40    45000    M"
      ]
     },
     "execution_count": 75,
     "metadata": {},
     "output_type": "execute_result"
    }
   ],
   "source": [
    "df_filtered = df[df['Age'] > 30]\n",
    "df_filtered.head()"
   ]
  },
  {
   "cell_type": "markdown",
   "metadata": {},
   "source": [
    "Enfin, Pandas permet de réaliser des transformations simples sur les colonnes. On peut notamment ajouter ou enlever des colonnes facilement. "
   ]
  },
  {
   "cell_type": "code",
   "execution_count": 76,
   "metadata": {},
   "outputs": [
    {
     "name": "stdout",
     "output_type": "stream",
     "text": [
      "       Nom  Age  Salaire Sexe  Ancienneté\n",
      "0    Alice   25    50000    F           5\n",
      "1      Bob   30    55000    M           6\n",
      "2  Charlie   35    60000    M           7\n",
      "3    David   40    45000    M           8\n",
      "4      Eve   28    52000    F           5\n"
     ]
    }
   ],
   "source": [
    "df['Ancienneté'] = df['Age'] // 5\n",
    "print(df)"
   ]
  },
  {
   "cell_type": "code",
   "execution_count": 77,
   "metadata": {},
   "outputs": [
    {
     "name": "stdout",
     "output_type": "stream",
     "text": [
      "       Nom  Age  Salaire Sexe\n",
      "0    Alice   25    50000    F\n",
      "1      Bob   30    55000    M\n",
      "2  Charlie   35    60000    M\n",
      "3    David   40    45000    M\n",
      "4      Eve   28    52000    F\n"
     ]
    }
   ],
   "source": [
    "df = df.drop('Ancienneté', axis=1)\n",
    "print(df)"
   ]
  },
  {
   "cell_type": "markdown",
   "metadata": {},
   "source": [
    "## Chargement des données <a id=\"part5sec2\"></a>\n",
    "\n",
    "On peut également créer charger des données à partir de différents formats (CSV, TXT, Excel, etc.). On va apprednre ici à manipuler les séparateurs et comprendre comment ils influencent le chargement des données. "
   ]
  },
  {
   "cell_type": "markdown",
   "metadata": {},
   "source": [
    "### Chargement des données depuis un fichier CSV\n",
    "\n",
    "Tout d'abord, commancons par le format CSV (Comma Separated Values) qui est l'un des formats les plus courants pour stocker des données tabulaires. Le chargement de fichiers CSV est simple avec la bibliothèque ``pandas``. "
   ]
  },
  {
   "cell_type": "code",
   "execution_count": 78,
   "metadata": {},
   "outputs": [
    {
     "data": {
      "text/html": [
       "<div>\n",
       "<style scoped>\n",
       "    .dataframe tbody tr th:only-of-type {\n",
       "        vertical-align: middle;\n",
       "    }\n",
       "\n",
       "    .dataframe tbody tr th {\n",
       "        vertical-align: top;\n",
       "    }\n",
       "\n",
       "    .dataframe thead th {\n",
       "        text-align: right;\n",
       "    }\n",
       "</style>\n",
       "<table border=\"1\" class=\"dataframe\">\n",
       "  <thead>\n",
       "    <tr style=\"text-align: right;\">\n",
       "      <th></th>\n",
       "      <th>ID</th>\n",
       "      <th>Nom</th>\n",
       "      <th>Age</th>\n",
       "      <th>Salaire</th>\n",
       "      <th>Sexe</th>\n",
       "    </tr>\n",
       "  </thead>\n",
       "  <tbody>\n",
       "    <tr>\n",
       "      <th>0</th>\n",
       "      <td>1</td>\n",
       "      <td>Alice</td>\n",
       "      <td>25</td>\n",
       "      <td>50000</td>\n",
       "      <td>F</td>\n",
       "    </tr>\n",
       "    <tr>\n",
       "      <th>1</th>\n",
       "      <td>2</td>\n",
       "      <td>Bob</td>\n",
       "      <td>30</td>\n",
       "      <td>55000</td>\n",
       "      <td>M</td>\n",
       "    </tr>\n",
       "    <tr>\n",
       "      <th>2</th>\n",
       "      <td>3</td>\n",
       "      <td>Charlie</td>\n",
       "      <td>35</td>\n",
       "      <td>60000</td>\n",
       "      <td>M</td>\n",
       "    </tr>\n",
       "    <tr>\n",
       "      <th>3</th>\n",
       "      <td>4</td>\n",
       "      <td>David</td>\n",
       "      <td>42</td>\n",
       "      <td>45000</td>\n",
       "      <td>M</td>\n",
       "    </tr>\n",
       "    <tr>\n",
       "      <th>4</th>\n",
       "      <td>5</td>\n",
       "      <td>Eve</td>\n",
       "      <td>28</td>\n",
       "      <td>52000</td>\n",
       "      <td>F</td>\n",
       "    </tr>\n",
       "  </tbody>\n",
       "</table>\n",
       "</div>"
      ],
      "text/plain": [
       "   ID      Nom  Age  Salaire Sexe\n",
       "0   1    Alice   25    50000    F\n",
       "1   2      Bob   30    55000    M\n",
       "2   3  Charlie   35    60000    M\n",
       "3   4    David   42    45000    M\n",
       "4   5      Eve   28    52000    F"
      ]
     },
     "execution_count": 78,
     "metadata": {},
     "output_type": "execute_result"
    }
   ],
   "source": [
    "df_csv = pd.read_csv('data.csv')\n",
    "df_csv.head()"
   ]
  },
  {
   "cell_type": "markdown",
   "metadata": {},
   "source": [
    "Si le fichier utilise un séparateur différent, il suffit de spécifier ce séparateur dans l'argument **sep**. \n",
    "\n",
    "<b style=\"color:red\">À vous de jouer :</b> Ouvrez et visualisez le fichier **data_bis.csv** dans votre explorateur de fichiers. Quel est le séparateur à utiliser pour séparer correctement les valeurs de cette base de données? Une fois que vous avez la réponse, adaptez le code ci-dessus pour charger le ficher **data_bis.csv** avec ``pandas``. \n",
    "\n"
   ]
  },
  {
   "cell_type": "markdown",
   "metadata": {},
   "source": [
    "<b style=\"color:red\">Réponse :</b> \n",
    "```\n",
    "\n",
    "df=pd.read_csv('data_bis.csv',sep=';')"
   ]
  },
  {
   "cell_type": "markdown",
   "metadata": {},
   "source": [
    "### Chargement des données depuis un fichier TXT\n",
    "\n",
    "Les fichiers texte peuvent avoir divers formats. Par exemple, les données peuvent être séparées par des espaces, des tabulations, ou des tabulations multiples. Vous trouverez ci-dessous deux exemples."
   ]
  },
  {
   "cell_type": "code",
   "execution_count": 79,
   "metadata": {},
   "outputs": [
    {
     "data": {
      "text/html": [
       "<div>\n",
       "<style scoped>\n",
       "    .dataframe tbody tr th:only-of-type {\n",
       "        vertical-align: middle;\n",
       "    }\n",
       "\n",
       "    .dataframe tbody tr th {\n",
       "        vertical-align: top;\n",
       "    }\n",
       "\n",
       "    .dataframe thead th {\n",
       "        text-align: right;\n",
       "    }\n",
       "</style>\n",
       "<table border=\"1\" class=\"dataframe\">\n",
       "  <thead>\n",
       "    <tr style=\"text-align: right;\">\n",
       "      <th></th>\n",
       "      <th>ID</th>\n",
       "      <th>Nom</th>\n",
       "      <th>Age</th>\n",
       "      <th>Salaire</th>\n",
       "      <th>Sexe</th>\n",
       "    </tr>\n",
       "  </thead>\n",
       "  <tbody>\n",
       "    <tr>\n",
       "      <th>0</th>\n",
       "      <td>1</td>\n",
       "      <td>Alice</td>\n",
       "      <td>25</td>\n",
       "      <td>50000</td>\n",
       "      <td>F</td>\n",
       "    </tr>\n",
       "    <tr>\n",
       "      <th>1</th>\n",
       "      <td>2</td>\n",
       "      <td>Bob</td>\n",
       "      <td>30</td>\n",
       "      <td>55000</td>\n",
       "      <td>M</td>\n",
       "    </tr>\n",
       "    <tr>\n",
       "      <th>2</th>\n",
       "      <td>3</td>\n",
       "      <td>Charlie</td>\n",
       "      <td>35</td>\n",
       "      <td>60000</td>\n",
       "      <td>M</td>\n",
       "    </tr>\n",
       "    <tr>\n",
       "      <th>3</th>\n",
       "      <td>4</td>\n",
       "      <td>David</td>\n",
       "      <td>42</td>\n",
       "      <td>45000</td>\n",
       "      <td>M</td>\n",
       "    </tr>\n",
       "    <tr>\n",
       "      <th>4</th>\n",
       "      <td>5</td>\n",
       "      <td>Eve</td>\n",
       "      <td>28</td>\n",
       "      <td>52000</td>\n",
       "      <td>F</td>\n",
       "    </tr>\n",
       "  </tbody>\n",
       "</table>\n",
       "</div>"
      ],
      "text/plain": [
       "   ID      Nom  Age  Salaire Sexe\n",
       "0   1    Alice   25    50000    F\n",
       "1   2      Bob   30    55000    M\n",
       "2   3  Charlie   35    60000    M\n",
       "3   4    David   42    45000    M\n",
       "4   5      Eve   28    52000    F"
      ]
     },
     "execution_count": 79,
     "metadata": {},
     "output_type": "execute_result"
    }
   ],
   "source": [
    "# Chargement d'un fichier TXT avec des espaces comme séparateurs\n",
    "df_txt = pd.read_csv('data.txt', sep=' ')\n",
    "df_txt.head()"
   ]
  },
  {
   "cell_type": "code",
   "execution_count": 80,
   "metadata": {},
   "outputs": [
    {
     "data": {
      "text/html": [
       "<div>\n",
       "<style scoped>\n",
       "    .dataframe tbody tr th:only-of-type {\n",
       "        vertical-align: middle;\n",
       "    }\n",
       "\n",
       "    .dataframe tbody tr th {\n",
       "        vertical-align: top;\n",
       "    }\n",
       "\n",
       "    .dataframe thead th {\n",
       "        text-align: right;\n",
       "    }\n",
       "</style>\n",
       "<table border=\"1\" class=\"dataframe\">\n",
       "  <thead>\n",
       "    <tr style=\"text-align: right;\">\n",
       "      <th></th>\n",
       "      <th>ID</th>\n",
       "      <th>Nom</th>\n",
       "      <th>Age</th>\n",
       "      <th>Salaire</th>\n",
       "      <th>Sexe</th>\n",
       "    </tr>\n",
       "  </thead>\n",
       "  <tbody>\n",
       "    <tr>\n",
       "      <th>0</th>\n",
       "      <td>1</td>\n",
       "      <td>Alice</td>\n",
       "      <td>25</td>\n",
       "      <td>50000</td>\n",
       "      <td>F</td>\n",
       "    </tr>\n",
       "    <tr>\n",
       "      <th>1</th>\n",
       "      <td>2</td>\n",
       "      <td>Bob</td>\n",
       "      <td>30</td>\n",
       "      <td>55000</td>\n",
       "      <td>M</td>\n",
       "    </tr>\n",
       "    <tr>\n",
       "      <th>2</th>\n",
       "      <td>3</td>\n",
       "      <td>Charlie</td>\n",
       "      <td>35</td>\n",
       "      <td>60000</td>\n",
       "      <td>M</td>\n",
       "    </tr>\n",
       "    <tr>\n",
       "      <th>3</th>\n",
       "      <td>4</td>\n",
       "      <td>David</td>\n",
       "      <td>42</td>\n",
       "      <td>45000</td>\n",
       "      <td>M</td>\n",
       "    </tr>\n",
       "    <tr>\n",
       "      <th>4</th>\n",
       "      <td>5</td>\n",
       "      <td>Eve</td>\n",
       "      <td>28</td>\n",
       "      <td>52000</td>\n",
       "      <td>F</td>\n",
       "    </tr>\n",
       "  </tbody>\n",
       "</table>\n",
       "</div>"
      ],
      "text/plain": [
       "   ID      Nom  Age  Salaire Sexe\n",
       "0   1    Alice   25    50000    F\n",
       "1   2      Bob   30    55000    M\n",
       "2   3  Charlie   35    60000    M\n",
       "3   4    David   42    45000    M\n",
       "4   5      Eve   28    52000    F"
      ]
     },
     "execution_count": 80,
     "metadata": {},
     "output_type": "execute_result"
    }
   ],
   "source": [
    "# Chargement d'un fichier TXT avec des tabulations comme séparateurs\n",
    "df_tab = pd.read_csv('data_tab.txt', sep='\\t')\n",
    "df_tab.head()"
   ]
  },
  {
   "cell_type": "markdown",
   "metadata": {},
   "source": [
    "### Chargement des données depuis un fichier Excel\n",
    "\n",
    "Il est également très simple de charger un fichier Excel en utilisant pandas grâce à la fonction read_excel(). Cette fonction permet également de gérer les différents types de feuilles (sheets) dans un fichier Excel.\n"
   ]
  },
  {
   "cell_type": "code",
   "execution_count": 81,
   "metadata": {},
   "outputs": [
    {
     "data": {
      "text/html": [
       "<div>\n",
       "<style scoped>\n",
       "    .dataframe tbody tr th:only-of-type {\n",
       "        vertical-align: middle;\n",
       "    }\n",
       "\n",
       "    .dataframe tbody tr th {\n",
       "        vertical-align: top;\n",
       "    }\n",
       "\n",
       "    .dataframe thead th {\n",
       "        text-align: right;\n",
       "    }\n",
       "</style>\n",
       "<table border=\"1\" class=\"dataframe\">\n",
       "  <thead>\n",
       "    <tr style=\"text-align: right;\">\n",
       "      <th></th>\n",
       "      <th>ID</th>\n",
       "      <th>Nom</th>\n",
       "      <th>Age</th>\n",
       "      <th>Salaire</th>\n",
       "      <th>Sexe</th>\n",
       "    </tr>\n",
       "  </thead>\n",
       "  <tbody>\n",
       "    <tr>\n",
       "      <th>0</th>\n",
       "      <td>1</td>\n",
       "      <td>Alice</td>\n",
       "      <td>25</td>\n",
       "      <td>50000</td>\n",
       "      <td>F</td>\n",
       "    </tr>\n",
       "    <tr>\n",
       "      <th>1</th>\n",
       "      <td>2</td>\n",
       "      <td>Bob</td>\n",
       "      <td>30</td>\n",
       "      <td>55000</td>\n",
       "      <td>M</td>\n",
       "    </tr>\n",
       "    <tr>\n",
       "      <th>2</th>\n",
       "      <td>3</td>\n",
       "      <td>Charlie</td>\n",
       "      <td>35</td>\n",
       "      <td>60000</td>\n",
       "      <td>M</td>\n",
       "    </tr>\n",
       "    <tr>\n",
       "      <th>3</th>\n",
       "      <td>4</td>\n",
       "      <td>David</td>\n",
       "      <td>42</td>\n",
       "      <td>45000</td>\n",
       "      <td>M</td>\n",
       "    </tr>\n",
       "    <tr>\n",
       "      <th>4</th>\n",
       "      <td>5</td>\n",
       "      <td>Eve</td>\n",
       "      <td>28</td>\n",
       "      <td>52000</td>\n",
       "      <td>F</td>\n",
       "    </tr>\n",
       "    <tr>\n",
       "      <th>5</th>\n",
       "      <td>6</td>\n",
       "      <td>Frank</td>\n",
       "      <td>40</td>\n",
       "      <td>30000</td>\n",
       "      <td>M</td>\n",
       "    </tr>\n",
       "    <tr>\n",
       "      <th>6</th>\n",
       "      <td>7</td>\n",
       "      <td>Grace</td>\n",
       "      <td>22</td>\n",
       "      <td>47000</td>\n",
       "      <td>F</td>\n",
       "    </tr>\n",
       "    <tr>\n",
       "      <th>7</th>\n",
       "      <td>8</td>\n",
       "      <td>Hannah</td>\n",
       "      <td>28</td>\n",
       "      <td>49000</td>\n",
       "      <td>F</td>\n",
       "    </tr>\n",
       "    <tr>\n",
       "      <th>8</th>\n",
       "      <td>9</td>\n",
       "      <td>Ivy</td>\n",
       "      <td>34</td>\n",
       "      <td>56000</td>\n",
       "      <td>F</td>\n",
       "    </tr>\n",
       "    <tr>\n",
       "      <th>9</th>\n",
       "      <td>10</td>\n",
       "      <td>Jack</td>\n",
       "      <td>45</td>\n",
       "      <td>60000</td>\n",
       "      <td>M</td>\n",
       "    </tr>\n",
       "  </tbody>\n",
       "</table>\n",
       "</div>"
      ],
      "text/plain": [
       "   ID      Nom  Age  Salaire Sexe\n",
       "0   1    Alice   25    50000    F\n",
       "1   2      Bob   30    55000    M\n",
       "2   3  Charlie   35    60000    M\n",
       "3   4    David   42    45000    M\n",
       "4   5      Eve   28    52000    F\n",
       "5   6    Frank   40    30000    M\n",
       "6   7    Grace   22    47000    F\n",
       "7   8   Hannah   28    49000    F\n",
       "8   9      Ivy   34    56000    F\n",
       "9  10     Jack   45    60000    M"
      ]
     },
     "execution_count": 81,
     "metadata": {},
     "output_type": "execute_result"
    }
   ],
   "source": [
    "# Chargement d'un fichier Excel\n",
    "df_excel = pd.read_excel('data.xlsx')\n",
    "df_excel"
   ]
  },
  {
   "cell_type": "code",
   "execution_count": null,
   "metadata": {},
   "outputs": [],
   "source": []
  },
  {
   "cell_type": "markdown",
   "metadata": {},
   "source": [
    "<b style=\"color:red\">Réponse :</b> \n",
    "```\n",
    "df_sheet1 = pd.read_excel('data.xlsx', sheet_name='Sheet1')\n",
    "df_sheet2 = pd.read_excel('data.xlsx', sheet_name='Sheet2')\n",
    "dfs = pd.read_excel('data.xlsx', sheet_name=None)\n",
    "\n",
    "df_sheet1 = dfs['Sheet1']\n",
    "df_sheet2 = dfs['Sheet2']\n"
   ]
  },
  {
   "cell_type": "markdown",
   "metadata": {},
   "source": [
    "### Gérer les valeurs manquantes\n",
    "\n",
    "Les problèmes de formatage (types de données) et les valeurs manquantes sont courantes dans de nombreux ensembles de données. Vous pouvez identifier les valeurs manquantes avec ``isnull()`` ou ``isna()``. "
   ]
  },
  {
   "cell_type": "code",
   "execution_count": 82,
   "metadata": {},
   "outputs": [
    {
     "name": "stdout",
     "output_type": "stream",
     "text": [
      "ID         0\n",
      "Nom        0\n",
      "Age        0\n",
      "Salaire    0\n",
      "Sexe       0\n",
      "dtype: int64\n",
      "ID         0\n",
      "Nom        0\n",
      "Age        0\n",
      "Salaire    0\n",
      "Sexe       0\n",
      "dtype: int64\n"
     ]
    }
   ],
   "source": [
    "# Retournent le nombre de valeurs manquantes par colonne\n",
    "print(df_csv.isnull().sum())\n",
    "print(df_csv.isna().sum())"
   ]
  },
  {
   "cell_type": "markdown",
   "metadata": {},
   "source": [
    "<b style=\"color:red\">À vous de jouer :</b> Chargez le fichier **data_missing.csv** dans une ``DataFrame`` avec le nom **df_missing** et recommencez l'opération. Que pouvons nous dire ?\n"
   ]
  },
  {
   "cell_type": "markdown",
   "metadata": {},
   "source": [
    "<b style=\"color:red\">Réponse :</b> \n",
    "```"
   ]
  },
  {
   "cell_type": "code",
   "execution_count": 7,
   "metadata": {},
   "outputs": [
    {
     "name": "stdout",
     "output_type": "stream",
     "text": [
      "ID         0\n",
      "Nom        0\n",
      "Age        2\n",
      "Salaire    1\n",
      "Sexe       1\n",
      "dtype: int64\n",
      "Nous constatons qu'il y a des valeurs manquantes\n"
     ]
    }
   ],
   "source": [
    "df_missing = pd.read_csv('data_missing.csv')\n",
    "print(df_missing.isnull().sum())\n",
    "print(\"Nous constatons qu'il y a des valeurs manquantes\")"
   ]
  },
  {
   "cell_type": "markdown",
   "metadata": {},
   "source": [
    "Si votre jeu de données a des valeurs manquantes, il y a en général deux solution possible: \n",
    "- Supprimer les lignes avec des valeurs manquantes\n",
    "- Remplacer les valeurs manquantes par une valeur choisi de facon plus ou moins intelligente\n",
    "  \n",
    "Si vous souhaitez supprimer les lignes contenant des valeurs manquantes, vous pouvez utiliser ``dropna()``. Dans certains cas, vous préférerez peut-être remplir les valeurs manquantes avec une valeur par défaut (par exemple 0), par la moyenne, ou par la médiane d'une colonne. Voici quelques exemples possibles. "
   ]
  },
  {
   "cell_type": "code",
   "execution_count": 8,
   "metadata": {},
   "outputs": [
    {
     "data": {
      "text/html": [
       "<div>\n",
       "<style scoped>\n",
       "    .dataframe tbody tr th:only-of-type {\n",
       "        vertical-align: middle;\n",
       "    }\n",
       "\n",
       "    .dataframe tbody tr th {\n",
       "        vertical-align: top;\n",
       "    }\n",
       "\n",
       "    .dataframe thead th {\n",
       "        text-align: right;\n",
       "    }\n",
       "</style>\n",
       "<table border=\"1\" class=\"dataframe\">\n",
       "  <thead>\n",
       "    <tr style=\"text-align: right;\">\n",
       "      <th></th>\n",
       "      <th>ID</th>\n",
       "      <th>Nom</th>\n",
       "      <th>Age</th>\n",
       "      <th>Salaire</th>\n",
       "      <th>Sexe</th>\n",
       "    </tr>\n",
       "  </thead>\n",
       "  <tbody>\n",
       "    <tr>\n",
       "      <th>0</th>\n",
       "      <td>1</td>\n",
       "      <td>Alice</td>\n",
       "      <td>25.0</td>\n",
       "      <td>50000.0</td>\n",
       "      <td>F</td>\n",
       "    </tr>\n",
       "    <tr>\n",
       "      <th>3</th>\n",
       "      <td>4</td>\n",
       "      <td>David</td>\n",
       "      <td>40.0</td>\n",
       "      <td>45000.0</td>\n",
       "      <td>M</td>\n",
       "    </tr>\n",
       "  </tbody>\n",
       "</table>\n",
       "</div>"
      ],
      "text/plain": [
       "   ID    Nom   Age  Salaire Sexe\n",
       "0   1  Alice  25.0  50000.0    F\n",
       "3   4  David  40.0  45000.0    M"
      ]
     },
     "execution_count": 8,
     "metadata": {},
     "output_type": "execute_result"
    }
   ],
   "source": [
    "df_no_missing = df_missing.dropna()\n",
    "df_no_missing.head()"
   ]
  },
  {
   "cell_type": "code",
   "execution_count": 9,
   "metadata": {},
   "outputs": [
    {
     "name": "stdout",
     "output_type": "stream",
     "text": [
      "   ID      Nom   Age  Salaire Sexe\n",
      "0   1    Alice  25.0  50000.0    F\n",
      "1   2      Bob   0.0  55000.0    M\n",
      "2   3  Charlie  35.0      0.0    0\n",
      "3   4    David  40.0  45000.0    M\n",
      "4   5      Eve   0.0  52000.0    F\n",
      "         Age  Salaire      Nom      Sexe\n",
      "0  25.000000  50000.0    Alice         F\n",
      "1  33.333333  55000.0      Bob         M\n",
      "2  35.000000  50500.0  Charlie  Manquant\n",
      "3  40.000000  45000.0    David         M\n",
      "4  33.333333  52000.0      Eve         F\n"
     ]
    }
   ],
   "source": [
    "# Remplir les valeurs manquantes d'une colonne spécifique\n",
    "df_filled = df_missing.fillna(0)\n",
    "print(df_filled)\n",
    "\n",
    "# Remplir les valeurs manquantes avec la moyenne de chaque colonne numérique et rajouté une possibilité pour les autres\n",
    "df_filled_mean = pd.DataFrame()\n",
    "df_filled_mean[['Age', 'Salaire']] = df_missing.loc[:,['Age', 'Salaire']].fillna(df_missing.loc[:,['Age', 'Salaire']].mean())\n",
    "df_filled_mean[['Nom', 'Sexe']] = df_missing.loc[:,['Nom', 'Sexe']].fillna('Manquant')\n",
    "print(df_filled_mean)\n",
    "\n"
   ]
  },
  {
   "cell_type": "markdown",
   "metadata": {},
   "source": [
    "# Quelques exercices <a id=\"part6\"></a>\n",
    "\n",
    "On va à présent mettre en pratique ces connaissances avec quelques exercices simples. "
   ]
  },
  {
   "cell_type": "markdown",
   "metadata": {},
   "source": [
    "## Exercice 1 <a id=\"part6sec1\"></a> \n",
    "\n",
    "Dans chacun des cas suivant écrire un programme qui: \n",
    "- Demande à l’utilisateur d’entrer une à une les coordonnées de deux points dans le plan puis affiche la distance euclidienne entre ces deux points.\n",
    "- Demande à l’utilisateur d’entrer son nom puis son prénom et affiche les initiales.\n",
    "- Demande à l’utilisateur d’entrer une chaîne de caractères puis l’affiche encadrée par deux étoiles.\n",
    "- Demande à l’utilisateur d’entrer un mot puis affiche un message disant si ce mot a plus de huit lettres ou pas et donne la longueur du mot.\n",
    "- Demande à l’utilisateur d’entrer une serie de nombres et affiche un message précisant la différence entre le plus grand et le plus petit.\n",
    "\n",
    "*Hint: pour l'entrée, ou pourra utiliser la fonction `input`*"
   ]
  },
  {
   "cell_type": "code",
   "execution_count": null,
   "metadata": {},
   "outputs": [],
   "source": [
    "#1/A\n",
    "x1 =input(\"Rentrer la valeur de x1\")\n",
    "y1 =input(\"Rentrer la valeur de y1\")\n",
    "\n",
    "x2 =input(\"Rentrer la valeur de x2\")\n",
    "y2 =input(\"Rentrer la valeur de yy2\")\n",
    "print(f\"la distance euclidienne entre ({math.sqrt((x2 - x1)**2 + (y2 - y1)**2)}\")\n"
   ]
  },
  {
   "cell_type": "code",
   "execution_count": null,
   "metadata": {},
   "outputs": [
    {
     "name": "stdout",
     "output_type": "stream",
     "text": [
      "Les initiales : SD\n",
      "**df**\n"
     ]
    }
   ],
   "source": [
    "#1/ Bsdf\n",
    "\n",
    "nom = input(\"Votre nom ?\")\n",
    "prenom = input(\"Votre prenom ?\")\n",
    "initiales = prenom[0].upper() + nom[0].upper()\n",
    "print(f\"Les initiales : {initiales}\")\n",
    "\n",
    "#1/ C\n",
    "chaine_cara=input(\"Rentrez chaine de cara\")\n",
    "print(f\"**{chaine_cara}**\")"
   ]
  },
  {
   "cell_type": "code",
   "execution_count": 24,
   "metadata": {},
   "outputs": [
    {
     "name": "stdout",
     "output_type": "stream",
     "text": [
      "Votre mot  à + de 8 lettres, il en a 18\n"
     ]
    }
   ],
   "source": [
    "#1/ D Mot de plus de 8 cara ?\n",
    "mot = input(\"votre mot ?\")\n",
    "if len(mot) > 8:\n",
    "    print(f\"Votre mot  à + de 8 lettres, il en a {len(mot)}\")\n",
    "else :\n",
    "    print(f\"Votre mot  à - de 8 lettres, il en a {len(mot)}\")\n",
    "    "
   ]
  },
  {
   "cell_type": "code",
   "execution_count": 27,
   "metadata": {},
   "outputs": [
    {
     "name": "stdout",
     "output_type": "stream",
     "text": [
      "Différence entre + grand et + petit = 5345\n"
     ]
    }
   ],
   "source": [
    "#1/ E\n",
    "serie = input(\"Entrez une série de nombres séparés par des espaces\")\n",
    "liste = [int(num) for num in serie.split()]\n",
    "print(f\"Différence entre + grand et + petit = {max(liste)-min(liste)}\")"
   ]
  },
  {
   "cell_type": "markdown",
   "metadata": {},
   "source": [
    "## Exercice 2 <a id=\"part6sec2\"></a>\n",
    "\n",
    "- Ecrire un programme qui résout l'équation $ax^2 + bx + c = 0$. Le programme demande les valeurs de a, b, c à l’utilisateur et affiche le nombre de solutions et leurs valeurs éventuelles.\n",
    "- Ecrire un programme qui demande à l’utilisateur d’entrer une chaîne de caractères et qui affiche une nouvelle chaîne de caractères composée uniquement des voyelles de la chaîne initiale.\n",
    "- Ecrire une fonction qui calcule la médiane d’une liste de nombres. L’appliquer à une liste de 10 nombres aléatoires.\n",
    "- Ecrire une fonction qui détermine le mode d’une liste de nombres. L’appliquer à une liste de 10 nombres aléatoires à valeurs 0 et 1. *Hint: On pourra utiliser la méthode `most.common( )` du package `collection`.*"
   ]
  },
  {
   "cell_type": "code",
   "execution_count": null,
   "metadata": {},
   "outputs": [],
   "source": [
    "#2 A/\n",
    "import math\n",
    "a = float(input(\"Entrez le coefficient a : \"))\n",
    "b = float(input(\"Entrez le coefficient b : \"))\n",
    "c = float(input(\"Entrez le coefficient c : \"))\n",
    "\n",
    "# Si a est nul, l'équation devient linéaire ou impossible\n",
    "if a == 0:\n",
    "    if b == 0:\n",
    "        if c == 0:\n",
    "            print(\"L'équation a une infinité de solutions.\")\n",
    "        else:\n",
    "            print(\"L'équation n'a pas de solution.\")\n",
    "    else:\n",
    "        solution = -c / b\n",
    "        print(f\"L'équation est linéaire. La solution est : x = {solution}\")\n",
    "else:\n",
    "    # Calcul du discriminant\n",
    "    delta = b**2 - 4*a*c\n",
    "\n",
    "    if delta > 0:\n",
    "        # Deux solutions réelles\n",
    "        x1 = (-b - math.sqrt(delta)) / (2*a)\n",
    "        x2 = (-b + math.sqrt(delta)) / (2*a)\n",
    "        print(f\"L'équation a deux solutions réelles : x1 = {x1} et x2 = {x2}\")\n",
    "    elif delta == 0:\n",
    "        # Une solution réelle double\n",
    "        x = -b / (2*a)\n",
    "        print(f\"L'équation a une solution réelle double : x = {x}\")\n",
    "    else:\n",
    "        # Aucune solution réelle\n",
    "        print(\"L'équation n'a pas de solution réelle.\")\n",
    "\n",
    "# Exécution de la fonction\n",
    "resoudre_equation_quadratique()\n"
   ]
  },
  {
   "cell_type": "code",
   "execution_count": 30,
   "metadata": {},
   "outputs": [
    {
     "name": "stdout",
     "output_type": "stream",
     "text": [
      "La nouvelle chaine : auie\n"
     ]
    }
   ],
   "source": [
    "#2 B/Ecrire un programme qui demande à l’utilisateur d’entrer une chaîne de caractères et qui affiche une nouvelle chaîne de caractères composée uniquement des voyelles de la chaîne initiale.\n",
    "chaine_cara = input(\"Rentrez une de chaine de cara :\")\n",
    "liste_voyelle   =['a','e','i','o','u']\n",
    "nouvelle_chaine = ''.join([cara for cara in chaine_cara if cara in liste_voyelle])\n",
    "print(f\"La nouvelle chaine : {nouvelle_chaine}\")"
   ]
  },
  {
   "cell_type": "code",
   "execution_count": 38,
   "metadata": {},
   "outputs": [
    {
     "name": "stdout",
     "output_type": "stream",
     "text": [
      "[98  1 71 97 78 45 37 16 66 85]\n",
      "68.5\n"
     ]
    }
   ],
   "source": [
    "#2/ C Ecrire une fonction qui calcule la médiane d’une liste de nombres. L’appliquer à une liste de 10 nombres aléatoires.\n",
    "def calcul_mediane(liste):\n",
    "    liste_sort=sorted(liste)\n",
    "    if len(liste)% 2 == 0:\n",
    "        mediane = (liste_sort[len(liste)//2-1]+liste_sort[len(liste)//2])/2\n",
    "    else :\n",
    "        mediane = liste_sort[len(liste)//2]\n",
    "    return mediane\n",
    "\n",
    "liste_random = np.random.randint(0,100,10)\n",
    "print(liste_random)\n",
    "print(calcul_mediane(liste_random))   "
   ]
  },
  {
   "cell_type": "markdown",
   "metadata": {},
   "source": [
    "## Exercice 3 <a id=\"part6sec3\"></a>\n",
    "\n",
    "Nous allons utiliser le module `turtle` qui permet de dessiner simplement à l’aide d’une « tortue » qui se déplace, nous allons faire queques dessins.  Les principales fonctions sont les suivantes :\n",
    "\n",
    "- `reset( )` : efface l’écran est revient à la situation initiale\n",
    "- `goto(x,y)` : amener le crayon à un point précis\n",
    "- `forward(longueur)` et `backward(longueur)` pour avancer ou\n",
    "reculer d’une longueur en pixels\n",
    "- `left(angle)` et `right(angle)` pour tourner à gauche ou a droite\n",
    "d’un angle en degrés\n",
    "- `circle(rayon,angle)` : tracer un arc de cercle\n",
    "- `up()` et `down()` : lever ou poser le crayon\n",
    "- `color(‘couleur’)` : choisir la couleur\n",
    "- `width(épaisseur)` : choisir l’épaisseur du trait\n",
    "- `write(‘texte’)` : écrire du texte\n",
    "- `begin_fill()` et `end_fill()` : remplir une forme avec la couleur en cours\n",
    "- `speed(‘vitesse’)` : choisir la vitesse\n",
    "- `hideturtle()` : cacher la tortue\n",
    "\n",
    "Tester les instructions suivantes pour vous faire un peu la main, puis tester les fonctions en essayant de réaliser divers dessins."
   ]
  },
  {
   "cell_type": "markdown",
   "metadata": {},
   "source": [
    "#### Instruction 1"
   ]
  },
  {
   "cell_type": "code",
   "execution_count": null,
   "metadata": {},
   "outputs": [],
   "source": [
    "forward(120)\n",
    "left(120)\n",
    "color('red')\n",
    "forward(80)\n",
    "#reset() #uncomment to reset the drawing"
   ]
  },
  {
   "cell_type": "markdown",
   "metadata": {},
   "source": [
    "#### Instruction 2"
   ]
  },
  {
   "cell_type": "code",
   "execution_count": null,
   "metadata": {},
   "outputs": [],
   "source": [
    "up()\n",
    "goto(-200,50)\n",
    "down()\n",
    "speed(\"fast\")\n",
    "circle(40)\n",
    "speed(\"slowest\")\n",
    "circle(80,270)\n",
    "speed(\"normal\")\n",
    "circle(50)\n",
    "#reset()"
   ]
  },
  {
   "cell_type": "markdown",
   "metadata": {},
   "source": [
    "#### Instruction 3"
   ]
  },
  {
   "cell_type": "code",
   "execution_count": null,
   "metadata": {},
   "outputs": [],
   "source": [
    "width(2)\n",
    "hideturtle()\n",
    "color('green')\n",
    "begin_fill()\n",
    "for a in range(4):\n",
    "    forward(50)\n",
    "    left(90)\n",
    "end_fill()\n",
    "#reset()"
   ]
  },
  {
   "cell_type": "markdown",
   "metadata": {},
   "source": [
    "#### Instruction 4"
   ]
  },
  {
   "cell_type": "code",
   "execution_count": null,
   "metadata": {},
   "outputs": [],
   "source": [
    "color('purple')\n",
    "a = 0\n",
    "while (a < 12):\n",
    "    a+=1\n",
    "    forward(150)\n",
    "    left(150)\n",
    "#reset()"
   ]
  },
  {
   "cell_type": "markdown",
   "metadata": {},
   "source": [
    "#### Instruction 5"
   ]
  },
  {
   "cell_type": "code",
   "execution_count": null,
   "metadata": {},
   "outputs": [],
   "source": [
    "up()\n",
    "goto(100,-80)\n",
    "down()\n",
    "color('blue')\n",
    "write('bonjour')\n",
    "reset()"
   ]
  },
  {
   "cell_type": "markdown",
   "metadata": {},
   "source": [
    "Passons maintenant à la pratique. \n",
    "\n",
    "- Écrire à l’aide du module turtle un programme récursif qui trace la [courbe de von Koch](www.mathcurve.com/fractals/koch/koch.shtml) à différents niveaux. \n",
    "- On obtient un flocon de von Koch en accolant trois courbes de von Koch aux trois sommets d’un triangle équilatéral. Écrire à l’aide du module turtle un programme récursif qui trace le flocon de von Koch.\n",
    "- Reprendre l’exercice précédent en testant divers angles autres que 60. Pour cela, ajouter un troisième paramètre représentant l’angle aux fonctions traçant la courbe et le flocon. Attention, il faut modifier le code de la fonction traçant la courbe de façon à ce que la longueur de la figure reste la même à chaque niveau."
   ]
  },
  {
   "cell_type": "markdown",
   "metadata": {},
   "source": [
    "## Exercice 4 <a id=\"part6sec4\"></a>\n",
    "\n",
    "On considère un tableau de données qui  renseigne quelques caractéristiques de cathédrales anglaises. Plus précisément, le tableau contient le nom de la cathédrale, son style  d'architecture (gothique ou romane) et   les dimensions de celle-ci (en pied).\n",
    "\n",
    "- Téléchargez le tableau *cathedral.txt* sur Moodle et enregistrez-le dans votre répertoire de travail. \n",
    "- Importez le fichier *cathedral.txt* et écrire un programme qui permette de repondre aux questions suivantes:\n",
    "\n",
    "    1. Combien de cathédrales sont de style roman ?\n",
    "    2. Affichez les noms de toutes les cathédrales romanes.\n",
    "    3. Les dimensions des cathédrales dans le tableau sont renseignées en pied. Sachant qu'un pied correspond à 0,3048 mètres, transformez les dimensions en mètres.\n",
    "    4. Quelle est la longueur moyenne des cathédrales ? Et la longueur moyenne des cathédrales romanes ?\n",
    "    5. Affichez toutes les cathédrales dont la nef est plus haute que 22 mètres.\n",
    "    6. Ajoutez au tableau une colonne avec le rapport longueur/hauteur.\n",
    "    7. Appliquez la fonction `head()` au tableau et observez la sortie.\n"
   ]
  },
  {
   "cell_type": "markdown",
   "metadata": {},
   "source": [
    "## Exercice 5 <a id=\"part6sec5\"></a>\n",
    "\n",
    "La moyenne empirique est un estimateur de la moyenne. Vérifions empiriquement la qualité de cet estimateur par des simulations.\n",
    "\n",
    "- Considérons la loi normale $\\mathcal N(10,1)$. Générez un échantillon de taille 20 et calculez la moyenne empirique et la variance empirique associées. Comparez le résultat à la moyenne et à la variance théoriques. Répétez plusieurs fois les mêmes instructions afin de vérifier si la valeur de la moyenne empirique est à peu près stable sur des échantillons différents.\n",
    "- Faites la même chose pour la loi normale $\\mathcal N(10,10)$ et des échantillons de taille 20. Qu'observez vous ?\n"
   ]
  }
 ],
 "metadata": {
  "kernelspec": {
   "display_name": "Python 3",
   "language": "python",
   "name": "python3"
  },
  "language_info": {
   "codemirror_mode": {
    "name": "ipython",
    "version": 3
   },
   "file_extension": ".py",
   "mimetype": "text/x-python",
   "name": "python",
   "nbconvert_exporter": "python",
   "pygments_lexer": "ipython3",
   "version": "3.9.13"
  }
 },
 "nbformat": 4,
 "nbformat_minor": 4
}
