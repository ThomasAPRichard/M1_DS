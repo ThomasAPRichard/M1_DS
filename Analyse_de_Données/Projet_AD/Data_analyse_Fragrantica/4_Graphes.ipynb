{
 "cells": [
  {
   "cell_type": "markdown",
   "id": "bb702916",
   "metadata": {},
   "source": [
    "Voici un gabarit complet pour la partie 4 : Analyse par graphe.\n",
    "Vous pourrez :\n",
    "\n",
    "Construire un graphe biparti\n",
    "Option A : Parfumeur ↔ Parfum (illustré ci-dessous)\n",
    "Option B : Accord ↔ Parfum (même logique, il suffit de changer les colonnes)\n",
    "\n",
    "Calculer : degré, betweenness, eigenvector centrality\n",
    "\n",
    "Détecter les communautés Louvain (si python-louvain installé)\n",
    "\n",
    "Visualiser un sous-graphe annoté pour commenter les « hubs »\n",
    "\n",
    "Hypothèses\n",
    "\n",
    "DataFrame : FDS\n",
    "\n",
    "Colonnes : nose_reduit (parfumeur réduit) et nom_parfum (ou un ID)\n",
    "\n",
    "Vous avez déjà un encodage « top k vs. autres » pour éviter 20 000 nœuds inutiles."
   ]
  },
  {
   "cell_type": "code",
   "execution_count": null,
   "id": "7777de01",
   "metadata": {
    "vscode": {
     "languageId": "plaintext"
    }
   },
   "outputs": [],
   "source": [
    "# =========================================================\n",
    "# 4.1  Grille de préparation : bipartite Parfumeur ↔ Parfum\n",
    "# =========================================================\n",
    "import networkx as nx\n",
    "import matplotlib.pyplot as plt\n",
    "import pandas as pd\n",
    "\n",
    "# --- limitons-nous aux N parfumeurs les plus prolifiques ---\n",
    "TOP_N = 30\n",
    "top_noses = (FDS[\"nose_reduit\"]\n",
    "             .value_counts()\n",
    "             .head(TOP_N)\n",
    "             .index)\n",
    "\n",
    "sub = FDS[FDS[\"nose_reduit\"].isin(top_noses)].copy()\n",
    "\n",
    "print(f\"{len(sub)} parfums couverts par les {TOP_N} parfumeurs.\")\n",
    "\n",
    "# --- construire le graphe biparti -------------------------\n",
    "B = nx.Graph()\n",
    "B.add_nodes_from(sub[\"nom_parfum\"], bipartite=\"parfum\")\n",
    "B.add_nodes_from(sub[\"nose_reduit\"],  bipartite=\"nose\")\n",
    "\n",
    "edges = list(zip(sub[\"nose_reduit\"], sub[\"nom_parfum\"]))\n",
    "B.add_edges_from(edges)\n",
    "print(f\"{B.number_of_nodes()} nœuds, {B.number_of_edges()} arêtes\")\n"
   ]
  },
  {
   "cell_type": "code",
   "execution_count": null,
   "id": "95078f60",
   "metadata": {
    "vscode": {
     "languageId": "plaintext"
    }
   },
   "outputs": [],
   "source": [
    "# ========================================\n",
    "# 4.2  Mesures de centralité   (NetworkX)\n",
    "# ========================================\n",
    "# centralité degré\n",
    "deg_nose   = nx.degree_centrality(B)\n",
    "deg_sorted = sorted([(n,v) for n,v in deg_nose.items()\n",
    "                     if B.nodes[n][\"bipartite\"]==\"nose\"],\n",
    "                    key=lambda x: x[1], reverse=True)[:10]\n",
    "print(\"Top 10 parfumeurs (degree):\")\n",
    "for n, v in deg_sorted:\n",
    "    print(f\"{n:<20} {v:.3f}\")\n",
    "\n",
    "# betweenness (plus coûteux → petit graphe conseillé)\n",
    "btw_nose = nx.betweenness_centrality(B, k=None, normalized=True,\n",
    "                                     endpoints=False)\n",
    "btw_sorted = sorted([(n,v) for n,v in btw_nose.items()\n",
    "                     if B.nodes[n][\"bipartite\"]==\"nose\"],\n",
    "                    key=lambda x: x[1], reverse=True)[:10]\n",
    "print(\"\\nTop 10 parfumeurs (betweenness):\")\n",
    "for n, v in btw_sorted:\n",
    "    print(f\"{n:<20} {v:.3f}\")\n"
   ]
  },
  {
   "cell_type": "code",
   "execution_count": null,
   "id": "dd5279a4",
   "metadata": {
    "vscode": {
     "languageId": "plaintext"
    }
   },
   "outputs": [],
   "source": [
    "# =============================================\n",
    "# 4.3  Détection de communautés (Louvain)\n",
    "#      pip install python-louvain  si besoin\n",
    "# =============================================\n",
    "try:\n",
    "    import community as community_louvain\n",
    "    partition = community_louvain.best_partition(B)\n",
    "    # ajoute les labels de communauté au graphe\n",
    "    nx.set_node_attributes(B, partition, \"community\")\n",
    "    n_communities = len(set(partition.values()))\n",
    "    print(f\"{n_communities} communautés Louvain détectées.\")\n",
    "except ImportError:\n",
    "    print(\"⚠️  python-louvain manquant → pip install python-louvain\")\n",
    "    partition = None\n"
   ]
  },
  {
   "cell_type": "code",
   "execution_count": null,
   "id": "ce4059e0",
   "metadata": {
    "vscode": {
     "languageId": "plaintext"
    }
   },
   "outputs": [],
   "source": [
    "# ===========================================\n",
    "# 4.4  Visualisation d'un sous-graphe réduit\n",
    "#       (parfumeurs + 2 parfums associés)\n",
    "# ===========================================\n",
    "# choisir M parfumeurs influents\n",
    "M = 8\n",
    "hubs = [n for n,_ in deg_sorted[:M]]\n",
    "\n",
    "nodes_to_keep = []\n",
    "for nose in hubs:\n",
    "    nodes_to_keep.append(nose)\n",
    "    # prendre 2 parfums connectés (ou plus si vous voulez)\n",
    "    voisins = [nbr for nbr in B.neighbors(nose)][:2]\n",
    "    nodes_to_keep.extend(voisins)\n",
    "\n",
    "G_sub = B.subgraph(nodes_to_keep)\n",
    "\n",
    "# mise en page force-directed\n",
    "pos = nx.spring_layout(G_sub, seed=0)\n",
    "\n",
    "plt.figure(figsize=(8,6))\n",
    "colors = [\"#ff7f0e\" if B.nodes[n][\"bipartite\"]==\"nose\" else \"#1f77b4\"\n",
    "          for n in G_sub.nodes()]\n",
    "sizes  = [300 if B.nodes[n][\"bipartite\"]==\"nose\" else 80\n",
    "          for n in G_sub.nodes()]\n",
    "\n",
    "nx.draw_networkx_nodes(G_sub, pos, node_color=colors, node_size=sizes)\n",
    "nx.draw_networkx_edges(G_sub, pos, alpha=.4)\n",
    "nx.draw_networkx_labels(G_sub, pos,\n",
    "                        labels={n:n for n in G_sub if B.nodes[n][\"bipartite\"]==\"nose\"},\n",
    "                        font_size=9, font_weight=\"bold\")\n",
    "plt.title(\"Mini-réseau Parfumeurs ↔ Parfums (hubs)\")\n",
    "plt.axis(\"off\")\n",
    "plt.tight_layout()\n",
    "plt.show()\n"
   ]
  },
  {
   "cell_type": "markdown",
   "id": "78c48cde",
   "metadata": {},
   "source": [
    "## Commentaire à rédiger (guide) "
   ]
  },
  {
   "cell_type": "markdown",
   "id": "2d2a0913",
   "metadata": {},
   "source": [
    "\n",
    "Insight possible | Commentaire\n",
    "Parfumeurs “hubs” (degré élevé) | « X » et « Y » signent respectivement 8 % et 6 % des 20 000 parfums ; ils sont donc des acteurs majeurs.\n",
    "Betweenness élevé | Un parfumeur qui relie plusieurs communautés (par ex. “nez maison” d’une marque + collaborations externes) est un pivot créatif.\n",
    "Communautés Louvain | Souvent organisées par marque : les parfums Dior/Chanel forment des sous-graphes denses, distincts des marques niche.\n",
    "Graphe Accord ↔ Parfum (variante) | Les accords « floral » et « woody » sont hubs → confirment la dominance vue dans l’EDA ; accords rares (ex. “ozonic”) apparaissent en feuilles périphériques."
   ]
  },
  {
   "cell_type": "markdown",
   "id": "6a9f95a1",
   "metadata": {},
   "source": []
  },
  {
   "cell_type": "markdown",
   "id": "c95d8027",
   "metadata": {},
   "source": [
    "## Variante  « Accord ↔ Parfum »"
   ]
  },
  {
   "cell_type": "code",
   "execution_count": null,
   "id": "9d647185",
   "metadata": {
    "vscode": {
     "languageId": "plaintext"
    }
   },
   "outputs": [],
   "source": [
    "accord_cols = [c for c in FDS.columns if c.startswith(\"accord_\")]\n",
    "# transformer en liste (accord, parfum) pour accords actifs\n",
    "edges_acc = []\n",
    "for col in accord_cols:\n",
    "    acc_name = col.replace(\"accord_\", \"\")\n",
    "    parfums = FDS[FDS[col]==1][\"nom_parfum\"]\n",
    "    for p in parfums:\n",
    "        edges_acc.append((acc_name, p))\n",
    "\n",
    "B2 = nx.Graph()\n",
    "acc_nodes = [col.replace(\"accord_\", \"\") for col in accord_cols]\n",
    "B2.add_nodes_from(acc_nodes, bipartite=\"accord\")\n",
    "B2.add_nodes_from(FDS[\"nom_parfum\"], bipartite=\"parfum\")\n",
    "B2.add_edges_from(edges_acc)\n"
   ]
  },
  {
   "cell_type": "markdown",
   "id": "b61fd32f",
   "metadata": {},
   "source": [
    "## Bonne pratique\n",
    "\n",
    "Bonnes pratiques\n",
    "Limitez la taille du graphe pour la visualisation : top-30 parfumeurs ou accords, ou un échantillon de parfums.\n",
    "\n",
    "Sauvegardez les métriques (degree, betweenness) dans un CSV ; elles pourront nourrir vos modèles prédictifs (ex. “un parfum signé par un nez hub obtient-il une meilleure note ?”).\n",
    "\n",
    "Expliquez dans le rapport la pertinence d’analyser le réseau : le monde de la parfumerie repose sur des collaborations multiples, que les tableaux plats ne révèlent pas.\n",
    "\n",
    "Vous avez ainsi un network analysis complet : construction, métriques, communautés, et visualisation — prêt à enrichir l’interprétation stratégique de votre projet."
   ]
  }
 ],
 "metadata": {
  "language_info": {
   "name": "python"
  }
 },
 "nbformat": 4,
 "nbformat_minor": 5
}
