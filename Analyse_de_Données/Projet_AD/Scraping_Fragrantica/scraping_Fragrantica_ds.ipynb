{
 "cells": [
  {
   "cell_type": "markdown",
   "metadata": {},
   "source": [
    "# Création du Dataset en scrappant les infos depuis une liste d'url"
   ]
  },
  {
   "cell_type": "markdown",
   "metadata": {},
   "source": [
    "## Imports"
   ]
  },
  {
   "cell_type": "code",
   "execution_count": 6,
   "metadata": {},
   "outputs": [
    {
     "data": {
      "text/html": [
       "<div>\n",
       "<style scoped>\n",
       "    .dataframe tbody tr th:only-of-type {\n",
       "        vertical-align: middle;\n",
       "    }\n",
       "\n",
       "    .dataframe tbody tr th {\n",
       "        vertical-align: top;\n",
       "    }\n",
       "\n",
       "    .dataframe thead th {\n",
       "        text-align: right;\n",
       "    }\n",
       "</style>\n",
       "<table border=\"1\" class=\"dataframe\">\n",
       "  <thead>\n",
       "    <tr style=\"text-align: right;\">\n",
       "      <th></th>\n",
       "      <th>brand</th>\n",
       "      <th>name</th>\n",
       "      <th>url</th>\n",
       "    </tr>\n",
       "  </thead>\n",
       "  <tbody>\n",
       "    <tr>\n",
       "      <th>count</th>\n",
       "      <td>2</td>\n",
       "      <td>2</td>\n",
       "      <td>2</td>\n",
       "    </tr>\n",
       "    <tr>\n",
       "      <th>unique</th>\n",
       "      <td>2</td>\n",
       "      <td>2</td>\n",
       "      <td>2</td>\n",
       "    </tr>\n",
       "    <tr>\n",
       "      <th>top</th>\n",
       "      <td>Escentric Molecules</td>\n",
       "      <td>Molecule 01 Limited Edition 15 Years</td>\n",
       "      <td>https://www.fragrantica.com/perfume/Escentric-...</td>\n",
       "    </tr>\n",
       "    <tr>\n",
       "      <th>freq</th>\n",
       "      <td>1</td>\n",
       "      <td>1</td>\n",
       "      <td>1</td>\n",
       "    </tr>\n",
       "  </tbody>\n",
       "</table>\n",
       "</div>"
      ],
      "text/plain": [
       "                      brand                                  name  \\\n",
       "count                     2                                     2   \n",
       "unique                    2                                     2   \n",
       "top     Escentric Molecules  Molecule 01 Limited Edition 15 Years   \n",
       "freq                      1                                     1   \n",
       "\n",
       "                                                      url  \n",
       "count                                                   2  \n",
       "unique                                                  2  \n",
       "top     https://www.fragrantica.com/perfume/Escentric-...  \n",
       "freq                                                    1  "
      ]
     },
     "execution_count": 6,
     "metadata": {},
     "output_type": "execute_result"
    }
   ],
   "source": [
    "import scraping_info_perfume as sip\n",
    "import pandas as pd\n",
    "import numpy as np\n",
    "import time\n",
    "\n",
    "Fragrantica_dataset = pd.read_csv(\"Ajout_Fragrantica_dataset.csv\")\n",
    "urls_a_scraper = pd.read_csv(\"list_url_add_on.csv\")\n",
    "urls_deja_scrapees = Fragrantica_dataset['url'].tolist()\n",
    "#Choix de la lettre à scraper\n",
    "#lettre = ('A')\n",
    "#df_a_scraper = df[df['Marque'].str.startswith(lettre)]\n",
    "# Exclure les lignes déjà présentes dans Fragrantica_dataset\n",
    "df_a_scraper = urls_a_scraper[~urls_a_scraper['url'].isin(urls_deja_scrapees)] \n",
    "df_a_scraper.describe()"
   ]
  },
  {
   "cell_type": "markdown",
   "metadata": {},
   "source": [
    "## Test pour voir le temps d'attente optimal à scraper 50 parfums"
   ]
  },
  {
   "cell_type": "code",
   "execution_count": 3,
   "metadata": {},
   "outputs": [
    {
     "name": "stdout",
     "output_type": "stream",
     "text": [
      "Temps d'exécution pour batch 1 : 349.2 secondes.\n",
      "Soit 7.1 secondes par URL.\n",
      "Temps d'exécution pour batch 2 : 0.1 secondes.\n",
      "Soit 0.0 secondes par URL.\n"
     ]
    }
   ],
   "source": [
    "import scraping_info_perfume as sip\n",
    "import pandas as pd\n",
    "\n",
    "batch_size = 49\n",
    "'''\n",
    "# Charger le dataset existant\n",
    "Fragrantica_dataset = pd.read_csv(\"Fragrantica_dataset.csv\")\n",
    "url_deja_scrape = set(Fragrantica_dataset['url'].tolist())\n",
    "\n",
    "# Filtrer les URLs déjà scrapées\n",
    "df_a_scraper = df_a_scraper[~df_a_scraper['Lien du Parfum'].isin(url_deja_scrape)]\n",
    "'''\n",
    "df_a_scraper = pd.read_csv('liste_url_mal_scrapee.csv')\n",
    "# Initialiser les DataFrames pour les données scrapées\n",
    "scraped_data_1 = pd.DataFrame()\n",
    "scraped_data_2 = pd.DataFrame()\n",
    "\n",
    "# Fonction pour scraper un batch et mesurer le temps d'exécution\n",
    "def scrape_batch(batch, batch_num):\n",
    "    liste_url = batch[\"url\"].tolist()\n",
    "    start_time = time.time()\n",
    "    scraped_data = sip.scraping_multi_perfume_info(liste_url)\n",
    "    end_time = time.time()\n",
    "    execution_time = end_time - start_time\n",
    "    scraped_data.to_csv(f\"scraped_data_{batch_num}.csv\", index=False)\n",
    "    return scraped_data, execution_time\n",
    "\n",
    "# Scraper le premier batch\n",
    "batch1 = df_a_scraper.iloc[0 : batch_size]\n",
    "scraped_data_1, execution_time_1 = scrape_batch(batch1, 1)\n",
    "print(f\"Temps d'exécution pour batch 1 : {execution_time_1:.1f} secondes.\")\n",
    "print(f\"Soit {execution_time_1 / batch_size:.1f} secondes par URL.\")\n",
    "\n",
    "# Attendre avant de scraper le deuxième batch\n",
    "time.sleep(1200)\n",
    "\n",
    "# Scraper le deuxième batch\n",
    "batch2 = df_a_scraper.iloc[batch_size : 2 * batch_size]\n",
    "scraped_data_2, execution_time_2 = scrape_batch(batch2, 2)\n",
    "print(f\"Temps d'exécution pour batch 2 : {execution_time_2:.1f} secondes.\")\n",
    "print(f\"Soit {execution_time_2 / batch_size:.1f} secondes par URL.\")\n",
    "\n",
    "\n"
   ]
  },
  {
   "cell_type": "code",
   "execution_count": 4,
   "metadata": {},
   "outputs": [
    {
     "data": {
      "text/plain": [
       "'\\nscraped_data2 = pd.read_csv(f\"scraped_data_2.csv\")\\ncombined_data = pd.concat([Fragrantica_dataset, scraped_data2])\\ncombined_data.drop_duplicates(subset=[\\'url\\'], inplace=True)\\ncombined_data.to_csv(\"Fragrantica_dataset.csv\", index=False)\\n\\n\\nFragrantica_dataset = pd.read_csv(\"Fragrantica_dataset.csv\")\\nprint(f\"Nombre de lignes dans Fragrantica_dataset : {Fragrantica_dataset.shape[0]}\")\\nprint(f\"✅ Les données ont été ajoutées à Fragrantica_dataset.csv sans doublons.\")\\n'"
      ]
     },
     "execution_count": 4,
     "metadata": {},
     "output_type": "execute_result"
    }
   ],
   "source": [
    "\n",
    "scraped_data1 = pd.read_csv(f\"scraped_data_1.csv\")\n",
    "scraped_data_1.to_csv(\"Ajout_Fragrantica_dataset.csv\", index=False)\n",
    "#afficher le nomre de ligne de chaque dataframe\n",
    "# Concaténer les deux DataFrames\n",
    "#combined_data = pd.concat([Fragrantica_dataset, scraped_data1])\n",
    "#combined_data.drop_duplicates(subset=['url'], inplace=True)\n",
    "#combined_data.to_csv(\"Ajout_Fragrantica_dataset.csv\", index=False)\n",
    "\n",
    "'''\n",
    "scraped_data2 = pd.read_csv(f\"scraped_data_2.csv\")\n",
    "combined_data = pd.concat([Fragrantica_dataset, scraped_data2])\n",
    "combined_data.drop_duplicates(subset=['url'], inplace=True)\n",
    "combined_data.to_csv(\"Fragrantica_dataset.csv\", index=False)\n",
    "\n",
    "\n",
    "Fragrantica_dataset = pd.read_csv(\"Fragrantica_dataset.csv\")\n",
    "print(f\"Nombre de lignes dans Fragrantica_dataset : {Fragrantica_dataset.shape[0]}\")\n",
    "print(f\"✅ Les données ont été ajoutées à Fragrantica_dataset.csv sans doublons.\")\n",
    "'''\n",
    "\n"
   ]
  },
  {
   "cell_type": "markdown",
   "metadata": {},
   "source": [
    "## Le script qui scrape les infos par batch de 49 lignes"
   ]
  },
  {
   "cell_type": "code",
   "execution_count": null,
   "metadata": {},
   "outputs": [
    {
     "name": "stdout",
     "output_type": "stream",
     "text": [
      "📦 TAILLE DES BATCHS = 10\n",
      "📂 Nous avons déja 2699 URLs dans le dataset Fragrantica.\n",
      "--------------------------------------------------------------------------------\n"
     ]
    }
   ],
   "source": [
    "batch_size = 10\n",
    "num_batches = len(df_a_scraper) // batch_size + (1 if len(df_a_scraper) % batch_size != 0 else 0)\n",
    "print(f\"📦 TAILLE DES BATCHS = {batch_size}\")\n",
    "\n",
    "#1) Obtenir les URLs déjà scrapées\n",
    "print(f\"📂 Nous avons déja {len(urls_deja_scrapees)} URLs dans le dataset Fragrantica.\")\n",
    "print(\"--------------------------------------------------------------------------------\")\n",
    "\n",
    "time.sleep(1200)\n",
    "\n",
    "num_url_scrap = 0\n",
    "#2) Itérer sur les batches \n",
    "for i in range(num_batches):\n",
    "    print('\\n~~~~~~~~~~~~~~~~~~~~~~~~~~~~~~~~~~~~~~~~~~~~~~~~~~~~~~~~~')\t\n",
    "    print(f\"📡 Traitement du batch {i+1}/{num_batches}...\")\n",
    "\n",
    "    batch = df_a_scraper.iloc[i * batch_size : (i + 1) * batch_size]\n",
    "    liste_url = batch[\"url\"].tolist()\n",
    "\n",
    "    try:\n",
    "        start_time = time.time()\n",
    "        scraped_data = sip.scraping_multi_perfume_info(liste_url)\n",
    "        end_time = time.time()\n",
    "        execution_time = end_time - start_time\n",
    "        print(f\"⏱️ Temps d'exécution du scraping sur le batch{i+1} : {execution_time:.1f} secondes.\")\n",
    "        print(f\"⏱️ Soit un total de {execution_time/len(liste_url):.1f} secondes par URL.\")\n",
    "        \n",
    "        # Filtrer les lignes valides\n",
    "        scraped_data = scraped_data.dropna(subset=['nom_parfum'])\n",
    "\n",
    "        file_name = f\"scrap_batch_{i+1}.csv\"\n",
    "        scraped_data.to_csv(file_name, index=False) # Sauvegarde du batch sans index inutile\n",
    "        print(f\"✅ Batch {i+1} enregistré dans {file_name} avec les lignes valides.\")\n",
    "        num_url_scrap += len(scraped_data)\n",
    "\n",
    "    except Exception as e:\n",
    "        print(f\"⚠️ Erreur lors du scraping du batch {i+1}: {e}\")\n",
    "\n",
    "\n",
    "\n",
    "\n",
    "print(f\"\\n🎉 AU FINAL {num_url_scrap} URLs ont été scrapées avec succès !\")\n",
    "\n",
    "\n"
   ]
  },
  {
   "cell_type": "markdown",
   "metadata": {},
   "source": []
  },
  {
   "cell_type": "markdown",
   "metadata": {},
   "source": [
    "## Code pour ajouter nos nouvelles lignes à 'Fragrantica_dataset.csv' "
   ]
  },
  {
   "cell_type": "code",
   "execution_count": 5,
   "metadata": {},
   "outputs": [
    {
     "name": "stdout",
     "output_type": "stream",
     "text": [
      "✅ Les données du batch 1 ont été ajoutées à Ajout_Fragrantica_dataset.csv sans doublons.\n",
      "✅ Les données du batch 2 ont été ajoutées à Ajout_Fragrantica_dataset.csv sans doublons.\n",
      "✅ Les données du batch 3 ont été ajoutées à Ajout_Fragrantica_dataset.csv sans doublons.\n",
      "✅ Les données du batch 4 ont été ajoutées à Ajout_Fragrantica_dataset.csv sans doublons.\n",
      "✅ Les données du batch 5 ont été ajoutées à Ajout_Fragrantica_dataset.csv sans doublons.\n",
      "✅ Les données du batch 6 ont été ajoutées à Ajout_Fragrantica_dataset.csv sans doublons.\n",
      "✅ Les données du batch 7 ont été ajoutées à Ajout_Fragrantica_dataset.csv sans doublons.\n",
      "✅ Les données du batch 8 ont été ajoutées à Ajout_Fragrantica_dataset.csv sans doublons.\n",
      "✅ Les données du batch 9 ont été ajoutées à Ajout_Fragrantica_dataset.csv sans doublons.\n",
      "✅ Les données du batch 10 ont été ajoutées à Ajout_Fragrantica_dataset.csv sans doublons.\n",
      "✅ Les données du batch 11 ont été ajoutées à Ajout_Fragrantica_dataset.csv sans doublons.\n",
      "✅ Les données du batch 12 ont été ajoutées à Ajout_Fragrantica_dataset.csv sans doublons.\n",
      "✅ Les données du batch 13 ont été ajoutées à Ajout_Fragrantica_dataset.csv sans doublons.\n",
      "✅ Les données du batch 14 ont été ajoutées à Ajout_Fragrantica_dataset.csv sans doublons.\n",
      "✅ Les données du batch 15 ont été ajoutées à Ajout_Fragrantica_dataset.csv sans doublons.\n",
      "✅ Les données du batch 16 ont été ajoutées à Ajout_Fragrantica_dataset.csv sans doublons.\n",
      "✅ Les données du batch 17 ont été ajoutées à Ajout_Fragrantica_dataset.csv sans doublons.\n",
      "✅ Les données du batch 18 ont été ajoutées à Ajout_Fragrantica_dataset.csv sans doublons.\n",
      "✅ Les données du batch 19 ont été ajoutées à Ajout_Fragrantica_dataset.csv sans doublons.\n",
      "✅ Les données du batch 20 ont été ajoutées à Ajout_Fragrantica_dataset.csv sans doublons.\n",
      "✅ Les données du batch 21 ont été ajoutées à Ajout_Fragrantica_dataset.csv sans doublons.\n",
      "✅ Les données du batch 22 ont été ajoutées à Ajout_Fragrantica_dataset.csv sans doublons.\n",
      "✅ Les données du batch 23 ont été ajoutées à Ajout_Fragrantica_dataset.csv sans doublons.\n",
      "✅ Les données du batch 24 ont été ajoutées à Ajout_Fragrantica_dataset.csv sans doublons.\n",
      "✅ Les données du batch 25 ont été ajoutées à Ajout_Fragrantica_dataset.csv sans doublons.\n",
      "✅ Les données du batch 26 ont été ajoutées à Ajout_Fragrantica_dataset.csv sans doublons.\n",
      "✅ Les données du batch 27 ont été ajoutées à Ajout_Fragrantica_dataset.csv sans doublons.\n",
      "✅ Les données du batch 28 ont été ajoutées à Ajout_Fragrantica_dataset.csv sans doublons.\n",
      "✅ Les données du batch 29 ont été ajoutées à Ajout_Fragrantica_dataset.csv sans doublons.\n",
      "✅ Les données du batch 30 ont été ajoutées à Ajout_Fragrantica_dataset.csv sans doublons.\n",
      "✅ Les données du batch 31 ont été ajoutées à Ajout_Fragrantica_dataset.csv sans doublons.\n",
      "✅ Les données du batch 32 ont été ajoutées à Ajout_Fragrantica_dataset.csv sans doublons.\n",
      "✅ Les données du batch 33 ont été ajoutées à Ajout_Fragrantica_dataset.csv sans doublons.\n",
      "✅ Les données du batch 34 ont été ajoutées à Ajout_Fragrantica_dataset.csv sans doublons.\n",
      "✅ Les données du batch 35 ont été ajoutées à Ajout_Fragrantica_dataset.csv sans doublons.\n",
      "✅ Les données du batch 36 ont été ajoutées à Ajout_Fragrantica_dataset.csv sans doublons.\n",
      "✅ Les données du batch 37 ont été ajoutées à Ajout_Fragrantica_dataset.csv sans doublons.\n",
      "✅ Les données du batch 38 ont été ajoutées à Ajout_Fragrantica_dataset.csv sans doublons.\n",
      "✅ Les données du batch 39 ont été ajoutées à Ajout_Fragrantica_dataset.csv sans doublons.\n"
     ]
    }
   ],
   "source": [
    "num_premier_batch = 1\n",
    "num_dernier_batch = 39\n",
    "for i in range(num_premier_batch-1, num_dernier_batch):\n",
    "    scraped_data = pd.read_csv(f\"scrap_batch_{i+1}.csv\")\n",
    "    Fragrantica_dataset = pd.read_csv(\"Ajout_Fragrantica_dataset.csv\")\n",
    "\n",
    "    # Concaténer les deux DataFrames\n",
    "    combined_data = pd.concat([Fragrantica_dataset, scraped_data])\n",
    "\n",
    "    # Supprimer les doublons\n",
    "    combined_data.drop_duplicates(subset=['url'], inplace=True)\n",
    "\n",
    "    # Sauvegarder le dataset combiné\n",
    "    combined_data.to_csv(\"Ajout_Fragrantica_dataset.csv\", index=False)\n",
    "    print(f\"✅ Les données du batch {i+1} ont été ajoutées à Ajout_Fragrantica_dataset.csv sans doublons.\")\n"
   ]
  }
 ],
 "metadata": {
  "kernelspec": {
   "display_name": "Python 3",
   "language": "python",
   "name": "python3"
  },
  "language_info": {
   "codemirror_mode": {
    "name": "ipython",
    "version": 3
   },
   "file_extension": ".py",
   "mimetype": "text/x-python",
   "name": "python",
   "nbconvert_exporter": "python",
   "pygments_lexer": "ipython3",
   "version": "3.9.13"
  }
 },
 "nbformat": 4,
 "nbformat_minor": 2
}
