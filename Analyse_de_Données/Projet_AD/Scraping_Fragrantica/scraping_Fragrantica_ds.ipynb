{
 "cells": [
  {
   "cell_type": "markdown",
   "metadata": {},
   "source": [
    "# Création du Dataset en scrappant les infos depuis une liste d'url"
   ]
  },
  {
   "cell_type": "markdown",
   "metadata": {},
   "source": [
    "## Imports"
   ]
  },
  {
   "cell_type": "code",
   "execution_count": null,
   "metadata": {},
   "outputs": [
    {
     "data": {
      "text/html": [
       "<div>\n",
       "<style scoped>\n",
       "    .dataframe tbody tr th:only-of-type {\n",
       "        vertical-align: middle;\n",
       "    }\n",
       "\n",
       "    .dataframe tbody tr th {\n",
       "        vertical-align: top;\n",
       "    }\n",
       "\n",
       "    .dataframe thead th {\n",
       "        text-align: right;\n",
       "    }\n",
       "</style>\n",
       "<table border=\"1\" class=\"dataframe\">\n",
       "  <thead>\n",
       "    <tr style=\"text-align: right;\">\n",
       "      <th></th>\n",
       "      <th>Marque</th>\n",
       "      <th>Parfum</th>\n",
       "      <th>Lien du Parfum</th>\n",
       "    </tr>\n",
       "  </thead>\n",
       "  <tbody>\n",
       "    <tr>\n",
       "      <th>count</th>\n",
       "      <td>19318</td>\n",
       "      <td>19318</td>\n",
       "      <td>19318</td>\n",
       "    </tr>\n",
       "    <tr>\n",
       "      <th>unique</th>\n",
       "      <td>119</td>\n",
       "      <td>18643</td>\n",
       "      <td>19318</td>\n",
       "    </tr>\n",
       "    <tr>\n",
       "      <th>top</th>\n",
       "      <td>The Dua Brand</td>\n",
       "      <td>Rose</td>\n",
       "      <td>https://www.fragrantica.com/perfume/Acqua-di-P...</td>\n",
       "    </tr>\n",
       "    <tr>\n",
       "      <th>freq</th>\n",
       "      <td>1673</td>\n",
       "      <td>8</td>\n",
       "      <td>1</td>\n",
       "    </tr>\n",
       "  </tbody>\n",
       "</table>\n",
       "</div>"
      ],
      "text/plain": [
       "               Marque Parfum  \\\n",
       "count           19318  19318   \n",
       "unique            119  18643   \n",
       "top     The Dua Brand   Rose   \n",
       "freq             1673      8   \n",
       "\n",
       "                                           Lien du Parfum  \n",
       "count                                               19318  \n",
       "unique                                              19318  \n",
       "top     https://www.fragrantica.com/perfume/Acqua-di-P...  \n",
       "freq                                                    1  "
      ]
     },
     "execution_count": 1,
     "metadata": {},
     "output_type": "execute_result"
    }
   ],
   "source": [
    "import scraping_info_perfume as sip\n",
    "import pandas as pd\n",
    "import numpy as np\n",
    "import time\n",
    "import sys\n",
    "\n",
    "df = pd.read_csv('list_url_by_popular_designer.csv')\n",
    "\n",
    "# Choix de la lettre à scraper\n",
    "lettre = 'T'\n",
    "df_a_scraper = df[df['Marque'].str.startswith(lettre)] \n",
    "df_a_scraper.describe()"
   ]
  },
  {
   "cell_type": "markdown",
   "metadata": {},
   "source": [
    "## Test pour voir le temps d'attente optimal à scraper 50 parfums"
   ]
  },
  {
   "cell_type": "code",
   "execution_count": null,
   "metadata": {},
   "outputs": [
    {
     "name": "stdout",
     "output_type": "stream",
     "text": [
      "Temps d'exécution pour batch 1 : 44.2 secondes.\n",
      "Soit 8.8 secondes par URL.\n",
      "Temps d'exécution pour batch 2 : 72.0 secondes.\n",
      "Soit 14.4 secondes par URL.\n"
     ]
    }
   ],
   "source": [
    "batch_size = 49\n",
    "\n",
    "# Charger le dataset existant\n",
    "Fragrantica_dataset = pd.read_csv(\"Fragrantica_dataset.csv\")\n",
    "url_deja_scrape = set(Fragrantica_dataset['url'].tolist())\n",
    "\n",
    "# Filtrer les URLs déjà scrapées\n",
    "df_a_scraper = df_a_scraper[~df_a_scraper['Lien du Parfum'].isin(url_deja_scrape)]\n",
    "\n",
    "# Initialiser les DataFrames pour les données scrapées\n",
    "scraped_data_1 = pd.DataFrame()\n",
    "scraped_data_2 = pd.DataFrame()\n",
    "\n",
    "# Fonction pour scraper un batch et mesurer le temps d'exécution\n",
    "def scrape_batch(batch, batch_num):\n",
    "    liste_url = batch[\"Lien du Parfum\"].tolist()\n",
    "    start_time = time.time()\n",
    "    scraped_data = sip.scraping_multi_perfume_info(liste_url)\n",
    "    end_time = time.time()\n",
    "    execution_time = end_time - start_time\n",
    "    scraped_data.to_csv(f\"scraped_data_{batch_num}.csv\", index=False)\n",
    "    return scraped_data, execution_time\n",
    "\n",
    "# Scraper le premier batch\n",
    "batch1 = df_a_scraper.iloc[0 : batch_size]\n",
    "scraped_data_1, execution_time_1 = scrape_batch(batch1, 1)\n",
    "print(f\"Temps d'exécution pour batch 1 : {execution_time_1:.1f} secondes.\")\n",
    "print(f\"Soit {execution_time_1 / batch_size:.1f} secondes par URL.\")\n",
    "\n",
    "# Attendre avant de scraper le deuxième batch\n",
    "time.sleep(180)\n",
    "\n",
    "# Scraper le deuxième batch\n",
    "batch2 = df_a_scraper.iloc[batch_size : 2 * batch_size]\n",
    "scraped_data_2, execution_time_2 = scrape_batch(batch2, 2)\n",
    "print(f\"Temps d'exécution pour batch 2 : {execution_time_2:.1f} secondes.\")\n",
    "print(f\"Soit {execution_time_2 / batch_size:.1f} secondes par URL.\")\n"
   ]
  },
  {
   "cell_type": "code",
   "execution_count": 12,
   "metadata": {},
   "outputs": [
    {
     "name": "stdout",
     "output_type": "stream",
     "text": [
      "Nombre de lignes dans Fragrantica_dataset : 578\n",
      "Nombre de lignes dans Fragrantica_dataset : 578\n",
      "Nombre de lignes dans Fragrantica_dataset : 588\n",
      "✅ Les données ont été ajoutées à Fragrantica_dataset.csv sans doublons.\n"
     ]
    }
   ],
   "source": [
    "\n",
    "Fragrantica_dataset = pd.read_csv(\"Fragrantica_dataset.csv\")\n",
    "print(f\"Nombre de lignes dans Fragrantica_dataset : {Fragrantica_dataset.shape[0]}\")\n",
    "scraped_data1 = pd.read_csv(f\"scraped_data_1.csv\")\n",
    "#afficher le nomre de ligne de chaque dataframe\n",
    "# Concaténer les deux DataFrames\n",
    "combined_data = pd.concat([Fragrantica_dataset, scraped_data1])\n",
    "combined_data.drop_duplicates(subset=['url'], inplace=True)\n",
    "combined_data.to_csv(\"Fragrantica_dataset.csv\", index=False)\n",
    "\n",
    "Fragrantica_dataset = pd.read_csv(\"Fragrantica_dataset.csv\")\n",
    "print(f\"Nombre de lignes dans Fragrantica_dataset : {Fragrantica_dataset.shape[0]}\")\n",
    "scraped_data2 = pd.read_csv(f\"scraped_data_2.csv\")\n",
    "combined_data = pd.concat([Fragrantica_dataset, scraped_data2])\n",
    "combined_data.drop_duplicates(subset=['url'], inplace=True)\n",
    "combined_data.to_csv(\"Fragrantica_dataset.csv\", index=False)\n",
    "\n",
    "\n",
    "Fragrantica_dataset = pd.read_csv(\"Fragrantica_dataset.csv\")\n",
    "print(f\"Nombre de lignes dans Fragrantica_dataset : {Fragrantica_dataset.shape[0]}\")\n",
    "print(f\"✅ Les données ont été ajoutées à Fragrantica_dataset.csv sans doublons.\")\n",
    "\n",
    "\n"
   ]
  },
  {
   "cell_type": "markdown",
   "metadata": {},
   "source": [
    "## Le script qui scrape les infos par batch de 49 lignes"
   ]
  },
  {
   "cell_type": "code",
   "execution_count": null,
   "metadata": {},
   "outputs": [
    {
     "name": "stdout",
     "output_type": "stream",
     "text": [
      "📦 TAILLE DES BATCHS = 49\n"
     ]
    }
   ],
   "source": [
    "batch_size = 49\n",
    "num_batches = len(df_a_scraper) // batch_size + (1 if len(df_a_scraper) % batch_size != 0 else 0)\n",
    "print(f\"📦 TAILLE DES BATCHS = {batch_size}\")\n",
    "\n",
    "time.sleep(3600)\n",
    "\n",
    "#1) Obtenir les URLs déjà scrapées\n",
    "Fragrantica_dataset = pd.read_csv(\"Fragrantica_dataset.csv\")\n",
    "url_deja_scrape = set(Fragrantica_dataset['url'].tolist())  # Convertir en set pour accélérer la recherche\n",
    "print(f\"📂 Nous avons déja {len(url_deja_scrape)} URLs sont dans le dataset Fragrantica.\")\n",
    "print(\"--------------------------------------------------------------------------------\")\n",
    "\n",
    "num_url_scrap = 0\n",
    "#2) Itérer sur les batches \n",
    "for i in range(num_batches):\n",
    "    print(f\"\\n📡 Traitement du batch {i+1}/{num_batches}...\")\n",
    "\n",
    "    batch = df_a_scraper.iloc[i * batch_size : (i + 1) * batch_size]\n",
    "    liste_url = batch[\"Lien du Parfum\"].tolist()\n",
    "\n",
    "    # 🔍 Supprimer les URLs déjà scrapées\n",
    "    old_len = len(liste_url)\n",
    "    liste_url = [url for url in liste_url if url not in url_deja_scrape]\n",
    "    new_len = len(liste_url)\n",
    "    print(f\"🔍 {old_len - new_len} URLs sur {old_len} ont déjà été scrapées et retirées du batch {i+1}.\")\n",
    "\n",
    "    if not liste_url:  # Si aucun URL à scraper, passer au batch suivant\n",
    "        print(f\"⏭️ Batch {i+1} ignoré (toutes les URLs étaient déjà scrapées).\")\n",
    "        continue\n",
    "    \n",
    "\n",
    "    try:\n",
    "        start_time = time.time()\n",
    "        scraped_data = sip.scraping_multi_perfume_info(liste_url)\n",
    "        end_time = time.time()\n",
    "        execution_time = end_time - start_time\n",
    "        print(f\"⏱️ Temps d'exécution du scraping sur le batch{i+1} : {execution_time:.1f} secondes.\")\n",
    "        print(f\"⏱️ Soit un total de {execution_time/len(liste_url):.1f} secondes par URL.\")\n",
    "        \n",
    "        # Vérifier si le batch est vide\n",
    "\n",
    "        '''\n",
    "        cette condition n'est jamais remplie\n",
    "        '''\n",
    "        if scraped_data['nom_parfum'].empty:\n",
    "            print(f\"🚨 Erreur critique : Le batch {i+1} est vide. On fait une grosse pause\")\n",
    "            time.sleep(3600)  # Pause de 5 minutes pour éviter d'être bloqué par le site\n",
    "            continue\n",
    "        # Vérifier si le scrappinng c'es mal passé\n",
    "        if scraped_data['nom_parfum'].isnull().sum() > 0:\n",
    "            print(f\"🚨 Erreur critique : Le batch {i+1} contient {scraped_data['nom_parfum'].isnull().sum()} lignes vides. On fait une grosse pause\")\n",
    "            # Filtrer les lignes valides\n",
    "            scraped_data = scraped_data.dropna(subset=['nom_parfum'])\n",
    "    \n",
    "            file_name = f\"scrap_batch_{i+1}.csv\"\n",
    "            scraped_data.to_csv(file_name, index=False) # Sauvegarde du batch sans index inutile\n",
    "            print(f\"✅ Batch {i+1} enregistré dans {file_name} avec les lignes valides.\")\n",
    "            num_url_scrap += len(scraped_data)\n",
    "            time.sleep(3600)  # Pause de 5 minutes pour éviter d'être bloqué par le site\n",
    "            continue\n",
    "            '''        \n",
    "            print(f\"🚨 Erreur critique : Le batch {i+1} contient des lignes vides. Arrêt immédiat du script.\")\n",
    "            sys.exit(1)  # 💀 Arrêt immédiat du script avec un code d'erreur 1\n",
    "            '''\n",
    "\n",
    "        else:\n",
    "            file_name = f\"scrap_batch_{i+1}.csv\"\n",
    "            scraped_data.to_csv(file_name, index=False) # Sauvegarde du batch sans index inutile\n",
    "            print(f\"✅ Batch {i+1} enregistré dans {file_name}.\")\n",
    "            num_url_scrap += new_len\n",
    "\n",
    "        print(\"On attend 30 minutes\")\n",
    "        time.sleep(1801)  # Pause pour éviter d'être bloqué par le site\n",
    "\n",
    "    except Exception as e:\n",
    "        print(f\"⚠️ Erreur lors du scraping du batch {i+1}: {e}\")\n",
    "\n",
    "'''\n",
    "Fais une grosse pause seulement si on a une 'Too many requests' erreur\n",
    "\n",
    "'''\n",
    "\n",
    "\n",
    "\n",
    "print(f\"\\n🎉 AU FINAL {num_url_scrap} URLs ont été scrapées avec succès !\")\n",
    "\n",
    "#3) Regarder le dernier batch\n",
    "scraped_data = pd.DataFrame()\n",
    "scraped_data.head()\n",
    "\n"
   ]
  },
  {
   "cell_type": "markdown",
   "metadata": {},
   "source": []
  },
  {
   "cell_type": "markdown",
   "metadata": {},
   "source": [
    "## Code pour ajouter nos nouvelles lignes à 'Fragrantica_dataset.csv' "
   ]
  },
  {
   "cell_type": "code",
   "execution_count": null,
   "metadata": {},
   "outputs": [
    {
     "name": "stdout",
     "output_type": "stream",
     "text": [
      "✅ Les données du batch 18 ont été ajoutées à Fragrantica_dataset.csv sans doublons.\n",
      "✅ Les données du batch 19 ont été ajoutées à Fragrantica_dataset.csv sans doublons.\n",
      "✅ Les données du batch 20 ont été ajoutées à Fragrantica_dataset.csv sans doublons.\n",
      "✅ Les données du batch 21 ont été ajoutées à Fragrantica_dataset.csv sans doublons.\n",
      "✅ Les données du batch 22 ont été ajoutées à Fragrantica_dataset.csv sans doublons.\n",
      "✅ Les données du batch 23 ont été ajoutées à Fragrantica_dataset.csv sans doublons.\n",
      "✅ Les données du batch 24 ont été ajoutées à Fragrantica_dataset.csv sans doublons.\n",
      "✅ Les données du batch 25 ont été ajoutées à Fragrantica_dataset.csv sans doublons.\n",
      "✅ Les données du batch 26 ont été ajoutées à Fragrantica_dataset.csv sans doublons.\n",
      "✅ Les données du batch 27 ont été ajoutées à Fragrantica_dataset.csv sans doublons.\n",
      "✅ Les données du batch 28 ont été ajoutées à Fragrantica_dataset.csv sans doublons.\n",
      "✅ Les données du batch 29 ont été ajoutées à Fragrantica_dataset.csv sans doublons.\n",
      "✅ Les données du batch 30 ont été ajoutées à Fragrantica_dataset.csv sans doublons.\n",
      "✅ Les données du batch 31 ont été ajoutées à Fragrantica_dataset.csv sans doublons.\n",
      "✅ Les données du batch 32 ont été ajoutées à Fragrantica_dataset.csv sans doublons.\n",
      "✅ Les données du batch 33 ont été ajoutées à Fragrantica_dataset.csv sans doublons.\n"
     ]
    }
   ],
   "source": [
    "num_premier_batch = 1\n",
    "num_dernier_batch = 2\n",
    "for i in range(num_premier_batch-1, num_dernier_batch):\n",
    "    scraped_data = pd.read_csv(f\"scrap_batch_{i+1}.csv\")\n",
    "    Fragrantica_dataset = pd.read_csv(\"Fragrantica_dataset.csv\")\n",
    "\n",
    "    # Concaténer les deux DataFrames\n",
    "    combined_data = pd.concat([Fragrantica_dataset, scraped_data])\n",
    "\n",
    "    # Supprimer les doublons\n",
    "    combined_data.drop_duplicates(subset=['url'], inplace=True)\n",
    "\n",
    "    # Sauvegarder le dataset combiné\n",
    "    combined_data.to_csv(\"Fragrantica_dataset.csv\", index=False)\n",
    "    print(f\"✅ Les données du batch {i+1} ont été ajoutées à Fragrantica_dataset.csv sans doublons.\")\n"
   ]
  }
 ],
 "metadata": {
  "kernelspec": {
   "display_name": "Python 3",
   "language": "python",
   "name": "python3"
  },
  "language_info": {
   "codemirror_mode": {
    "name": "ipython",
    "version": 3
   },
   "file_extension": ".py",
   "mimetype": "text/x-python",
   "name": "python",
   "nbconvert_exporter": "python",
   "pygments_lexer": "ipython3",
   "version": "3.9.13"
  }
 },
 "nbformat": 4,
 "nbformat_minor": 2
}
