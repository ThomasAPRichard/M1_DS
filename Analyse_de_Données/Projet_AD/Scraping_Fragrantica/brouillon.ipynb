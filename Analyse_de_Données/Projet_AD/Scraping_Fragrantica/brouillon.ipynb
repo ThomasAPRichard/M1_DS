{
 "cells": [
  {
   "cell_type": "markdown",
   "metadata": {},
   "source": [
    "J'essaie de scraper des infos sur la page de présentation Fragantica de Black Phantom : https://www.fragrantica.com/perfume/By-Kilian/Black-Phantom-43632.html\n",
    "\n",
    "Je veux scraper ces infos :\n",
    "Nom du Parfum\n",
    "Nom de la marque\n",
    "Launch year\n",
    "Perfume rating\n",
    "Nombre de votant sur le Perfume rating\n",
    "Saisonnalité (Hiver, automne… peut etre gardé juste la + votée)\n",
    "Parfumeur\n",
    "Main accord\n",
    "‘Perfume Pyramide’  = [‘Top note’ , ‘Middle note’, Base note’]\n",
    "Genre (en prenant celui qui à le plus de vote)\n",
    "Longevite, Sillage (en prenant les votes)\n"
   ]
  },
  {
   "cell_type": "markdown",
   "metadata": {},
   "source": [
    "## Imports"
   ]
  },
  {
   "cell_type": "code",
   "execution_count": 1,
   "metadata": {},
   "outputs": [],
   "source": [
    "import requests\n",
    "from bs4 import BeautifulSoup\n",
    "import re\n",
    "\n",
    "from selenium import webdriver\n",
    "from selenium.webdriver.common.by import By\n",
    "from selenium.webdriver.chrome.service import Service\n",
    "from webdriver_manager.chrome import ChromeDriverManager\n",
    "\n",
    "import cloudscraper\n"
   ]
  },
  {
   "cell_type": "markdown",
   "metadata": {},
   "source": [
    "## Les fonctions"
   ]
  },
  {
   "cell_type": "code",
   "execution_count": null,
   "metadata": {},
   "outputs": [],
   "source": [
    "#Récupère le HTML de la page correspondant à l'URL donnée.\n",
    "def get_html_non_headless(url):\n",
    "    \"\"\"\n",
    "    Ouvre Chrome en mode normal (non-headless), va sur l'URL, \n",
    "    attend 1 seconde, récupère le HTML et ferme le navigateur.\n",
    "    \"\"\"\n",
    "    # 1) Configuration basique du driver, sans headless\n",
    "    options = webdriver.ChromeOptions()\n",
    "    # Pas d'options.add_argument('--headless'), car on veut voir la fenêtre\n",
    "\n",
    "    # 2) Création du driver\n",
    "    driver = webdriver.Chrome(\n",
    "        service=Service(ChromeDriverManager().install()),\n",
    "        options=options\n",
    "    )\n",
    "    \n",
    "    # 3) Accès à la page\n",
    "    driver.get(url)\n",
    "    \n",
    "    # 4) Patiente un peu pour laisser la page (et scripts éventuels) se charger\n",
    "    time.sleep(1)\n",
    "    \n",
    "    # 5) Récupère le code HTML\n",
    "    html_content = driver.page_source\n",
    "    \n",
    "    # 6) Ferme le navigateur\n",
    "    driver.quit()\n",
    "\n",
    "    return html_content"
   ]
  },
  {
   "cell_type": "markdown",
   "metadata": {},
   "source": [
    "## Le script"
   ]
  },
  {
   "cell_type": "markdown",
   "metadata": {},
   "source": [
    "### Obtenir le contenu html de la page d'Angel Share"
   ]
  },
  {
   "cell_type": "code",
   "execution_count": 11,
   "metadata": {},
   "outputs": [],
   "source": [
    "url = \"https://www.fragrantica.com/perfume/By-Kilian/Angels-Share-62615.html\"\n",
    "html_content = get_html_non_headless(url)\n",
    "    \n",
    "# Vous pouvez ensuite parser le HTML avec BeautifulSoup\n",
    "soup = BeautifulSoup(html, 'html.parser')\n"
   ]
  },
  {
   "cell_type": "markdown",
   "metadata": {},
   "source": [
    "### Obtenir les infos sur angels share\n",
    "- nom_parfum\n",
    "      - marque\n",
    "      - launch_year\n",
    "      - perfume_rating\n",
    "      - nb_votes\n",
    "      - saison_plus_votee\n",
    "      - parfumeur\n",
    "      - main_accord\n",
    "      - perfume_pyramid (dict avec top/middle/base)\n",
    "      - genre\n",
    "      - longevite_votes\n",
    "      - sillage_votes\n"
   ]
  },
  {
   "cell_type": "code",
   "execution_count": null,
   "metadata": {},
   "outputs": [
    {
     "name": "stdout",
     "output_type": "stream",
     "text": [
      "{'nom_parfum': 'Angels Share', 'marque': 'By Kilian', 'nose': 'Benoist Lapouza', 'launch_year': '2020', 'rating_value': '4.38', 'rating_count': '15,696', 'main_accords': ['woody', 'warm spicy', 'sweet', 'vanilla', 'cinnamon', 'amber', 'powdery']}\n"
     ]
    }
   ],
   "source": [
    "data = {}\n",
    "\n",
    "# 1) Nom du parfum        \n",
    "match = re.search(r'/perfume/[^/]+/([^/]+)-\\d+\\.html', html_content)\n",
    "if match:\n",
    "    perfume_name = match.group(1)\n",
    "    perfume_name = perfume_name.replace('-', ' ')\n",
    "    data['nom_parfum'] = perfume_name\n",
    "else:\n",
    "    data['nom_parfum'] = None\n",
    "\n",
    "#2) Marque\n",
    "match = re.search(r'/perfume/([^/]+)/', html_content)\n",
    "if match:\n",
    "    brand_name = match.group(1)\n",
    "    brand_name = brand_name.replace('-', ' ')\n",
    "    data['marque'] = brand_name\n",
    "else:\n",
    "    data['marque'] = None\n",
    "\n",
    "#3) Parfumeur\n",
    "data['nose'] = None\n",
    "nose_el = soup.select_one('div.cell a[href^=\"/noses/\"]')\n",
    "if nose_el:\n",
    "    data['nose'] = nose_el.get_text(strip=True)\n",
    "\n",
    "#4) Année de sortie\n",
    "data['launch_year'] = None\n",
    "title_el = soup.find('title')\n",
    "if title_el:\n",
    "    possible_year = title_el.get_text(strip=True)[-4:] #Les 4 derniers caractères du titre\n",
    "    if possible_year.isdigit():\n",
    "        data['launch_year'] = possible_year\n",
    "\n",
    "#5) Perfume rating (note)\n",
    "## ATTENTION, valeur en string, pas en float\n",
    "data['rating_value'] = None\n",
    "rating_el = soup.select_one('span[itemprop=\"ratingValue\"]').get_text(strip=True)\n",
    "if rating_el:\n",
    "    data['rating_value'] = rating_el  \n",
    "\n",
    "#6) Nb de votes\n",
    "data['rating_count'] = None\n",
    "rating_count_el = soup.select_one('span[itemprop=\"ratingCount\"]').get_text(strip=True)\n",
    "if rating_count_el:\n",
    "    data['rating_count'] = rating_count_el\n",
    "\n",
    "\n",
    "#7)Main accord\n",
    "data['main_accords'] = []\n",
    "main_accords_el = soup.find_all('div', class_= 'cell accord-box')\n",
    "for element in main_accords_el:\n",
    "    accord = element.get_text(strip=True)\n",
    "    if accord:\n",
    "        data['main_accords'].append(accord)\n",
    "\n",
    "\n",
    "print(data)\n"
   ]
  },
  {
   "cell_type": "code",
   "execution_count": null,
   "metadata": {},
   "outputs": [
    {
     "name": "stdout",
     "output_type": "stream",
     "text": [
      "[('very weak', '113'), ('weak', '341'), ('moderate', '2453'), ('long lasting', '4815'), ('eternal', '1395'), ('moderate', '4040')]\n",
      "[('moderate', '2453'), ('intimate', '418'), ('moderate', '4040'), ('strong', '3600'), ('enormous', '798')]\n"
     ]
    }
   ],
   "source": [
    "#Les listes des votes pour Longevity, Sillage, Gender, Price Feeling\n",
    "\n",
    "#Sélecteur des blocs qui contiennent la catégorie + nombre de votes\n",
    "tab_rows = soup.select('div.grid-x.grid-margin-x')  #On selectionne trop de chose donc on va devoir filtrer\n",
    "tableau_votes = []\n",
    "for row in tab_rows:\n",
    "    # Récupérer le nom de la catégorie (ex: \"female\") dans <span class=\"vote-button-name\">\n",
    "    category_el = row.select_one('span.vote-button-name')\n",
    "    # Récupérer le nombre de votes dans <span class=\"vote-button-legend\">\n",
    "    votes_el = row.select_one('span.vote-button-legend')\n",
    "    if category_el and votes_el:\n",
    "        category = category_el.get_text(strip=True)\n",
    "        votes = votes_el.get_text(strip=True)   \n",
    "        tableau_votes.append((category, votes))\n",
    "\n",
    "for element in tableau_votes:\n",
    "    if not element[1].isdigit(): #Si le nombre de votes n'est pas un nombre, et oui ça arrive !\n",
    "        tableau_votes.remove(element)\n",
    "\n",
    "# Définition des groupes\n",
    "longevity_labels = {\"very weak\", \"weak\", \"moderate\", \"long lasting\", \"eternal\"}\n",
    "sillage_labels = {\"intimate\", \"moderate\", \"strong\", \"enormous\"}\n",
    "gender_labels = {\"female\", \"more female\", \"unisex\", \"more male\", \"male\"}\n",
    "price_feeling_labels = {\"way overpriced\", \"overpriced\", \"ok\", \"good value\", \"great value\"}\n",
    "# Séparation des données\n",
    "longevity_list = [element for element in tableau_votes if element[0] in longevity_labels]\n",
    "sillage_list = [element for element in tableau_votes if element[0] in sillage_labels]\n",
    "gender_list = [element for element in tableau_votes if element[0] in  gender_labels]\n",
    "price_feeling_list = [element for element in tableau_votes if element[0] in  price_feeling_labels]\n",
    "\n"
   ]
  },
  {
   "cell_type": "code",
   "execution_count": 100,
   "metadata": {},
   "outputs": [
    {
     "name": "stdout",
     "output_type": "stream",
     "text": [
      "<bound method PageElement.get_text of '\\n'> \n",
      "\n",
      "<bound method PageElement.get_text of <img src=\"data:image/png;base64,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\" style=\"width: 57px;height: 57px;opacity: 0.5;\"/>> \n",
      "\n",
      "<bound method PageElement.get_text of '\\n'> \n",
      "\n"
     ]
    },
    {
     "ename": "AttributeError",
     "evalue": "'NoneType' object has no attribute 'get_text'",
     "output_type": "error",
     "traceback": [
      "\u001b[1;31m---------------------------------------------------------------------------\u001b[0m",
      "\u001b[1;31mAttributeError\u001b[0m                            Traceback (most recent call last)",
      "Cell \u001b[1;32mIn[100], line 11\u001b[0m\n\u001b[0;32m      9\u001b[0m pyramid_section \u001b[38;5;241m=\u001b[39m soup\u001b[38;5;241m.\u001b[39mselect_one(\u001b[38;5;124m\"\u001b[39m\u001b[38;5;124m#pyramid\u001b[39m\u001b[38;5;124m\"\u001b[39m)\n\u001b[0;32m     10\u001b[0m \u001b[38;5;28;01mfor\u001b[39;00m element \u001b[38;5;129;01min\u001b[39;00m pyramid_section\u001b[38;5;241m.\u001b[39mselect(\u001b[38;5;124m\"\u001b[39m\u001b[38;5;124mdiv.cell\u001b[39m\u001b[38;5;124m\"\u001b[39m):\n\u001b[1;32m---> 11\u001b[0m     category \u001b[38;5;241m=\u001b[39m \u001b[43melement\u001b[49m\u001b[38;5;241;43m.\u001b[39;49m\u001b[43mselect_one\u001b[49m\u001b[43m(\u001b[49m\u001b[38;5;124;43m\"\u001b[39;49m\u001b[38;5;124;43mdiv.cell.small-4\u001b[39;49m\u001b[38;5;124;43m\"\u001b[39;49m\u001b[43m)\u001b[49m\u001b[38;5;241;43m.\u001b[39;49m\u001b[43mget_text\u001b[49m(strip\u001b[38;5;241m=\u001b[39m\u001b[38;5;28;01mTrue\u001b[39;00m)\n\u001b[0;32m     12\u001b[0m     notes \u001b[38;5;241m=\u001b[39m [note\u001b[38;5;241m.\u001b[39mget_text(strip\u001b[38;5;241m=\u001b[39m\u001b[38;5;28;01mTrue\u001b[39;00m) \u001b[38;5;28;01mfor\u001b[39;00m note \u001b[38;5;129;01min\u001b[39;00m element\u001b[38;5;241m.\u001b[39mselect(\u001b[38;5;124m\"\u001b[39m\u001b[38;5;124mdiv.cell.small-8 a\u001b[39m\u001b[38;5;124m\"\u001b[39m)]\n\u001b[0;32m     13\u001b[0m     \u001b[38;5;28mprint\u001b[39m(category, notes)\n",
      "\u001b[1;31mAttributeError\u001b[0m: 'NoneType' object has no attribute 'get_text'"
     ]
    }
   ],
   "source": [
    "#8) Pyramide olfactive\n",
    "data['perfume_pyramid'] = []\n",
    "\n",
    "pyramid_el = soup.select_one('div' ,class_='grid-x grid-padding-y', id_='pyramid')\n",
    "for element in pyramid_el:\n",
    "    print(element.get_text, \"\\n\")\n",
    "    #data['perfume_pyramid'].append(element.get_text(strip=True))\n",
    "\n",
    "pyramid_section = soup.select_one(\"#pyramid\")\n",
    "for element in pyramid_section.select(\"div.cell\"):\n",
    "    category = element.select_one(\"div.cell.small-4\").get_text(strip=True)\n",
    "    notes = [note.get_text(strip=True) for note in element.select(\"div.cell.small-8 a\")]\n",
    "    print(category, notes)\n",
    "    data['perfume_pyramid'].append((category, notes))"
   ]
  }
 ],
 "metadata": {
  "kernelspec": {
   "display_name": "Python 3",
   "language": "python",
   "name": "python3"
  },
  "language_info": {
   "codemirror_mode": {
    "name": "ipython",
    "version": 3
   },
   "file_extension": ".py",
   "mimetype": "text/x-python",
   "name": "python",
   "nbconvert_exporter": "python",
   "pygments_lexer": "ipython3",
   "version": "3.9.13"
  }
 },
 "nbformat": 4,
 "nbformat_minor": 2
}
