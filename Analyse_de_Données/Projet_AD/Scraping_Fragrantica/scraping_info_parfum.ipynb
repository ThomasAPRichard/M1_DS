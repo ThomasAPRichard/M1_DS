{
 "cells": [
  {
   "cell_type": "markdown",
   "metadata": {},
   "source": [
    "# Scraper les informations d'une référence parfum sur Fragrantica"
   ]
  },
  {
   "cell_type": "markdown",
   "metadata": {},
   "source": [
    "## Imports"
   ]
  },
  {
   "cell_type": "code",
   "execution_count": 3,
   "metadata": {},
   "outputs": [],
   "source": [
    "from bs4 import BeautifulSoup\n",
    "import re\n",
    "import time\n",
    "\n",
    "from selenium import webdriver\n",
    "from selenium.webdriver.common.by import By\n",
    "from selenium.webdriver.chrome.service import Service\n",
    "from webdriver_manager.chrome import ChromeDriverManager\n",
    "\n",
    "import numpy as np"
   ]
  },
  {
   "cell_type": "markdown",
   "metadata": {},
   "source": [
    "## Les fonctions"
   ]
  },
  {
   "cell_type": "markdown",
   "metadata": {},
   "source": [
    "### Fonction pour récuperer le code html d'une page parfum"
   ]
  },
  {
   "cell_type": "code",
   "execution_count": 2,
   "metadata": {},
   "outputs": [],
   "source": [
    "#Récupère le HTML de la page correspondant à l'URL donnée.\n",
    "def get_html_non_headless(url):\n",
    "    \"\"\"\n",
    "    Ouvre Chrome en mode normal (non-headless), va sur l'URL, \n",
    "    attend 1 seconde, récupère le HTML et ferme le navigateur.\n",
    "    \"\"\"\n",
    "    # 1) Configuration basique du driver, sans headless\n",
    "    options = webdriver.ChromeOptions()\n",
    "    # Pas d'options.add_argument('--headless'), car on veut voir la fenêtre\n",
    "\n",
    "    # 2) Création du driver\n",
    "    driver = webdriver.Chrome(\n",
    "        service=Service(ChromeDriverManager().install()),\n",
    "        options=options\n",
    "    )\n",
    "    \n",
    "    # 3) Accès à la page\n",
    "    driver.get(url)\n",
    "    \n",
    "    # 4) Patiente un peu pour laisser la page (et scripts éventuels) se charger\n",
    "    time.sleep(1)\n",
    "    \n",
    "    # 5) Récupère le code HTML\n",
    "    html_content = driver.page_source\n",
    "    \n",
    "    # 6) Ferme le navigateur\n",
    "    driver.quit()\n",
    "\n",
    "    return html_content"
   ]
  },
  {
   "cell_type": "markdown",
   "metadata": {},
   "source": [
    "### Fonctions pour récuperer les infos sur un parfum"
   ]
  },
  {
   "cell_type": "code",
   "execution_count": 8,
   "metadata": {},
   "outputs": [],
   "source": [
    "# 1) Nom du parfum\n",
    "def extract_perfume_name(html_content):\n",
    "    \"\"\"Extrait le nom du parfum depuis le contenu HTML\"\"\"\n",
    "    match = re.search(r'/perfume/[^/]+/([^/]+)-\\d+\\.html', html_content)\n",
    "    return match.group(1).replace('-', ' ') if match else None\n",
    "\n",
    "# 2) Marque\n",
    "def extract_brand_name(html_content):\n",
    "    \"\"\"Extrait la marque du parfum depuis le contenu HTML\"\"\"\n",
    "    match = re.search(r'/perfume/([^/]+)/', html_content)\n",
    "    return match.group(1).replace('-', ' ') if match else None\n",
    "\n",
    "#3) Parfumeur\n",
    "def extract_nose(soup):\n",
    "    \"\"\"Extrait le nom du parfumeur\"\"\"\n",
    "    nose_el = soup.select_one('div.cell a[href^=\"/noses/\"]')\n",
    "    return nose_el.get_text(strip=True) if nose_el else None\n",
    "\n",
    "#4) Année de sortie\n",
    "def extract_launch_year(soup):\n",
    "    \"\"\"Extrait l'année de sortie du parfum\"\"\"\n",
    "    title_el = soup.find('title')\n",
    "    if title_el:\n",
    "        possible_year = title_el.get_text(strip=True)[-4:]\n",
    "        if possible_year.isdigit():\n",
    "            return possible_year\n",
    "    return None\n",
    "\n",
    "#5) Perfume rating\n",
    "def extract_rating(soup):\n",
    "    \"\"\"Extrait la note du parfum\"\"\"\n",
    "    rating_el = soup.select_one('span[itemprop=\"ratingValue\"]')\n",
    "    return rating_el.get_text(strip=True) if rating_el else None\n",
    "\n",
    "#6) Nombre de votes\n",
    "def extract_rating_count(soup):\n",
    "    \"\"\"Extrait le nombre de votes\"\"\"\n",
    "    rating_count_el = soup.select_one('span[itemprop=\"ratingCount\"]')\n",
    "    return rating_count_el.get_text(strip=True) if rating_count_el else None\n",
    "\n",
    "#7) Accords principaux\n",
    "def extract_main_accords(soup):\n",
    "    \"\"\"Extrait les accords principaux du parfum\"\"\"\n",
    "    main_accords_el = soup.find_all('div', class_='cell accord-box')\n",
    "    return [element.get_text(strip=True) for element in main_accords_el if element.get_text(strip=True)]\n",
    "\n",
    "#8) Genre\n",
    "def extract_gender(gender_list):\n",
    "    \"\"\"Détermine le genre du parfum en fonction des votes\"\"\"\n",
    "    if not gender_list:\n",
    "        return None\n",
    "    \n",
    "    sum_votes = np.sum([int(element[1]) for element in gender_list])\n",
    "    \n",
    "    if sum_votes > 8:\n",
    "        female_count = int(gender_list[0][1]) + int(gender_list[1][1])\n",
    "        male_count = int(gender_list[3][1]) + int(gender_list[4][1])\n",
    "        unisex_count = 1.2 * int(gender_list[2][1])\n",
    "\n",
    "        if female_count > male_count and female_count > unisex_count:\n",
    "            return \"female\"\n",
    "        elif male_count > unisex_count:\n",
    "            return \"male\"\n",
    "        else:\n",
    "            return \"unisex\"\n",
    "    return None\n",
    "\n",
    "#9) Longévité\n",
    "def extract_longevity(longevity_list):\n",
    "    \"\"\"Détermine la longévité du parfum\"\"\"\n",
    "    if not longevity_list:\n",
    "        return None\n",
    "\n",
    "    sum_votes = np.sum([int(element[1]) for element in longevity_list])\n",
    "    if sum_votes > 8:\n",
    "        longevity = np.argmax([int(element[1]) for element in longevity_list])\n",
    "        return longevity_list[longevity][0]\n",
    "    return None\n",
    "\n",
    "#10) Sillage\n",
    "def extract_sillage(sillage_list):\n",
    "    \"\"\"Détermine le sillage du parfum\"\"\"\n",
    "    if not sillage_list:\n",
    "        return None\n",
    "\n",
    "    sum_votes = np.sum([int(element[1]) for element in sillage_list])\n",
    "    if sum_votes > 8:\n",
    "        sillage = np.argmax([int(element[1]) for element in sillage_list])\n",
    "        return sillage_list[sillage][0]\n",
    "    return None\n",
    "\n",
    "#11) Ressenti du prix\n",
    "def extract_price_feeling(price_feeling_list):\n",
    "    \"\"\"Détermine le ressenti du prix du parfum\"\"\"\n",
    "    if not price_feeling_list:\n",
    "        return None\n",
    "\n",
    "    sum_votes = np.sum([int(element[1]) for element in price_feeling_list])\n",
    "    if sum_votes > 8:\n",
    "        price_feeling = np.argmax([int(element[1]) for element in price_feeling_list])\n",
    "        return price_feeling_list[price_feeling][0]\n",
    "    return None\n",
    "\n",
    "#12) Pyramide olfactive"
   ]
  },
  {
   "cell_type": "markdown",
   "metadata": {},
   "source": [
    "### Fonctions intermediaire pour le tableau avec Gender, Sillage, loongevity et Price feeling"
   ]
  },
  {
   "cell_type": "code",
   "execution_count": 5,
   "metadata": {},
   "outputs": [],
   "source": [
    "def extract_votes(soup):\n",
    "    \"\"\"Extrait les catégories et leurs votes à partir du HTML.\"\"\"\n",
    "    tableau_votes = []\n",
    "    tab_rows = soup.select('div.grid-x.grid-margin-x')  # Sélection des blocs contenant les votes\n",
    "    \n",
    "    for row in tab_rows:\n",
    "        category_el = row.select_one('span.vote-button-name')  # Nom de la catégorie\n",
    "        votes_el = row.select_one('span.vote-button-legend')  # Nombre de votes\n",
    "\n",
    "        if category_el and votes_el:\n",
    "            category = category_el.get_text(strip=True)\n",
    "            votes = votes_el.get_text(strip=True)\n",
    "\n",
    "            # Vérifier si le nombre de votes est bien un chiffre\n",
    "            if votes.isdigit():\n",
    "                tableau_votes.append((category, votes))\n",
    "\n",
    "    return tableau_votes\n",
    "\n",
    "def filter_votes(tableau_votes, labels, remove_first=False, remove_last=False):\n",
    "    \"\"\"\n",
    "    Filtre les votes selon un ensemble de labels et enlève potentiellement le premier ou dernier élément.\n",
    "    \n",
    "    :param tableau_votes: Liste des votes [(catégorie, nombre)]\n",
    "    :param labels: Ensemble des labels à filtrer\n",
    "    :param remove_first: Supprime le premier élément si True\n",
    "    :param remove_last: Supprime le dernier élément si True\n",
    "    :return: Liste filtrée et éventuellement modifiée\n",
    "    \"\"\"\n",
    "    filtered_list = [element for element in tableau_votes if element[0] in labels]\n",
    "\n",
    "    if remove_first and filtered_list:\n",
    "        filtered_list.pop(0)\n",
    "    if remove_last and filtered_list:\n",
    "        filtered_list.pop()\n",
    "    \n",
    "    return filtered_list"
   ]
  },
  {
   "cell_type": "markdown",
   "metadata": {},
   "source": [
    "## Le script"
   ]
  },
  {
   "cell_type": "markdown",
   "metadata": {},
   "source": [
    "### Obtenir le contenu html de la page d'Angel Share"
   ]
  },
  {
   "cell_type": "code",
   "execution_count": 6,
   "metadata": {},
   "outputs": [],
   "source": [
    "url = \"https://www.fragrantica.com/perfume/By-Kilian/Angels-Share-62615.html\"\n",
    "html_content = get_html_non_headless(url)\n",
    "    \n",
    "# Vous pouvez ensuite parser le HTML avec BeautifulSoup\n",
    "soup = BeautifulSoup(html_content, 'html.parser')\n"
   ]
  },
  {
   "cell_type": "markdown",
   "metadata": {},
   "source": [
    "### Mettre les variables d'un parfum dans un dico 'data'"
   ]
  },
  {
   "cell_type": "code",
   "execution_count": 11,
   "metadata": {},
   "outputs": [
    {
     "name": "stdout",
     "output_type": "stream",
     "text": [
      "{'nom_parfum': 'Angels Share', 'marque': 'By Kilian', 'nose': 'Benoist Lapouza', 'launch_year': '2020', 'rating_value': '4.38', 'rating_count': '15,727', 'main_accords': ['woody', 'warm spicy', 'sweet', 'vanilla', 'cinnamon', 'amber', 'powdery'], 'gender': 'unisex', 'longevity': 'long lasting', 'sillage': 'moderate', 'price_feeling': 'overpriced'}\n"
     ]
    }
   ],
   "source": [
    "data = {}\n",
    "\n",
    "tableau_votes = extract_votes(soup)\n",
    "\n",
    "# Définition des groupes\n",
    "longevity_labels = {\"very weak\", \"weak\", \"moderate\", \"long lasting\", \"eternal\"}\n",
    "sillage_labels = {\"intimate\", \"moderate\", \"strong\", \"enormous\"}\n",
    "gender_labels = {\"female\", \"more female\", \"unisex\", \"more male\", \"male\"}\n",
    "price_feeling_labels = {\"way overpriced\", \"overpriced\", \"ok\", \"good value\", \"great value\"}\n",
    "\n",
    "# Séparation des données avec gestion des exclusions spécifiques\n",
    "longevity_list = filter_votes(tableau_votes, longevity_labels, remove_last=True)  # Supprime le dernier élément\n",
    "sillage_list = filter_votes(tableau_votes, sillage_labels, remove_first=True)  # Supprime le premier élément\n",
    "gender_list = filter_votes(tableau_votes, gender_labels)\n",
    "price_feeling_list = filter_votes(tableau_votes, price_feeling_labels)\n",
    "\n",
    "data = {\n",
    "    \"nom_parfum\": extract_perfume_name(html_content),\n",
    "    \"marque\": extract_brand_name(html_content),\n",
    "    \"nose\": extract_nose(soup),\n",
    "    \"launch_year\": extract_launch_year(soup),\n",
    "    \"rating_value\": extract_rating(soup),\n",
    "    \"rating_count\": extract_rating_count(soup),\n",
    "    \"main_accords\": extract_main_accords(soup),\n",
    "    \"gender\": extract_gender(gender_list),\n",
    "    \"longevity\": extract_longevity(longevity_list),\n",
    "    \"sillage\": extract_sillage(sillage_list),\n",
    "    \"price_feeling\": extract_price_feeling(price_feeling_list),\n",
    "}\n",
    "\n",
    "print(data)"
   ]
  }
 ],
 "metadata": {
  "kernelspec": {
   "display_name": "Python 3",
   "language": "python",
   "name": "python3"
  },
  "language_info": {
   "codemirror_mode": {
    "name": "ipython",
    "version": 3
   },
   "file_extension": ".py",
   "mimetype": "text/x-python",
   "name": "python",
   "nbconvert_exporter": "python",
   "pygments_lexer": "ipython3",
   "version": "3.9.13"
  }
 },
 "nbformat": 4,
 "nbformat_minor": 2
}
